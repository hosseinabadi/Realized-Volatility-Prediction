{
 "cells": [
  {
   "cell_type": "markdown",
   "id": "c16b998e",
   "metadata": {},
   "source": [
    "# Sentimental analysis"
   ]
  },
  {
   "cell_type": "code",
   "execution_count": 1,
   "id": "745dc952",
   "metadata": {},
   "outputs": [],
   "source": [
    "import pandas as pd\n",
    "import numpy as np\n",
    "import matplotlib.pyplot as plt\n",
    "import matplotlib.dates as mdates"
   ]
  },
  {
   "cell_type": "code",
   "execution_count": 4,
   "id": "4aa019c5",
   "metadata": {},
   "outputs": [
    {
     "data": {
      "text/html": [
       "<div>\n",
       "<style scoped>\n",
       "    .dataframe tbody tr th:only-of-type {\n",
       "        vertical-align: middle;\n",
       "    }\n",
       "\n",
       "    .dataframe tbody tr th {\n",
       "        vertical-align: top;\n",
       "    }\n",
       "\n",
       "    .dataframe thead th {\n",
       "        text-align: right;\n",
       "    }\n",
       "</style>\n",
       "<table border=\"1\" class=\"dataframe\">\n",
       "  <thead>\n",
       "    <tr style=\"text-align: right;\">\n",
       "      <th></th>\n",
       "      <th>ticker</th>\n",
       "      <th>date</th>\n",
       "      <th>title</th>\n",
       "      <th>source</th>\n",
       "      <th>link_source</th>\n",
       "      <th>positivity_text</th>\n",
       "      <th>neutrality_text</th>\n",
       "      <th>negativity_text</th>\n",
       "      <th>compound_text</th>\n",
       "      <th>stock</th>\n",
       "      <th>gisc_sectors</th>\n",
       "    </tr>\n",
       "  </thead>\n",
       "  <tbody>\n",
       "    <tr>\n",
       "      <th>0</th>\n",
       "      <td>zts</td>\n",
       "      <td>5/22/2013 2:52:27 PM</td>\n",
       "      <td>Pfizer to spin off Zoetis stake to shareholders</td>\n",
       "      <td>Reuters</td>\n",
       "      <td>http://feeds.reuters.com/~r/reuters/businessNe...</td>\n",
       "      <td>0.000</td>\n",
       "      <td>1.000</td>\n",
       "      <td>0.0</td>\n",
       "      <td>0.0000</td>\n",
       "      <td>Zoetis</td>\n",
       "      <td>Health Care</td>\n",
       "    </tr>\n",
       "    <tr>\n",
       "      <th>1</th>\n",
       "      <td>zts</td>\n",
       "      <td>6/24/2013 4:28:40 PM</td>\n",
       "      <td>Pfizer says shareholders snap up remaining Zoe...</td>\n",
       "      <td>Reuters</td>\n",
       "      <td>http://feeds.reuters.com/~r/reuters/businessNe...</td>\n",
       "      <td>0.239</td>\n",
       "      <td>0.761</td>\n",
       "      <td>0.0</td>\n",
       "      <td>0.2960</td>\n",
       "      <td>Zoetis</td>\n",
       "      <td>Health Care</td>\n",
       "    </tr>\n",
       "    <tr>\n",
       "      <th>2</th>\n",
       "      <td>zts</td>\n",
       "      <td>6/25/2015 10:35:18 PM</td>\n",
       "      <td>Valeant offers to buy Zoetis: WSJ</td>\n",
       "      <td>Reuters</td>\n",
       "      <td>http://feeds.reuters.com/~r/reuters/businessNe...</td>\n",
       "      <td>0.000</td>\n",
       "      <td>1.000</td>\n",
       "      <td>0.0</td>\n",
       "      <td>0.0000</td>\n",
       "      <td>Zoetis</td>\n",
       "      <td>Health Care</td>\n",
       "    </tr>\n",
       "    <tr>\n",
       "      <th>3</th>\n",
       "      <td>zts</td>\n",
       "      <td>5/10/2016 12:57:59 AM</td>\n",
       "      <td>Ackman's Pershing Square seeks to sell Zoetis ...</td>\n",
       "      <td>Reuters</td>\n",
       "      <td>http://feeds.reuters.com/~r/reuters/businessNe...</td>\n",
       "      <td>0.167</td>\n",
       "      <td>0.833</td>\n",
       "      <td>0.0</td>\n",
       "      <td>0.2960</td>\n",
       "      <td>Zoetis</td>\n",
       "      <td>Health Care</td>\n",
       "    </tr>\n",
       "    <tr>\n",
       "      <th>4</th>\n",
       "      <td>zts</td>\n",
       "      <td>2/27/2017 1:10:00 PM</td>\n",
       "      <td>Technical Reports on Generic Drugs Stocks -- Z...</td>\n",
       "      <td>PR Newswire</td>\n",
       "      <td>https://markets.businessinsider.com/news/stock...</td>\n",
       "      <td>0.000</td>\n",
       "      <td>1.000</td>\n",
       "      <td>0.0</td>\n",
       "      <td>0.0000</td>\n",
       "      <td>Zoetis</td>\n",
       "      <td>Health Care</td>\n",
       "    </tr>\n",
       "    <tr>\n",
       "      <th>...</th>\n",
       "      <td>...</td>\n",
       "      <td>...</td>\n",
       "      <td>...</td>\n",
       "      <td>...</td>\n",
       "      <td>...</td>\n",
       "      <td>...</td>\n",
       "      <td>...</td>\n",
       "      <td>...</td>\n",
       "      <td>...</td>\n",
       "      <td>...</td>\n",
       "      <td>...</td>\n",
       "    </tr>\n",
       "    <tr>\n",
       "      <th>581702</th>\n",
       "      <td>brk</td>\n",
       "      <td>2013-01-28 17:20:20</td>\n",
       "      <td>Warren Buffett made late-2012 bid for NYSE Eur...</td>\n",
       "      <td>Reuters</td>\n",
       "      <td>http://feeds.reuters.com/~r/reuters/businessNe...</td>\n",
       "      <td>0.000</td>\n",
       "      <td>1.000</td>\n",
       "      <td>0.0</td>\n",
       "      <td>0.0000</td>\n",
       "      <td>Berkshire Hathaway</td>\n",
       "      <td>Financials</td>\n",
       "    </tr>\n",
       "    <tr>\n",
       "      <th>581703</th>\n",
       "      <td>brk</td>\n",
       "      <td>2012-12-12 16:20:04</td>\n",
       "      <td>Berkshire Hathaway buys back $1.2 billion of s...</td>\n",
       "      <td>Reuters</td>\n",
       "      <td>http://feeds.reuters.com/~r/reuters/businessNe...</td>\n",
       "      <td>0.000</td>\n",
       "      <td>1.000</td>\n",
       "      <td>0.0</td>\n",
       "      <td>0.0000</td>\n",
       "      <td>Berkshire Hathaway</td>\n",
       "      <td>Financials</td>\n",
       "    </tr>\n",
       "    <tr>\n",
       "      <th>581704</th>\n",
       "      <td>brk</td>\n",
       "      <td>2007-03-29 20:32:00</td>\n",
       "      <td>Norfolk Southern and BNSF Railway to Test New ...</td>\n",
       "      <td>PR Newswire</td>\n",
       "      <td>https://markets.businessinsider.com/news/stock...</td>\n",
       "      <td>0.000</td>\n",
       "      <td>1.000</td>\n",
       "      <td>0.0</td>\n",
       "      <td>0.0000</td>\n",
       "      <td>Berkshire Hathaway</td>\n",
       "      <td>Financials</td>\n",
       "    </tr>\n",
       "    <tr>\n",
       "      <th>581705</th>\n",
       "      <td>brk</td>\n",
       "      <td>2006-01-24 13:57:00</td>\n",
       "      <td>Burlington Northern Santa Fe Reports Record Al...</td>\n",
       "      <td>PR Newswire</td>\n",
       "      <td>https://markets.businessinsider.com/news/stock...</td>\n",
       "      <td>0.000</td>\n",
       "      <td>1.000</td>\n",
       "      <td>0.0</td>\n",
       "      <td>0.0000</td>\n",
       "      <td>Berkshire Hathaway</td>\n",
       "      <td>Financials</td>\n",
       "    </tr>\n",
       "    <tr>\n",
       "      <th>581706</th>\n",
       "      <td>brk</td>\n",
       "      <td>2005-05-18 15:17:00</td>\n",
       "      <td>Marquis Jet Named 'Best Jet Card Program' By R...</td>\n",
       "      <td>PR Newswire</td>\n",
       "      <td>https://markets.businessinsider.com/news/stock...</td>\n",
       "      <td>0.318</td>\n",
       "      <td>0.682</td>\n",
       "      <td>0.0</td>\n",
       "      <td>0.6369</td>\n",
       "      <td>Berkshire Hathaway</td>\n",
       "      <td>Financials</td>\n",
       "    </tr>\n",
       "  </tbody>\n",
       "</table>\n",
       "<p>581707 rows × 11 columns</p>\n",
       "</div>"
      ],
      "text/plain": [
       "       ticker                   date  \\\n",
       "0         zts   5/22/2013 2:52:27 PM   \n",
       "1         zts   6/24/2013 4:28:40 PM   \n",
       "2         zts  6/25/2015 10:35:18 PM   \n",
       "3         zts  5/10/2016 12:57:59 AM   \n",
       "4         zts   2/27/2017 1:10:00 PM   \n",
       "...       ...                    ...   \n",
       "581702    brk    2013-01-28 17:20:20   \n",
       "581703    brk    2012-12-12 16:20:04   \n",
       "581704    brk    2007-03-29 20:32:00   \n",
       "581705    brk    2006-01-24 13:57:00   \n",
       "581706    brk    2005-05-18 15:17:00   \n",
       "\n",
       "                                                    title       source  \\\n",
       "0         Pfizer to spin off Zoetis stake to shareholders      Reuters   \n",
       "1       Pfizer says shareholders snap up remaining Zoe...      Reuters   \n",
       "2                       Valeant offers to buy Zoetis: WSJ      Reuters   \n",
       "3       Ackman's Pershing Square seeks to sell Zoetis ...      Reuters   \n",
       "4       Technical Reports on Generic Drugs Stocks -- Z...  PR Newswire   \n",
       "...                                                   ...          ...   \n",
       "581702  Warren Buffett made late-2012 bid for NYSE Eur...      Reuters   \n",
       "581703  Berkshire Hathaway buys back $1.2 billion of s...      Reuters   \n",
       "581704  Norfolk Southern and BNSF Railway to Test New ...  PR Newswire   \n",
       "581705  Burlington Northern Santa Fe Reports Record Al...  PR Newswire   \n",
       "581706  Marquis Jet Named 'Best Jet Card Program' By R...  PR Newswire   \n",
       "\n",
       "                                              link_source  positivity_text  \\\n",
       "0       http://feeds.reuters.com/~r/reuters/businessNe...            0.000   \n",
       "1       http://feeds.reuters.com/~r/reuters/businessNe...            0.239   \n",
       "2       http://feeds.reuters.com/~r/reuters/businessNe...            0.000   \n",
       "3       http://feeds.reuters.com/~r/reuters/businessNe...            0.167   \n",
       "4       https://markets.businessinsider.com/news/stock...            0.000   \n",
       "...                                                   ...              ...   \n",
       "581702  http://feeds.reuters.com/~r/reuters/businessNe...            0.000   \n",
       "581703  http://feeds.reuters.com/~r/reuters/businessNe...            0.000   \n",
       "581704  https://markets.businessinsider.com/news/stock...            0.000   \n",
       "581705  https://markets.businessinsider.com/news/stock...            0.000   \n",
       "581706  https://markets.businessinsider.com/news/stock...            0.318   \n",
       "\n",
       "        neutrality_text  negativity_text  compound_text               stock  \\\n",
       "0                 1.000              0.0         0.0000              Zoetis   \n",
       "1                 0.761              0.0         0.2960              Zoetis   \n",
       "2                 1.000              0.0         0.0000              Zoetis   \n",
       "3                 0.833              0.0         0.2960              Zoetis   \n",
       "4                 1.000              0.0         0.0000              Zoetis   \n",
       "...                 ...              ...            ...                 ...   \n",
       "581702            1.000              0.0         0.0000  Berkshire Hathaway   \n",
       "581703            1.000              0.0         0.0000  Berkshire Hathaway   \n",
       "581704            1.000              0.0         0.0000  Berkshire Hathaway   \n",
       "581705            1.000              0.0         0.0000  Berkshire Hathaway   \n",
       "581706            0.682              0.0         0.6369  Berkshire Hathaway   \n",
       "\n",
       "       gisc_sectors  \n",
       "0       Health Care  \n",
       "1       Health Care  \n",
       "2       Health Care  \n",
       "3       Health Care  \n",
       "4       Health Care  \n",
       "...             ...  \n",
       "581702   Financials  \n",
       "581703   Financials  \n",
       "581704   Financials  \n",
       "581705   Financials  \n",
       "581706   Financials  \n",
       "\n",
       "[581707 rows x 11 columns]"
      ]
     },
     "execution_count": 4,
     "metadata": {},
     "output_type": "execute_result"
    }
   ],
   "source": [
    "path = './sp500_news_and_sentimental.csv'\n",
    "df = pd.read_csv(path)\n",
    "df.drop(columns = ['Unnamed: 0'], axis=1, inplace=True)\n",
    "df"
   ]
  },
  {
   "cell_type": "code",
   "execution_count": 5,
   "id": "3f853dc0",
   "metadata": {},
   "outputs": [
    {
     "name": "stderr",
     "output_type": "stream",
     "text": [
      "/var/folders/tp/_pk1n96524l_vsmbtrwqn7jc0000gn/T/ipykernel_13749/3876718612.py:2: UserWarning: Could not infer format, so each element will be parsed individually, falling back to `dateutil`. To ensure parsing is consistent and as-expected, please specify a format.\n",
      "  df['date'] = pd.to_datetime(df['date'])\n"
     ]
    },
    {
     "data": {
      "text/plain": [
       "(581707, 13)"
      ]
     },
     "execution_count": 5,
     "metadata": {},
     "output_type": "execute_result"
    }
   ],
   "source": [
    "# convert into datetime for the plots\n",
    "df['date'] = pd.to_datetime(df['date'])\n",
    "df['year'] = df['date'].dt.year\n",
    "df['month'] = df['date'].dt.month\n",
    "df.shape"
   ]
  },
  {
   "cell_type": "code",
   "execution_count": 6,
   "id": "8bd5d913",
   "metadata": {},
   "outputs": [
    {
     "data": {
      "text/plain": [
       "(581707, 13)"
      ]
     },
     "execution_count": 6,
     "metadata": {},
     "output_type": "execute_result"
    }
   ],
   "source": [
    "# replace empty cells with NaN in order to drop them\n",
    "df.replace('', np.nan, inplace=True)\n",
    "df.dropna(inplace=True)\n",
    "df.shape"
   ]
  },
  {
   "cell_type": "markdown",
   "id": "31afa96f",
   "metadata": {},
   "source": [
    "# Sentimental for each year"
   ]
  },
  {
   "cell_type": "code",
   "execution_count": 7,
   "id": "b5f4f795",
   "metadata": {},
   "outputs": [],
   "source": [
    "# compute the means for each year\n",
    "mean_positivity_year = df.groupby('year')['positivity_text'].mean().reset_index()\n",
    "mean_neutrality_year = df.groupby('year')['neutrality_text'].mean().reset_index()\n",
    "mean_negativity_year = df.groupby('year')['negativity_text'].mean().reset_index()\n",
    "mean_compound_year = df.groupby('year')['compound_text'].mean().reset_index()"
   ]
  },
  {
   "cell_type": "code",
   "execution_count": 8,
   "id": "b19d8da3",
   "metadata": {},
   "outputs": [
    {
     "data": {
      "image/png": "[encoded data removed]",
      "text/plain": [
       "<Figure size 1400x400 with 1 Axes>"
      ]
     },
     "metadata": {},
     "output_type": "display_data"
    }
   ],
   "source": [
    "# Create a Figure and an Axes object with larger size\n",
    "fig, ax = plt.subplots(figsize=(14,4))\n",
    "\n",
    "# Plot mean positivity\n",
    "ax.plot(mean_positivity_year['year'], mean_positivity_year['positivity_text'], marker='o', linestyle='-', color='blue', label='Mean Positive Sentiment')\n",
    "\n",
    "# Plot mean neutrality\n",
    "ax.plot(mean_neutrality_year['year'], mean_neutrality_year['neutrality_text'], marker='o', linestyle='-', color='green', label='Mean Neutrality Sentiment')\n",
    "\n",
    "# Plot mean negativity (display as negative values)\n",
    "ax.plot(mean_negativity_year['year'], -mean_negativity_year['negativity_text'], marker='o', linestyle='-', color='red', label='Mean Negative Sentiment')\n",
    "\n",
    "# Plot mean compound\n",
    "ax.plot(mean_compound_year['year'], mean_compound_year['compound_text'], marker='o', linestyle='-', color='orange', label='Mean Compound Sentiment')\n",
    "\n",
    "# Add a legend\n",
    "ax.legend(loc='upper left', bbox_to_anchor=(1, 1))\n",
    "\n",
    "# Add a light grey shaded area from -0.5 to +0.5 on the y-axis\n",
    "ax.axhspan(-0.5, 0.5, color='lightgrey', alpha=0.3)\n",
    "\n",
    "# Labeling and titling\n",
    "ax.set_xlabel('Year')\n",
    "ax.set_ylabel('Mean Sentiment Score')\n",
    "ax.set_title('Mean Sentiment Scores by Year')\n",
    "\n",
    "# Set x-axis ticks to display every year\n",
    "ax.set_xticks(mean_positivity_year['year'])\n",
    "\n",
    "# Adjust layout\n",
    "plt.tight_layout()\n",
    "\n",
    "# Display the plot\n",
    "plt.show()\n"
   ]
  },
  {
   "cell_type": "code",
   "execution_count": 9,
   "id": "afc0ebf3",
   "metadata": {
    "scrolled": true
   },
   "outputs": [
    {
     "name": "stdout",
     "output_type": "stream",
     "text": [
      "\\begin{tabular}{lrrrrrrrr}\n",
      "\\toprule\n",
      " & \\multicolumn{8}{r}{positivity_text} \\\\\n",
      " & count & mean & std & min & 25% & 50% & 75% & max \\\\\n",
      "year &  &  &  &  &  &  &  &  \\\\\n",
      "\\midrule\n",
      "2005 & 177.0 & 0.1 & 0.1 & 0.0 & 0.0 & 0.0 & 0.2 & 0.5 \\\\\n",
      "2006 & 139.0 & 0.1 & 0.1 & 0.0 & 0.0 & 0.0 & 0.2 & 0.5 \\\\\n",
      "2007 & 113.0 & 0.1 & 0.2 & 0.0 & 0.0 & 0.0 & 0.2 & 0.5 \\\\\n",
      "2008 & 57.0 & 0.1 & 0.2 & 0.0 & 0.0 & 0.1 & 0.3 & 0.7 \\\\\n",
      "2011 & 502.0 & 0.1 & 0.1 & 0.0 & 0.0 & 0.0 & 0.2 & 0.7 \\\\\n",
      "2012 & 766.0 & 0.1 & 0.2 & 0.0 & 0.0 & 0.0 & 0.2 & 0.7 \\\\\n",
      "2013 & 3288.0 & 0.1 & 0.1 & 0.0 & 0.0 & 0.0 & 0.2 & 0.8 \\\\\n",
      "2014 & 2882.0 & 0.1 & 0.1 & 0.0 & 0.0 & 0.0 & 0.2 & 0.7 \\\\\n",
      "2015 & 2321.0 & 0.1 & 0.2 & 0.0 & 0.0 & 0.0 & 0.2 & 0.8 \\\\\n",
      "2016 & 10026.0 & 0.1 & 0.1 & 0.0 & 0.0 & 0.0 & 0.2 & 0.7 \\\\\n",
      "2017 & 67248.0 & 0.1 & 0.1 & 0.0 & 0.0 & 0.0 & 0.2 & 0.8 \\\\\n",
      "2018 & 38970.0 & 0.1 & 0.1 & 0.0 & 0.0 & 0.0 & 0.2 & 0.7 \\\\\n",
      "2019 & 52557.0 & 0.1 & 0.1 & 0.0 & 0.0 & 0.0 & 0.2 & 0.8 \\\\\n",
      "2020 & 69851.0 & 0.1 & 0.1 & 0.0 & 0.0 & 0.0 & 0.2 & 0.8 \\\\\n",
      "2021 & 78792.0 & 0.1 & 0.1 & 0.0 & 0.0 & 0.0 & 0.2 & 0.7 \\\\\n",
      "2022 & 91271.0 & 0.1 & 0.1 & 0.0 & 0.0 & 0.0 & 0.2 & 0.8 \\\\\n",
      "2023 & 112009.0 & 0.1 & 0.1 & 0.0 & 0.0 & 0.0 & 0.2 & 0.8 \\\\\n",
      "2024 & 50738.0 & 0.1 & 0.1 & 0.0 & 0.0 & 0.0 & 0.2 & 0.7 \\\\\n",
      "\\bottomrule\n",
      "\\end{tabular}\n",
      "\n"
     ]
    }
   ],
   "source": [
    "# summary statistics for the yearly positivity\n",
    "df_positivity_year_latex = df.drop(columns=['stock', 'date', 'title', 'source', 'link_source', 'month','neutrality_text', \n",
    "                 'negativity_text', 'compound_text' ]).groupby('year').describe()\n",
    "\n",
    "# print LaTeX\n",
    "print(df_positivity_year_latex.to_latex(\n",
    "                  formatters={\"name\": str.upper},\n",
    "                  float_format=\"{:.1f}\".format,))"
   ]
  },
  {
   "cell_type": "code",
   "execution_count": 10,
   "id": "e2b210fb",
   "metadata": {
    "scrolled": false
   },
   "outputs": [
    {
     "name": "stdout",
     "output_type": "stream",
     "text": [
      "\\begin{tabular}{lrrrrrrrr}\n",
      "\\toprule\n",
      " & \\multicolumn{8}{r}{neutrality_text} \\\\\n",
      " & count & mean & std & min & 25% & 50% & 75% & max \\\\\n",
      "year &  &  &  &  &  &  &  &  \\\\\n",
      "\\midrule\n",
      "2005 & 177.0 & 0.9 & 0.2 & 0.3 & 0.7 & 1.0 & 1.0 & 1.0 \\\\\n",
      "2006 & 139.0 & 0.9 & 0.1 & 0.5 & 0.8 & 1.0 & 1.0 & 1.0 \\\\\n",
      "2007 & 113.0 & 0.9 & 0.2 & 0.5 & 0.8 & 1.0 & 1.0 & 1.0 \\\\\n",
      "2008 & 57.0 & 0.8 & 0.2 & 0.3 & 0.7 & 0.8 & 1.0 & 1.0 \\\\\n",
      "2011 & 502.0 & 0.8 & 0.2 & 0.3 & 0.7 & 0.8 & 1.0 & 1.0 \\\\\n",
      "2012 & 766.0 & 0.8 & 0.2 & 0.3 & 0.7 & 0.8 & 1.0 & 1.0 \\\\\n",
      "2013 & 3288.0 & 0.8 & 0.2 & 0.2 & 0.7 & 0.8 & 1.0 & 1.0 \\\\\n",
      "2014 & 2882.0 & 0.8 & 0.2 & 0.2 & 0.7 & 0.8 & 1.0 & 1.0 \\\\\n",
      "2015 & 2321.0 & 0.8 & 0.2 & 0.2 & 0.7 & 0.8 & 1.0 & 1.0 \\\\\n",
      "2016 & 10026.0 & 0.9 & 0.1 & 0.2 & 0.8 & 0.9 & 1.0 & 1.0 \\\\\n",
      "2017 & 67248.0 & 0.9 & 0.1 & 0.2 & 0.8 & 0.9 & 1.0 & 1.0 \\\\\n",
      "2018 & 38970.0 & 0.8 & 0.2 & 0.2 & 0.7 & 0.9 & 1.0 & 1.0 \\\\\n",
      "2019 & 52557.0 & 0.8 & 0.2 & 0.2 & 0.7 & 0.8 & 1.0 & 1.0 \\\\\n",
      "2020 & 69851.0 & 0.8 & 0.2 & 0.2 & 0.7 & 0.8 & 1.0 & 1.0 \\\\\n",
      "2021 & 78792.0 & 0.9 & 0.2 & 0.2 & 0.8 & 0.9 & 1.0 & 1.0 \\\\\n",
      "2022 & 91271.0 & 0.9 & 0.2 & 0.2 & 0.7 & 0.9 & 1.0 & 1.0 \\\\\n",
      "2023 & 112009.0 & 0.9 & 0.2 & 0.2 & 0.8 & 0.9 & 1.0 & 1.0 \\\\\n",
      "2024 & 50738.0 & 0.9 & 0.2 & 0.2 & 0.7 & 0.9 & 1.0 & 1.0 \\\\\n",
      "\\bottomrule\n",
      "\\end{tabular}\n",
      "\n"
     ]
    }
   ],
   "source": [
    "# summary statistics for the yearly neutrality\n",
    "df_neutrality_year_latex = df.drop(columns=['stock', 'date', 'title', 'source', 'link_source', 'month','positivity_text',\n",
    "                 'negativity_text', 'compound_text' ]).groupby('year').describe()\n",
    "# print LaTeX\n",
    "print(df_neutrality_year_latex.to_latex(\n",
    "                  formatters={\"name\": str.upper},\n",
    "                  float_format=\"{:.1f}\".format,))"
   ]
  },
  {
   "cell_type": "code",
   "execution_count": 11,
   "id": "9d6dba3e",
   "metadata": {
    "scrolled": true
   },
   "outputs": [
    {
     "name": "stdout",
     "output_type": "stream",
     "text": [
      "\\begin{tabular}{lrrrrrrrr}\n",
      "\\toprule\n",
      " & \\multicolumn{8}{r}{negativity_text} \\\\\n",
      " & count & mean & std & min & 25% & 50% & 75% & max \\\\\n",
      "year &  &  &  &  &  &  &  &  \\\\\n",
      "\\midrule\n",
      "2005 & 177.0 & 0.0 & 0.1 & 0.0 & 0.0 & 0.0 & 0.0 & 0.4 \\\\\n",
      "2006 & 139.0 & 0.0 & 0.1 & 0.0 & 0.0 & 0.0 & 0.0 & 0.4 \\\\\n",
      "2007 & 113.0 & 0.0 & 0.0 & 0.0 & 0.0 & 0.0 & 0.0 & 0.3 \\\\\n",
      "2008 & 57.0 & 0.0 & 0.1 & 0.0 & 0.0 & 0.0 & 0.0 & 0.3 \\\\\n",
      "2011 & 502.0 & 0.1 & 0.1 & 0.0 & 0.0 & 0.0 & 0.2 & 0.5 \\\\\n",
      "2012 & 766.0 & 0.1 & 0.1 & 0.0 & 0.0 & 0.0 & 0.2 & 0.6 \\\\\n",
      "2013 & 3288.0 & 0.1 & 0.1 & 0.0 & 0.0 & 0.0 & 0.2 & 0.7 \\\\\n",
      "2014 & 2882.0 & 0.1 & 0.1 & 0.0 & 0.0 & 0.0 & 0.2 & 0.6 \\\\\n",
      "2015 & 2321.0 & 0.1 & 0.1 & 0.0 & 0.0 & 0.0 & 0.1 & 0.6 \\\\\n",
      "2016 & 10026.0 & 0.1 & 0.1 & 0.0 & 0.0 & 0.0 & 0.1 & 0.7 \\\\\n",
      "2017 & 67248.0 & 0.0 & 0.1 & 0.0 & 0.0 & 0.0 & 0.0 & 0.7 \\\\\n",
      "2018 & 38970.0 & 0.0 & 0.1 & 0.0 & 0.0 & 0.0 & 0.0 & 0.7 \\\\\n",
      "2019 & 52557.0 & 0.1 & 0.1 & 0.0 & 0.0 & 0.0 & 0.1 & 0.6 \\\\\n",
      "2020 & 69851.0 & 0.1 & 0.1 & 0.0 & 0.0 & 0.0 & 0.0 & 0.7 \\\\\n",
      "2021 & 78792.0 & 0.0 & 0.1 & 0.0 & 0.0 & 0.0 & 0.0 & 0.7 \\\\\n",
      "2022 & 91271.0 & 0.0 & 0.1 & 0.0 & 0.0 & 0.0 & 0.0 & 0.7 \\\\\n",
      "2023 & 112009.0 & 0.0 & 0.1 & 0.0 & 0.0 & 0.0 & 0.0 & 0.7 \\\\\n",
      "2024 & 50738.0 & 0.0 & 0.1 & 0.0 & 0.0 & 0.0 & 0.0 & 0.7 \\\\\n",
      "\\bottomrule\n",
      "\\end{tabular}\n",
      "\n"
     ]
    }
   ],
   "source": [
    "# summary statistics for the yearly negativity\n",
    "df_negativity_year_latex = df.drop(columns=['stock', 'date', 'title', 'source', 'link_source', \n",
    "                                            'month','positivity_text','neutrality_text', 'compound_text'\n",
    "                                           ]).groupby('year').describe()\n",
    "# print LaTeX\n",
    "print(df_negativity_year_latex.to_latex(\n",
    "                  formatters={\"name\": str.upper},\n",
    "                  float_format=\"{:.1f}\".format,))"
   ]
  },
  {
   "cell_type": "markdown",
   "id": "0fcd9b49",
   "metadata": {},
   "source": [
    "# Sentimental for each month"
   ]
  },
  {
   "cell_type": "code",
   "execution_count": 12,
   "id": "fd7e3471",
   "metadata": {},
   "outputs": [],
   "source": [
    "# compute the means for each month\n",
    "mean_positivity_month = df.groupby('month')['positivity_text'].mean().reset_index()\n",
    "mean_neutrality_month = df.groupby('month')['neutrality_text'].mean().reset_index()\n",
    "mean_negativity_month = df.groupby('month')['negativity_text'].mean().reset_index()\n",
    "mean_compound_month = df.groupby('month')['compound_text'].mean().reset_index()"
   ]
  },
  {
   "cell_type": "code",
   "execution_count": 13,
   "id": "22dac85d",
   "metadata": {},
   "outputs": [
    {
     "data": {
      "image/png": "[encoded data removed]",
      "text/plain": [
       "<Figure size 1200x600 with 1 Axes>"
      ]
     },
     "metadata": {},
     "output_type": "display_data"
    }
   ],
   "source": [
    "# Create a Figure and an Axes object with larger size\n",
    "fig, ax = plt.subplots(figsize=(12, 6))\n",
    "\n",
    "# Plot mean positivity\n",
    "ax.plot(mean_positivity_month['month'], mean_positivity_month['positivity_text'], marker='o', linestyle='-', color='blue', label='Mean Positive Sentiment')\n",
    "\n",
    "# Plot mean neutrality\n",
    "ax.plot(mean_neutrality_month['month'], mean_neutrality_month['neutrality_text'], marker='o', linestyle='-', color='green', label='Mean Neutrality Sentiment')\n",
    "\n",
    "# Plot mean negativity (display as negative values)\n",
    "ax.plot(mean_negativity_month['month'], -mean_negativity_month['negativity_text'], marker='o', linestyle='-', color='red', label='Mean Negative Sentiment')\n",
    "\n",
    "# Plot mean compound\n",
    "ax.plot(mean_compound_month['month'], mean_compound_month['compound_text'], marker='o', linestyle='-', color='orange', label='Mean Compound Sentiment')\n",
    "\n",
    "# Add a legend\n",
    "ax.legend(loc='upper left', bbox_to_anchor=(1, 1))\n",
    "\n",
    "# Add a light grey shaded area from -0.5 to +0.5 on the y-axis\n",
    "ax.axhspan(-0.5, 0.5, color='lightgrey', alpha=0.3)\n",
    "\n",
    "# Labeling and titling\n",
    "ax.set_xlabel('Month')\n",
    "ax.set_ylabel('Mean Sentiment Score')\n",
    "ax.set_title('Mean Sentiment Scores by Month')\n",
    "\n",
    "# Set x-axis ticks to display every month\n",
    "ax.set_xticks(mean_positivity_month['month'])\n",
    "ax.set_xticklabels(['Jan', 'Feb', 'Mar', 'Apr', 'May', 'Jun', 'Jul', 'Aug', 'Sep', 'Oct', 'Nov', 'Dec'])\n",
    "\n",
    "# Adjust layout\n",
    "plt.tight_layout()\n",
    "\n",
    "# Display the plot\n",
    "plt.show()"
   ]
  },
  {
   "cell_type": "code",
   "execution_count": 14,
   "id": "3f210208",
   "metadata": {},
   "outputs": [
    {
     "name": "stdout",
     "output_type": "stream",
     "text": [
      "\\begin{tabular}{lrrrrrrrr}\n",
      "\\toprule\n",
      " & \\multicolumn{8}{r}{positivity_text} \\\\\n",
      " & count & mean & std & min & 25% & 50% & 75% & max \\\\\n",
      "month &  &  &  &  &  &  &  &  \\\\\n",
      "\\midrule\n",
      "1 & 49826.0 & 0.1 & 0.1 & 0.0 & 0.0 & 0.0 & 0.2 & 0.8 \\\\\n",
      "2 & 53596.0 & 0.1 & 0.1 & 0.0 & 0.0 & 0.0 & 0.2 & 0.8 \\\\\n",
      "3 & 51201.0 & 0.1 & 0.1 & 0.0 & 0.0 & 0.0 & 0.2 & 0.8 \\\\\n",
      "4 & 63913.0 & 0.1 & 0.1 & 0.0 & 0.0 & 0.0 & 0.2 & 0.8 \\\\\n",
      "5 & 52063.0 & 0.1 & 0.1 & 0.0 & 0.0 & 0.0 & 0.2 & 0.8 \\\\\n",
      "6 & 44105.0 & 0.1 & 0.1 & 0.0 & 0.0 & 0.0 & 0.2 & 0.8 \\\\\n",
      "7 & 48585.0 & 0.1 & 0.1 & 0.0 & 0.0 & 0.0 & 0.2 & 0.8 \\\\\n",
      "8 & 42119.0 & 0.1 & 0.1 & 0.0 & 0.0 & 0.0 & 0.2 & 0.8 \\\\\n",
      "9 & 37643.0 & 0.1 & 0.1 & 0.0 & 0.0 & 0.0 & 0.2 & 0.7 \\\\\n",
      "10 & 55372.0 & 0.1 & 0.1 & 0.0 & 0.0 & 0.0 & 0.2 & 0.8 \\\\\n",
      "11 & 44777.0 & 0.1 & 0.1 & 0.0 & 0.0 & 0.0 & 0.2 & 0.8 \\\\\n",
      "12 & 38507.0 & 0.1 & 0.1 & 0.0 & 0.0 & 0.0 & 0.2 & 0.8 \\\\\n",
      "\\bottomrule\n",
      "\\end{tabular}\n",
      "\n"
     ]
    }
   ],
   "source": [
    "# summary statistics for the monthly positivity\n",
    "df_positivity_month_latex = df.drop(columns=['stock', 'date', 'title', 'source', 'link_source', \n",
    "                                            'year','negativity_text','neutrality_text', 'compound_text'\n",
    "                                           ]).groupby('month').describe()\n",
    "# print LaTeX\n",
    "print(df_positivity_month_latex.to_latex(\n",
    "                  formatters={\"name\": str.upper},\n",
    "                  float_format=\"{:.1f}\".format,))"
   ]
  },
  {
   "cell_type": "code",
   "execution_count": 15,
   "id": "7134409f",
   "metadata": {},
   "outputs": [
    {
     "name": "stdout",
     "output_type": "stream",
     "text": [
      "\\begin{tabular}{lrrrrrrrr}\n",
      "\\toprule\n",
      " & \\multicolumn{8}{r}{neutrality_text} \\\\\n",
      " & count & mean & std & min & 25% & 50% & 75% & max \\\\\n",
      "month &  &  &  &  &  &  &  &  \\\\\n",
      "\\midrule\n",
      "1 & 49826.0 & 0.9 & 0.2 & 0.2 & 0.7 & 0.9 & 1.0 & 1.0 \\\\\n",
      "2 & 53596.0 & 0.9 & 0.2 & 0.2 & 0.7 & 0.9 & 1.0 & 1.0 \\\\\n",
      "3 & 51201.0 & 0.8 & 0.2 & 0.2 & 0.7 & 0.9 & 1.0 & 1.0 \\\\\n",
      "4 & 63913.0 & 0.9 & 0.2 & 0.2 & 0.8 & 0.9 & 1.0 & 1.0 \\\\\n",
      "5 & 52063.0 & 0.9 & 0.2 & 0.2 & 0.8 & 0.9 & 1.0 & 1.0 \\\\\n",
      "6 & 44105.0 & 0.9 & 0.2 & 0.2 & 0.7 & 0.9 & 1.0 & 1.0 \\\\\n",
      "7 & 48585.0 & 0.9 & 0.2 & 0.2 & 0.8 & 0.9 & 1.0 & 1.0 \\\\\n",
      "8 & 42119.0 & 0.9 & 0.2 & 0.2 & 0.7 & 0.9 & 1.0 & 1.0 \\\\\n",
      "9 & 37643.0 & 0.9 & 0.2 & 0.2 & 0.7 & 0.9 & 1.0 & 1.0 \\\\\n",
      "10 & 55372.0 & 0.9 & 0.2 & 0.2 & 0.7 & 0.9 & 1.0 & 1.0 \\\\\n",
      "11 & 44777.0 & 0.9 & 0.2 & 0.2 & 0.7 & 0.9 & 1.0 & 1.0 \\\\\n",
      "12 & 38507.0 & 0.9 & 0.2 & 0.2 & 0.7 & 0.9 & 1.0 & 1.0 \\\\\n",
      "\\bottomrule\n",
      "\\end{tabular}\n",
      "\n"
     ]
    }
   ],
   "source": [
    "# summary statistics for the monthly neutrality\n",
    "df_neutrality_month_latex = df.drop(columns=['stock', 'date', 'title', 'source', 'link_source', \n",
    "                                            'year','negativity_text','positivity_text', 'compound_text'\n",
    "                                           ]).groupby('month').describe()\n",
    "# print LaTeX\n",
    "print(df_neutrality_month_latex.to_latex(\n",
    "                  formatters={\"name\": str.upper},\n",
    "                  float_format=\"{:.1f}\".format,))"
   ]
  },
  {
   "cell_type": "code",
   "execution_count": 16,
   "id": "bfdf0214",
   "metadata": {},
   "outputs": [
    {
     "name": "stdout",
     "output_type": "stream",
     "text": [
      "\\begin{tabular}{lrrrrrrrr}\n",
      "\\toprule\n",
      " & \\multicolumn{8}{r}{negativity_text} \\\\\n",
      " & count & mean & std & min & 25% & 50% & 75% & max \\\\\n",
      "month &  &  &  &  &  &  &  &  \\\\\n",
      "\\midrule\n",
      "1 & 49826.0 & 0.0 & 0.1 & 0.0 & 0.0 & 0.0 & 0.0 & 0.7 \\\\\n",
      "2 & 53596.0 & 0.0 & 0.1 & 0.0 & 0.0 & 0.0 & 0.0 & 0.7 \\\\\n",
      "3 & 51201.0 & 0.1 & 0.1 & 0.0 & 0.0 & 0.0 & 0.0 & 0.7 \\\\\n",
      "4 & 63913.0 & 0.0 & 0.1 & 0.0 & 0.0 & 0.0 & 0.0 & 0.7 \\\\\n",
      "5 & 52063.0 & 0.0 & 0.1 & 0.0 & 0.0 & 0.0 & 0.0 & 0.6 \\\\\n",
      "6 & 44105.0 & 0.0 & 0.1 & 0.0 & 0.0 & 0.0 & 0.0 & 0.7 \\\\\n",
      "7 & 48585.0 & 0.0 & 0.1 & 0.0 & 0.0 & 0.0 & 0.0 & 0.7 \\\\\n",
      "8 & 42119.0 & 0.0 & 0.1 & 0.0 & 0.0 & 0.0 & 0.0 & 0.7 \\\\\n",
      "9 & 37643.0 & 0.0 & 0.1 & 0.0 & 0.0 & 0.0 & 0.0 & 0.7 \\\\\n",
      "10 & 55372.0 & 0.0 & 0.1 & 0.0 & 0.0 & 0.0 & 0.0 & 0.7 \\\\\n",
      "11 & 44777.0 & 0.0 & 0.1 & 0.0 & 0.0 & 0.0 & 0.0 & 0.7 \\\\\n",
      "12 & 38507.0 & 0.0 & 0.1 & 0.0 & 0.0 & 0.0 & 0.0 & 0.7 \\\\\n",
      "\\bottomrule\n",
      "\\end{tabular}\n",
      "\n"
     ]
    }
   ],
   "source": [
    "# summary statistics for the monthly negativity\n",
    "df_negativity_month_latex = df.drop(columns=['stock', 'date', 'title', 'source', 'link_source', \n",
    "                                            'year','positivity_text','neutrality_text', 'compound_text'\n",
    "                                           ]).groupby('month').describe()\n",
    "# print LaTeX\n",
    "print(df_negativity_month_latex.to_latex(\n",
    "                  formatters={\"name\": str.upper},\n",
    "                  float_format=\"{:.1f}\".format,))"
   ]
  },
  {
   "cell_type": "markdown",
   "id": "5f8e976e",
   "metadata": {},
   "source": [
    "# Sentimental for top50 stocks in the SP500"
   ]
  },
  {
   "cell_type": "code",
   "execution_count": 23,
   "id": "91a86242",
   "metadata": {
    "scrolled": true
   },
   "outputs": [
    {
     "data": {
      "text/html": [
       "<div>\n",
       "<style scoped>\n",
       "    .dataframe tbody tr th:only-of-type {\n",
       "        vertical-align: middle;\n",
       "    }\n",
       "\n",
       "    .dataframe tbody tr th {\n",
       "        vertical-align: top;\n",
       "    }\n",
       "\n",
       "    .dataframe thead th {\n",
       "        text-align: right;\n",
       "    }\n",
       "</style>\n",
       "<table border=\"1\" class=\"dataframe\">\n",
       "  <thead>\n",
       "    <tr style=\"text-align: right;\">\n",
       "      <th></th>\n",
       "      <th>ticker</th>\n",
       "      <th>weight</th>\n",
       "    </tr>\n",
       "  </thead>\n",
       "  <tbody>\n",
       "    <tr>\n",
       "      <th>0</th>\n",
       "      <td>aapl</td>\n",
       "      <td>0.100563</td>\n",
       "    </tr>\n",
       "    <tr>\n",
       "      <th>1</th>\n",
       "      <td>msft</td>\n",
       "      <td>0.085854</td>\n",
       "    </tr>\n",
       "    <tr>\n",
       "      <th>2</th>\n",
       "      <td>amzn</td>\n",
       "      <td>0.067343</td>\n",
       "    </tr>\n",
       "    <tr>\n",
       "      <th>3</th>\n",
       "      <td>brk</td>\n",
       "      <td>0.039403</td>\n",
       "    </tr>\n",
       "    <tr>\n",
       "      <th>4</th>\n",
       "      <td>goog</td>\n",
       "      <td>0.035115</td>\n",
       "    </tr>\n",
       "  </tbody>\n",
       "</table>\n",
       "</div>"
      ],
      "text/plain": [
       "  ticker    weight\n",
       "0   aapl  0.100563\n",
       "1   msft  0.085854\n",
       "2   amzn  0.067343\n",
       "3    brk  0.039403\n",
       "4   goog  0.035115"
      ]
     },
     "execution_count": 23,
     "metadata": {},
     "output_type": "execute_result"
    }
   ],
   "source": [
    "df_top50 = pd.read_csv('./weights_sp500.csv')\n",
    "df_top50.rename(columns={'Unnamed: 0' : 'stock'}, inplace=True)\n",
    "df_top50['stock'] = df_top50['stock'].str.lower()\n",
    "df_top50.rename(columns={'stock':'ticker'}, inplace = True)\n",
    "df_top50.head()"
   ]
  },
  {
   "cell_type": "markdown",
   "id": "aa3cd58f",
   "metadata": {},
   "source": [
    "Create weight column, which weight computed previously"
   ]
  },
  {
   "cell_type": "code",
   "execution_count": 24,
   "id": "bc2a0997",
   "metadata": {},
   "outputs": [],
   "source": [
    "# Perform left merge to assign weights\n",
    "df_merged = pd.merge(df, df_top50, on='ticker', how='left')\n",
    "\n",
    "# Fill NaN weights with 0\n",
    "df_merged['weight'].fillna(0, inplace=True)\n"
   ]
  },
  {
   "cell_type": "code",
   "execution_count": 26,
   "id": "0b2363d8",
   "metadata": {},
   "outputs": [],
   "source": [
    "df_merged.to_csv('sp500_news_and_sentimental_weights.csv')"
   ]
  }
 ],
 "metadata": {
  "kernelspec": {
   "display_name": "Python 3 (ipykernel)",
   "language": "python",
   "name": "python3"
  },
  "language_info": {
   "codemirror_mode": {
    "name": "ipython",
    "version": 3
   },
   "file_extension": ".py",
   "mimetype": "text/x-python",
   "name": "python",
   "nbconvert_exporter": "python",
   "pygments_lexer": "ipython3",
   "version": "3.11.7"
  }
 },
 "nbformat": 4,
 "nbformat_minor": 5
}
