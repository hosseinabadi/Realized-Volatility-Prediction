{
 "cells": [
  {
   "metadata": {
    "ExecuteTime": {
     "end_time": "2024-05-19T11:15:55.656132Z",
     "start_time": "2024-05-19T11:15:55.387129Z"
    }
   },
   "cell_type": "code",
   "source": [
    "import pandas as pd\n",
    "from utils import *\n",
    "import matplotlib.pyplot as plt\n",
    "import warnings\n",
    "import torch\n",
    "from sklearn.preprocessing import MinMaxScaler\n",
    "from vol_models import LSTMModel\n",
    "from sklearn.metrics import mean_squared_error\n",
    "from itertools import product\n",
    "from tqdm import tqdm\n",
    "\n",
    "warnings.filterwarnings(\"ignore\")\n",
    "%load_ext autoreload\n",
    "%autoreload 2\n"
   ],
   "id": "3c5a920a71dee86b",
   "outputs": [
    {
     "name": "stdout",
     "output_type": "stream",
     "text": [
      "The autoreload extension is already loaded. To reload it, use:\n",
      "  %reload_ext autoreload\n"
     ]
    }
   ],
   "execution_count": 93
  },
  {
   "metadata": {},
   "cell_type": "markdown",
   "source": "Importing Libraries",
   "id": "9fb69b8507599a6d"
  },
  {
   "metadata": {
    "ExecuteTime": {
     "end_time": "2024-05-19T11:15:56.071971Z",
     "start_time": "2024-05-19T11:15:55.747969Z"
    }
   },
   "cell_type": "code",
   "source": [
    "import pandas as pd\n",
    "from utils import *\n",
    "import matplotlib.pyplot as plt\n",
    "import warnings\n",
    "warnings.filterwarnings(\"ignore\")\n",
    "%load_ext autoreload\n",
    "%autoreload 2\n"
   ],
   "id": "baa1dab7cb85240e",
   "outputs": [
    {
     "name": "stdout",
     "output_type": "stream",
     "text": [
      "The autoreload extension is already loaded. To reload it, use:\n",
      "  %reload_ext autoreload\n"
     ]
    }
   ],
   "execution_count": 94
  },
  {
   "metadata": {},
   "cell_type": "markdown",
   "source": "Read the data",
   "id": "52b38870aa063359"
  },
  {
   "metadata": {
    "ExecuteTime": {
     "end_time": "2024-05-19T11:15:56.506712Z",
     "start_time": "2024-05-19T11:15:56.071971Z"
    }
   },
   "cell_type": "code",
   "source": [
    "data = pd.read_csv(\"Data/SPX/SPX_final_data.csv\", index_col=0, parse_dates=True)\n",
    "data = data.loc['2016':]\n",
    "data.head()"
   ],
   "id": "ea1fd54ef40f0944",
   "outputs": [
    {
     "data": {
      "text/plain": [
       "                 rv5    return\n",
       "2016-01-04  0.018644 -0.015121\n",
       "2016-01-05  0.007912  0.001960\n",
       "2016-01-06  0.014094 -0.013133\n",
       "2016-01-07  0.019777 -0.024133\n",
       "2016-01-08  0.013277 -0.011079"
      ],
      "text/html": [
       "<div>\n",
       "<style scoped>\n",
       "    .dataframe tbody tr th:only-of-type {\n",
       "        vertical-align: middle;\n",
       "    }\n",
       "\n",
       "    .dataframe tbody tr th {\n",
       "        vertical-align: top;\n",
       "    }\n",
       "\n",
       "    .dataframe thead th {\n",
       "        text-align: right;\n",
       "    }\n",
       "</style>\n",
       "<table border=\"1\" class=\"dataframe\">\n",
       "  <thead>\n",
       "    <tr style=\"text-align: right;\">\n",
       "      <th></th>\n",
       "      <th>rv5</th>\n",
       "      <th>return</th>\n",
       "    </tr>\n",
       "  </thead>\n",
       "  <tbody>\n",
       "    <tr>\n",
       "      <th>2016-01-04</th>\n",
       "      <td>0.018644</td>\n",
       "      <td>-0.015121</td>\n",
       "    </tr>\n",
       "    <tr>\n",
       "      <th>2016-01-05</th>\n",
       "      <td>0.007912</td>\n",
       "      <td>0.001960</td>\n",
       "    </tr>\n",
       "    <tr>\n",
       "      <th>2016-01-06</th>\n",
       "      <td>0.014094</td>\n",
       "      <td>-0.013133</td>\n",
       "    </tr>\n",
       "    <tr>\n",
       "      <th>2016-01-07</th>\n",
       "      <td>0.019777</td>\n",
       "      <td>-0.024133</td>\n",
       "    </tr>\n",
       "    <tr>\n",
       "      <th>2016-01-08</th>\n",
       "      <td>0.013277</td>\n",
       "      <td>-0.011079</td>\n",
       "    </tr>\n",
       "  </tbody>\n",
       "</table>\n",
       "</div>"
      ]
     },
     "execution_count": 95,
     "metadata": {},
     "output_type": "execute_result"
    }
   ],
   "execution_count": 95
  },
  {
   "metadata": {
    "ExecuteTime": {
     "end_time": "2024-05-19T11:15:56.925966Z",
     "start_time": "2024-05-19T11:15:56.506712Z"
    }
   },
   "cell_type": "code",
   "source": [
    "import pandas as pd\n",
    "\n",
    "# Read the CSV file\n",
    "df = pd.read_csv('Data/Indicators/ADS Index.csv', sep=';', index_col=0)\n",
    "\n",
    "# Rename the column\n",
    "df.columns = ['ADS']\n",
    "\n",
    "# Convert the index to datetime\n",
    "df.index = pd.to_datetime(df.index, format='%Y:%m:%d')\n",
    "\n",
    "# Assuming 'data' is your other DataFrame and both 'data' and 'df' have a common column for merging\n",
    "data = data.merge(df, left_index=True, right_index=True, how='inner')\n",
    "# Print the DataFrame\n",
    "data.head()"
   ],
   "id": "69a69711a4c66e6d",
   "outputs": [
    {
     "data": {
      "text/plain": [
       "                 rv5    return       ADS\n",
       "2016-01-04  0.018644 -0.015121 -0.294595\n",
       "2016-01-05  0.007912  0.001960 -0.279636\n",
       "2016-01-06  0.014094 -0.013133 -0.265093\n",
       "2016-01-07  0.019777 -0.024133 -0.250960\n",
       "2016-01-08  0.013277 -0.011079 -0.237233"
      ],
      "text/html": [
       "<div>\n",
       "<style scoped>\n",
       "    .dataframe tbody tr th:only-of-type {\n",
       "        vertical-align: middle;\n",
       "    }\n",
       "\n",
       "    .dataframe tbody tr th {\n",
       "        vertical-align: top;\n",
       "    }\n",
       "\n",
       "    .dataframe thead th {\n",
       "        text-align: right;\n",
       "    }\n",
       "</style>\n",
       "<table border=\"1\" class=\"dataframe\">\n",
       "  <thead>\n",
       "    <tr style=\"text-align: right;\">\n",
       "      <th></th>\n",
       "      <th>rv5</th>\n",
       "      <th>return</th>\n",
       "      <th>ADS</th>\n",
       "    </tr>\n",
       "  </thead>\n",
       "  <tbody>\n",
       "    <tr>\n",
       "      <th>2016-01-04</th>\n",
       "      <td>0.018644</td>\n",
       "      <td>-0.015121</td>\n",
       "      <td>-0.294595</td>\n",
       "    </tr>\n",
       "    <tr>\n",
       "      <th>2016-01-05</th>\n",
       "      <td>0.007912</td>\n",
       "      <td>0.001960</td>\n",
       "      <td>-0.279636</td>\n",
       "    </tr>\n",
       "    <tr>\n",
       "      <th>2016-01-06</th>\n",
       "      <td>0.014094</td>\n",
       "      <td>-0.013133</td>\n",
       "      <td>-0.265093</td>\n",
       "    </tr>\n",
       "    <tr>\n",
       "      <th>2016-01-07</th>\n",
       "      <td>0.019777</td>\n",
       "      <td>-0.024133</td>\n",
       "      <td>-0.250960</td>\n",
       "    </tr>\n",
       "    <tr>\n",
       "      <th>2016-01-08</th>\n",
       "      <td>0.013277</td>\n",
       "      <td>-0.011079</td>\n",
       "      <td>-0.237233</td>\n",
       "    </tr>\n",
       "  </tbody>\n",
       "</table>\n",
       "</div>"
      ]
     },
     "execution_count": 96,
     "metadata": {},
     "output_type": "execute_result"
    }
   ],
   "execution_count": 96
  },
  {
   "metadata": {
    "ExecuteTime": {
     "end_time": "2024-05-19T11:15:57.268196Z",
     "start_time": "2024-05-19T11:15:56.925966Z"
    }
   },
   "cell_type": "code",
   "source": [
    "df = pd.read_csv('Data/Indicators/Economic Policy Index.csv', index_col=0)\n",
    "\n",
    "df.index = pd.to_datetime(df.index)\n",
    "\n",
    "data = data.merge(df, left_index=True, right_index=True, how='inner')\n",
    "\n",
    "data.head()"
   ],
   "id": "6b26270cee87d108",
   "outputs": [
    {
     "data": {
      "text/plain": [
       "                 rv5    return       ADS  USEPUINDXD\n",
       "2016-01-04  0.018644 -0.015121 -0.294595      106.94\n",
       "2016-01-05  0.007912  0.001960 -0.279636       52.80\n",
       "2016-01-06  0.014094 -0.013133 -0.265093       30.40\n",
       "2016-01-07  0.019777 -0.024133 -0.250960       56.40\n",
       "2016-01-08  0.013277 -0.011079 -0.237233       62.21"
      ],
      "text/html": [
       "<div>\n",
       "<style scoped>\n",
       "    .dataframe tbody tr th:only-of-type {\n",
       "        vertical-align: middle;\n",
       "    }\n",
       "\n",
       "    .dataframe tbody tr th {\n",
       "        vertical-align: top;\n",
       "    }\n",
       "\n",
       "    .dataframe thead th {\n",
       "        text-align: right;\n",
       "    }\n",
       "</style>\n",
       "<table border=\"1\" class=\"dataframe\">\n",
       "  <thead>\n",
       "    <tr style=\"text-align: right;\">\n",
       "      <th></th>\n",
       "      <th>rv5</th>\n",
       "      <th>return</th>\n",
       "      <th>ADS</th>\n",
       "      <th>USEPUINDXD</th>\n",
       "    </tr>\n",
       "  </thead>\n",
       "  <tbody>\n",
       "    <tr>\n",
       "      <th>2016-01-04</th>\n",
       "      <td>0.018644</td>\n",
       "      <td>-0.015121</td>\n",
       "      <td>-0.294595</td>\n",
       "      <td>106.94</td>\n",
       "    </tr>\n",
       "    <tr>\n",
       "      <th>2016-01-05</th>\n",
       "      <td>0.007912</td>\n",
       "      <td>0.001960</td>\n",
       "      <td>-0.279636</td>\n",
       "      <td>52.80</td>\n",
       "    </tr>\n",
       "    <tr>\n",
       "      <th>2016-01-06</th>\n",
       "      <td>0.014094</td>\n",
       "      <td>-0.013133</td>\n",
       "      <td>-0.265093</td>\n",
       "      <td>30.40</td>\n",
       "    </tr>\n",
       "    <tr>\n",
       "      <th>2016-01-07</th>\n",
       "      <td>0.019777</td>\n",
       "      <td>-0.024133</td>\n",
       "      <td>-0.250960</td>\n",
       "      <td>56.40</td>\n",
       "    </tr>\n",
       "    <tr>\n",
       "      <th>2016-01-08</th>\n",
       "      <td>0.013277</td>\n",
       "      <td>-0.011079</td>\n",
       "      <td>-0.237233</td>\n",
       "      <td>62.21</td>\n",
       "    </tr>\n",
       "  </tbody>\n",
       "</table>\n",
       "</div>"
      ]
     },
     "execution_count": 97,
     "metadata": {},
     "output_type": "execute_result"
    }
   ],
   "execution_count": 97
  },
  {
   "metadata": {
    "ExecuteTime": {
     "end_time": "2024-05-19T11:15:59.517083Z",
     "start_time": "2024-05-19T11:15:57.268196Z"
    }
   },
   "cell_type": "code",
   "source": [
    "import yfinance as yf\n",
    "import pandas as pd\n",
    "\n",
    "ticker_names = ['^IRX', '^FVX', '^TYX', '^VIX', 'DX-Y.NYB']\n",
    "symbol_names = ['13wb', '5yt', '30yt', 'VIX', 'Dollar_index']\n",
    "\n",
    "for ticker, symbol in zip(ticker_names, symbol_names):\n",
    "    # Download the data\n",
    "    data_yahoo = yf.download(ticker, start='2000-01-01', end='2024-12-31')\n",
    "\n",
    "    # Convert the index to datetime\n",
    "    data_yahoo.index = pd.to_datetime(data_yahoo.index)\n",
    "    \n",
    "    data_yahoo = data_yahoo[['Close']]\n",
    "\n",
    "    # Rename the column\n",
    "    data_yahoo.columns = [symbol]\n",
    "\n",
    "    # Merge the data with your existing dataframe\n",
    "    data = data.merge(data_yahoo, left_index=True, right_index=True, how='inner')\n",
    "\n",
    "data.head()"
   ],
   "id": "f3902f95c6d82249",
   "outputs": [
    {
     "name": "stderr",
     "output_type": "stream",
     "text": [
      "[*********************100%%**********************]  1 of 1 completed\n",
      "[*********************100%%**********************]  1 of 1 completed\n",
      "[*********************100%%**********************]  1 of 1 completed\n",
      "[*********************100%%**********************]  1 of 1 completed\n",
      "[*********************100%%**********************]  1 of 1 completed\n"
     ]
    },
    {
     "data": {
      "text/plain": [
       "                 rv5    return       ADS  USEPUINDXD   13wb    5yt   30yt  \\\n",
       "2016-01-04  0.018644 -0.015121 -0.294595      106.94  0.155  1.735  2.990   \n",
       "2016-01-05  0.007912  0.001960 -0.279636       52.80  0.205  1.724  3.011   \n",
       "2016-01-06  0.014094 -0.013133 -0.265093       30.40  0.205  1.650  2.940   \n",
       "2016-01-07  0.019777 -0.024133 -0.250960       56.40  0.190  1.612  2.926   \n",
       "2016-01-08  0.013277 -0.011079 -0.237233       62.21  0.190  1.578  2.920   \n",
       "\n",
       "                  VIX  Dollar_index  \n",
       "2016-01-04  20.700001     98.870003  \n",
       "2016-01-05  19.340000     99.400002  \n",
       "2016-01-06  20.590000     99.180000  \n",
       "2016-01-07  24.990000     98.220001  \n",
       "2016-01-08  27.010000     98.540001  "
      ],
      "text/html": [
       "<div>\n",
       "<style scoped>\n",
       "    .dataframe tbody tr th:only-of-type {\n",
       "        vertical-align: middle;\n",
       "    }\n",
       "\n",
       "    .dataframe tbody tr th {\n",
       "        vertical-align: top;\n",
       "    }\n",
       "\n",
       "    .dataframe thead th {\n",
       "        text-align: right;\n",
       "    }\n",
       "</style>\n",
       "<table border=\"1\" class=\"dataframe\">\n",
       "  <thead>\n",
       "    <tr style=\"text-align: right;\">\n",
       "      <th></th>\n",
       "      <th>rv5</th>\n",
       "      <th>return</th>\n",
       "      <th>ADS</th>\n",
       "      <th>USEPUINDXD</th>\n",
       "      <th>13wb</th>\n",
       "      <th>5yt</th>\n",
       "      <th>30yt</th>\n",
       "      <th>VIX</th>\n",
       "      <th>Dollar_index</th>\n",
       "    </tr>\n",
       "  </thead>\n",
       "  <tbody>\n",
       "    <tr>\n",
       "      <th>2016-01-04</th>\n",
       "      <td>0.018644</td>\n",
       "      <td>-0.015121</td>\n",
       "      <td>-0.294595</td>\n",
       "      <td>106.94</td>\n",
       "      <td>0.155</td>\n",
       "      <td>1.735</td>\n",
       "      <td>2.990</td>\n",
       "      <td>20.700001</td>\n",
       "      <td>98.870003</td>\n",
       "    </tr>\n",
       "    <tr>\n",
       "      <th>2016-01-05</th>\n",
       "      <td>0.007912</td>\n",
       "      <td>0.001960</td>\n",
       "      <td>-0.279636</td>\n",
       "      <td>52.80</td>\n",
       "      <td>0.205</td>\n",
       "      <td>1.724</td>\n",
       "      <td>3.011</td>\n",
       "      <td>19.340000</td>\n",
       "      <td>99.400002</td>\n",
       "    </tr>\n",
       "    <tr>\n",
       "      <th>2016-01-06</th>\n",
       "      <td>0.014094</td>\n",
       "      <td>-0.013133</td>\n",
       "      <td>-0.265093</td>\n",
       "      <td>30.40</td>\n",
       "      <td>0.205</td>\n",
       "      <td>1.650</td>\n",
       "      <td>2.940</td>\n",
       "      <td>20.590000</td>\n",
       "      <td>99.180000</td>\n",
       "    </tr>\n",
       "    <tr>\n",
       "      <th>2016-01-07</th>\n",
       "      <td>0.019777</td>\n",
       "      <td>-0.024133</td>\n",
       "      <td>-0.250960</td>\n",
       "      <td>56.40</td>\n",
       "      <td>0.190</td>\n",
       "      <td>1.612</td>\n",
       "      <td>2.926</td>\n",
       "      <td>24.990000</td>\n",
       "      <td>98.220001</td>\n",
       "    </tr>\n",
       "    <tr>\n",
       "      <th>2016-01-08</th>\n",
       "      <td>0.013277</td>\n",
       "      <td>-0.011079</td>\n",
       "      <td>-0.237233</td>\n",
       "      <td>62.21</td>\n",
       "      <td>0.190</td>\n",
       "      <td>1.578</td>\n",
       "      <td>2.920</td>\n",
       "      <td>27.010000</td>\n",
       "      <td>98.540001</td>\n",
       "    </tr>\n",
       "  </tbody>\n",
       "</table>\n",
       "</div>"
      ]
     },
     "execution_count": 98,
     "metadata": {},
     "output_type": "execute_result"
    }
   ],
   "execution_count": 98
  },
  {
   "metadata": {
    "ExecuteTime": {
     "end_time": "2024-05-19T11:15:59.766834Z",
     "start_time": "2024-05-19T11:15:59.517083Z"
    }
   },
   "cell_type": "code",
   "source": [
    "data['13wb_return'] = np.log(data['13wb'] / data['13wb'].shift(1))\n",
    "data.dropna(inplace=True)"
   ],
   "id": "65f9acb254c3a7b",
   "outputs": [],
   "execution_count": 99
  },
  {
   "metadata": {
    "ExecuteTime": {
     "end_time": "2024-05-19T11:16:00.037455Z",
     "start_time": "2024-05-19T11:15:59.766834Z"
    }
   },
   "cell_type": "code",
   "source": "data['credit_spread'] = data['30yt'] - data['13wb']",
   "id": "44175226629e7de",
   "outputs": [],
   "execution_count": 100
  },
  {
   "metadata": {
    "ExecuteTime": {
     "end_time": "2024-05-19T11:16:00.310786Z",
     "start_time": "2024-05-19T11:16:00.037455Z"
    }
   },
   "cell_type": "code",
   "source": "data.drop(['13wb', '5yt', '30yt'], axis = 1, inplace = True)",
   "id": "d864e7920f04dc11",
   "outputs": [],
   "execution_count": 101
  },
  {
   "metadata": {
    "ExecuteTime": {
     "end_time": "2024-05-19T11:16:00.620317Z",
     "start_time": "2024-05-19T11:16:00.310786Z"
    }
   },
   "cell_type": "code",
   "source": [
    "data['dollar_index_return'] = np.log(data['Dollar_index'] / data['Dollar_index'].shift(1))\n",
    "data.drop(['Dollar_index'], axis=1, inplace=True)\n",
    "data.dropna(inplace=True)"
   ],
   "id": "b8cdec018c812c46",
   "outputs": [],
   "execution_count": 102
  },
  {
   "metadata": {
    "ExecuteTime": {
     "end_time": "2024-05-19T11:16:01.256243Z",
     "start_time": "2024-05-19T11:16:00.620317Z"
    }
   },
   "cell_type": "code",
   "source": [
    "data_yahoo = yf.download('^SPX', start='2000-01-01', end='2024-12-31')\n",
    "\n",
    "# Convert the index to datetime\n",
    "data_yahoo.index = pd.to_datetime(data_yahoo.index)\n",
    "\n",
    "data_yahoo = data_yahoo[['Volume']]\n",
    "\n",
    "\n",
    "data = data.merge(data_yahoo, left_index=True, right_index=True, how='inner')\n",
    "\n",
    "data.head()"
   ],
   "id": "73569a28106080b5",
   "outputs": [
    {
     "name": "stderr",
     "output_type": "stream",
     "text": [
      "[*********************100%%**********************]  1 of 1 completed\n"
     ]
    },
    {
     "data": {
      "text/plain": [
       "                 rv5    return       ADS  USEPUINDXD        VIX  13wb_return  \\\n",
       "2016-01-06  0.014094 -0.013133 -0.265093       30.40  20.590000     0.000000   \n",
       "2016-01-07  0.019777 -0.024133 -0.250960       56.40  24.990000    -0.075986   \n",
       "2016-01-08  0.013277 -0.011079 -0.237233       62.21  27.010000     0.000000   \n",
       "2016-01-11  0.012732  0.000874 -0.198630       65.10  24.299999    -0.082238   \n",
       "2016-01-12  0.013360  0.007985 -0.186875       67.32  22.469999     0.182322   \n",
       "\n",
       "            credit_spread  dollar_index_return      Volume  \n",
       "2016-01-06          2.735            -0.002216  4336660000  \n",
       "2016-01-07          2.736            -0.009727  5076590000  \n",
       "2016-01-08          2.730             0.003253  4664940000  \n",
       "2016-01-11          2.781             0.001926  4607290000  \n",
       "2016-01-12          2.672             0.002428  4887260000  "
      ],
      "text/html": [
       "<div>\n",
       "<style scoped>\n",
       "    .dataframe tbody tr th:only-of-type {\n",
       "        vertical-align: middle;\n",
       "    }\n",
       "\n",
       "    .dataframe tbody tr th {\n",
       "        vertical-align: top;\n",
       "    }\n",
       "\n",
       "    .dataframe thead th {\n",
       "        text-align: right;\n",
       "    }\n",
       "</style>\n",
       "<table border=\"1\" class=\"dataframe\">\n",
       "  <thead>\n",
       "    <tr style=\"text-align: right;\">\n",
       "      <th></th>\n",
       "      <th>rv5</th>\n",
       "      <th>return</th>\n",
       "      <th>ADS</th>\n",
       "      <th>USEPUINDXD</th>\n",
       "      <th>VIX</th>\n",
       "      <th>13wb_return</th>\n",
       "      <th>credit_spread</th>\n",
       "      <th>dollar_index_return</th>\n",
       "      <th>Volume</th>\n",
       "    </tr>\n",
       "  </thead>\n",
       "  <tbody>\n",
       "    <tr>\n",
       "      <th>2016-01-06</th>\n",
       "      <td>0.014094</td>\n",
       "      <td>-0.013133</td>\n",
       "      <td>-0.265093</td>\n",
       "      <td>30.40</td>\n",
       "      <td>20.590000</td>\n",
       "      <td>0.000000</td>\n",
       "      <td>2.735</td>\n",
       "      <td>-0.002216</td>\n",
       "      <td>4336660000</td>\n",
       "    </tr>\n",
       "    <tr>\n",
       "      <th>2016-01-07</th>\n",
       "      <td>0.019777</td>\n",
       "      <td>-0.024133</td>\n",
       "      <td>-0.250960</td>\n",
       "      <td>56.40</td>\n",
       "      <td>24.990000</td>\n",
       "      <td>-0.075986</td>\n",
       "      <td>2.736</td>\n",
       "      <td>-0.009727</td>\n",
       "      <td>5076590000</td>\n",
       "    </tr>\n",
       "    <tr>\n",
       "      <th>2016-01-08</th>\n",
       "      <td>0.013277</td>\n",
       "      <td>-0.011079</td>\n",
       "      <td>-0.237233</td>\n",
       "      <td>62.21</td>\n",
       "      <td>27.010000</td>\n",
       "      <td>0.000000</td>\n",
       "      <td>2.730</td>\n",
       "      <td>0.003253</td>\n",
       "      <td>4664940000</td>\n",
       "    </tr>\n",
       "    <tr>\n",
       "      <th>2016-01-11</th>\n",
       "      <td>0.012732</td>\n",
       "      <td>0.000874</td>\n",
       "      <td>-0.198630</td>\n",
       "      <td>65.10</td>\n",
       "      <td>24.299999</td>\n",
       "      <td>-0.082238</td>\n",
       "      <td>2.781</td>\n",
       "      <td>0.001926</td>\n",
       "      <td>4607290000</td>\n",
       "    </tr>\n",
       "    <tr>\n",
       "      <th>2016-01-12</th>\n",
       "      <td>0.013360</td>\n",
       "      <td>0.007985</td>\n",
       "      <td>-0.186875</td>\n",
       "      <td>67.32</td>\n",
       "      <td>22.469999</td>\n",
       "      <td>0.182322</td>\n",
       "      <td>2.672</td>\n",
       "      <td>0.002428</td>\n",
       "      <td>4887260000</td>\n",
       "    </tr>\n",
       "  </tbody>\n",
       "</table>\n",
       "</div>"
      ]
     },
     "execution_count": 103,
     "metadata": {},
     "output_type": "execute_result"
    }
   ],
   "execution_count": 103
  },
  {
   "metadata": {
    "ExecuteTime": {
     "end_time": "2024-05-19T11:16:01.587322Z",
     "start_time": "2024-05-19T11:16:01.256243Z"
    }
   },
   "cell_type": "code",
   "source": [
    "data.iloc[:,1:] = data.iloc[:,1:].shift(1)\n",
    "data = data.iloc[1:]"
   ],
   "id": "bfa7e6ae254d5ded",
   "outputs": [],
   "execution_count": 104
  },
  {
   "metadata": {
    "ExecuteTime": {
     "end_time": "2024-05-19T11:16:01.889332Z",
     "start_time": "2024-05-19T11:16:01.587322Z"
    }
   },
   "cell_type": "code",
   "source": [
    "test_data = data.iloc[-int(len(data) * 0.1):]\n",
    "data = data.iloc[:-int(len(data) * 0.1)]"
   ],
   "id": "d47c3bf6da764845",
   "outputs": [],
   "execution_count": 105
  },
  {
   "metadata": {
    "ExecuteTime": {
     "end_time": "2024-05-19T11:16:07.211290Z",
     "start_time": "2024-05-19T11:16:06.975066Z"
    }
   },
   "cell_type": "code",
   "source": [
    "import pandas as pd\n",
    "import numpy as np\n",
    "from sklearn.preprocessing import MinMaxScaler\n",
    "from sklearn.model_selection import TimeSeriesSplit\n",
    "import torch.nn as nn\n",
    "from sklearn.metrics import mean_squared_error\n",
    "from itertools import product\n",
    "from vol_models import LSTMModel\n",
    "\n",
    "def scale_data(data):\n",
    "    # Create two separate scalers for input and output\n",
    "    scaler = MinMaxScaler(feature_range=(-1, 1))\n",
    "\n",
    "    data = scaler.fit_transform(data)\n",
    "\n",
    "    return data, scaler\n",
    "\n",
    "def get_train_and_validation_data(X, y, split = 8 / 9):\n",
    "    \n",
    "    # Convert to PyTorch tensors\n",
    "    X_train = X[:int(X.shape[0] * split),:,:]\n",
    "    y_train = y[:int(X.shape[0] * split),:]\n",
    "    X_val = X[int(X.shape[0] * split):,:,:]\n",
    "    y_val = y[int(X.shape[0] * split):,:]\n",
    "    \n",
    "    \n",
    "    return X_train, y_train, X_val, y_val\n"
   ],
   "id": "fe68025169876e08",
   "outputs": [],
   "execution_count": 106
  },
  {
   "metadata": {
    "ExecuteTime": {
     "end_time": "2024-05-19T11:16:08.648386Z",
     "start_time": "2024-05-19T11:16:08.423032Z"
    }
   },
   "cell_type": "code",
   "source": [
    "def predict_val_LSTM(X_train, y_train, X_val, hidden_dim, layer_dim, lr):\n",
    "    model = LSTMModel(X_train.shape[-1], hidden_dim, layer_dim, y_train.shape[-1])\n",
    "    # Define a loss function and an optimizer\n",
    "    criterion = torch.nn.MSELoss(reduction='mean')\n",
    "    optimizer = torch.optim.Adam(model.parameters(), lr=lr)\n",
    "    \n",
    "    # Train the model\n",
    "    for epoch in tqdm(range(100)):\n",
    "        model.train()\n",
    "        optimizer.zero_grad()\n",
    "        outputs = model(X_train)\n",
    "        loss = criterion(outputs, y_train)\n",
    "        loss.backward()\n",
    "        optimizer.step()\n",
    "    \n",
    "    # Make predictions\n",
    "    model.eval()\n",
    "    with torch.no_grad():\n",
    "        predictions_val = model(X_val)\n",
    "    return predictions_val , model\n",
    "    "
   ],
   "id": "55acb87ebbc7b633",
   "outputs": [],
   "execution_count": 107
  },
  {
   "metadata": {
    "ExecuteTime": {
     "end_time": "2024-05-19T11:16:09.573693Z",
     "start_time": "2024-05-19T11:16:09.272985Z"
    }
   },
   "cell_type": "code",
   "source": [
    "def LSTM_hyper_tuning(data, hidden_dim_values, layer_dim_values, lr_values):\n",
    "    X = data.iloc[:, 1:].values\n",
    "    y = data.iloc[:, 0].values\n",
    "    \n",
    "    \n",
    "    X, scaler_X = scale_data(X)\n",
    "    y, scaler_y = scale_data(y.reshape(-1, 1))\n",
    "\n",
    "    X = np.reshape(X, (X.shape[0], 1, X.shape[1]))\n",
    "    \n",
    "    print(X.shape)\n",
    "    print(y.shape)\n",
    "\n",
    "    X_train, y_train, X_val, y_val = get_train_and_validation_data(X, y)\n",
    "    X_train = torch.from_numpy(X_train).float()\n",
    "    y_train = torch.from_numpy(y_train).float()\n",
    "    X_val = torch.from_numpy(X_val).float()\n",
    "    y_val = torch.from_numpy(y_val).float()\n",
    "\n",
    "    # Initialize variables to store the best model and the lowest MSE\n",
    "    best_model = None\n",
    "    best_lr = None\n",
    "    best_predictions = None\n",
    "    lowest_mse = float('inf')\n",
    "\n",
    "    # Iterate over all combinations of hyperparameters\n",
    "    for hidden_dim, layer_dim, lr in product(hidden_dim_values, layer_dim_values, lr_values):\n",
    "        # Define the LSTM model\n",
    "        predictions_val, model = predict_val_LSTM(X_train, y_train, X_val, hidden_dim, layer_dim, lr)\n",
    "        # Invert the predictions back to the original scale\n",
    "        # predictions_val = scaler_y.inverse_transform(predictions_val.detach().numpy().reshape(-1, 1))\n",
    "        # real_val = scaler_y.inverse_transform(y_val.detach().numpy().reshape(-1, 1))\n",
    "        # plt.plot(predictions_val, color='red')\n",
    "        # plt.plot(y_val)\n",
    "\n",
    "        # Calculate the MSE\n",
    "        y_val_unscaled = scaler_y.inverse_transform(y_val.numpy())\n",
    "        predictions_val = scaler_y.inverse_transform(predictions_val.numpy()) \n",
    "        rmse = mean_squared_error(predictions_val, y_val_unscaled) ** 0.5\n",
    "\n",
    "        # Update the best model and the lowest MSE\n",
    "        if rmse < lowest_mse:\n",
    "            best_model = model\n",
    "            best_lr = lr\n",
    "            lowest_rmse = rmse\n",
    "            best_predictions = predictions_val\n",
    "\n",
    "        print(f\"RMSE for LSTM model with hidden_dim={hidden_dim}, layer_dim={layer_dim}, lr={lr}: {rmse}\")\n",
    "\n",
    "    print(f\"Lowest RMSE: {lowest_rmse}\")\n",
    "    best_model_params = {'hidden_dim': best_model.hidden_dim, 'layer_dim': best_model.layer_dim, 'lr': best_lr}\n",
    "    return best_model_params , best_model, best_predictions , y_val_unscaled\n",
    "    \n"
   ],
   "id": "65b58f66aa820c03",
   "outputs": [],
   "execution_count": 108
  },
  {
   "metadata": {
    "ExecuteTime": {
     "end_time": "2024-05-19T11:16:10.687296Z",
     "start_time": "2024-05-19T11:16:10.378667Z"
    }
   },
   "cell_type": "code",
   "source": "data.head()",
   "id": "5ccfc8256759151",
   "outputs": [
    {
     "data": {
      "text/plain": [
       "                 rv5    return       ADS  USEPUINDXD        VIX  13wb_return  \\\n",
       "2016-01-07  0.019777 -0.013133 -0.265093       30.40  20.590000     0.000000   \n",
       "2016-01-08  0.013277 -0.024133 -0.250960       56.40  24.990000    -0.075986   \n",
       "2016-01-11  0.012732 -0.011079 -0.237233       62.21  27.010000     0.000000   \n",
       "2016-01-12  0.013360  0.000874 -0.198630       65.10  24.299999    -0.082238   \n",
       "2016-01-13  0.014332  0.007985 -0.186875       67.32  22.469999     0.182322   \n",
       "\n",
       "            credit_spread  dollar_index_return        Volume  \n",
       "2016-01-07          2.735            -0.002216  4.336660e+09  \n",
       "2016-01-08          2.736            -0.009727  5.076590e+09  \n",
       "2016-01-11          2.730             0.003253  4.664940e+09  \n",
       "2016-01-12          2.781             0.001926  4.607290e+09  \n",
       "2016-01-13          2.672             0.002428  4.887260e+09  "
      ],
      "text/html": [
       "<div>\n",
       "<style scoped>\n",
       "    .dataframe tbody tr th:only-of-type {\n",
       "        vertical-align: middle;\n",
       "    }\n",
       "\n",
       "    .dataframe tbody tr th {\n",
       "        vertical-align: top;\n",
       "    }\n",
       "\n",
       "    .dataframe thead th {\n",
       "        text-align: right;\n",
       "    }\n",
       "</style>\n",
       "<table border=\"1\" class=\"dataframe\">\n",
       "  <thead>\n",
       "    <tr style=\"text-align: right;\">\n",
       "      <th></th>\n",
       "      <th>rv5</th>\n",
       "      <th>return</th>\n",
       "      <th>ADS</th>\n",
       "      <th>USEPUINDXD</th>\n",
       "      <th>VIX</th>\n",
       "      <th>13wb_return</th>\n",
       "      <th>credit_spread</th>\n",
       "      <th>dollar_index_return</th>\n",
       "      <th>Volume</th>\n",
       "    </tr>\n",
       "  </thead>\n",
       "  <tbody>\n",
       "    <tr>\n",
       "      <th>2016-01-07</th>\n",
       "      <td>0.019777</td>\n",
       "      <td>-0.013133</td>\n",
       "      <td>-0.265093</td>\n",
       "      <td>30.40</td>\n",
       "      <td>20.590000</td>\n",
       "      <td>0.000000</td>\n",
       "      <td>2.735</td>\n",
       "      <td>-0.002216</td>\n",
       "      <td>4.336660e+09</td>\n",
       "    </tr>\n",
       "    <tr>\n",
       "      <th>2016-01-08</th>\n",
       "      <td>0.013277</td>\n",
       "      <td>-0.024133</td>\n",
       "      <td>-0.250960</td>\n",
       "      <td>56.40</td>\n",
       "      <td>24.990000</td>\n",
       "      <td>-0.075986</td>\n",
       "      <td>2.736</td>\n",
       "      <td>-0.009727</td>\n",
       "      <td>5.076590e+09</td>\n",
       "    </tr>\n",
       "    <tr>\n",
       "      <th>2016-01-11</th>\n",
       "      <td>0.012732</td>\n",
       "      <td>-0.011079</td>\n",
       "      <td>-0.237233</td>\n",
       "      <td>62.21</td>\n",
       "      <td>27.010000</td>\n",
       "      <td>0.000000</td>\n",
       "      <td>2.730</td>\n",
       "      <td>0.003253</td>\n",
       "      <td>4.664940e+09</td>\n",
       "    </tr>\n",
       "    <tr>\n",
       "      <th>2016-01-12</th>\n",
       "      <td>0.013360</td>\n",
       "      <td>0.000874</td>\n",
       "      <td>-0.198630</td>\n",
       "      <td>65.10</td>\n",
       "      <td>24.299999</td>\n",
       "      <td>-0.082238</td>\n",
       "      <td>2.781</td>\n",
       "      <td>0.001926</td>\n",
       "      <td>4.607290e+09</td>\n",
       "    </tr>\n",
       "    <tr>\n",
       "      <th>2016-01-13</th>\n",
       "      <td>0.014332</td>\n",
       "      <td>0.007985</td>\n",
       "      <td>-0.186875</td>\n",
       "      <td>67.32</td>\n",
       "      <td>22.469999</td>\n",
       "      <td>0.182322</td>\n",
       "      <td>2.672</td>\n",
       "      <td>0.002428</td>\n",
       "      <td>4.887260e+09</td>\n",
       "    </tr>\n",
       "  </tbody>\n",
       "</table>\n",
       "</div>"
      ]
     },
     "execution_count": 109,
     "metadata": {},
     "output_type": "execute_result"
    }
   ],
   "execution_count": 109
  },
  {
   "metadata": {
    "ExecuteTime": {
     "end_time": "2024-05-19T11:19:08.922495Z",
     "start_time": "2024-05-19T11:19:08.567701Z"
    }
   },
   "cell_type": "code",
   "source": "data_copy = data.copy()",
   "id": "abe839073493a908",
   "outputs": [],
   "execution_count": 116
  },
  {
   "metadata": {
    "ExecuteTime": {
     "end_time": "2024-05-19T11:19:26.332690Z",
     "start_time": "2024-05-19T11:19:26.089836Z"
    }
   },
   "cell_type": "code",
   "source": "data['return'] = np.abs(data['return'])",
   "id": "e2a47f052072b1f3",
   "outputs": [],
   "execution_count": 117
  },
  {
   "metadata": {
    "ExecuteTime": {
     "end_time": "2024-05-19T11:20:21.341076Z",
     "start_time": "2024-05-19T11:19:36.456181Z"
    }
   },
   "cell_type": "code",
   "source": [
    "hidden_dim_values = [30, 50, 70]\n",
    "layer_dim_values = [1, 2, 3]\n",
    "lr_values = [0.1, 0.01, 0.001]\n",
    "\n",
    "best_model_params, best_model, best_prediction , real_value = LSTM_hyper_tuning(data, hidden_dim_values, layer_dim_values, lr_values)"
   ],
   "id": "19742bd1ca131c2a",
   "outputs": [
    {
     "name": "stdout",
     "output_type": "stream",
     "text": [
      "(1689, 1, 8)\n",
      "(1689, 1)\n"
     ]
    },
    {
     "name": "stderr",
     "output_type": "stream",
     "text": [
      "100%|██████████| 100/100 [00:00<00:00, 145.65it/s]\n"
     ]
    },
    {
     "name": "stdout",
     "output_type": "stream",
     "text": [
      "RMSE for LSTM model with hidden_dim=30, layer_dim=1, lr=0.1: 0.005144803974379675\n"
     ]
    },
    {
     "name": "stderr",
     "output_type": "stream",
     "text": [
      "100%|██████████| 100/100 [00:00<00:00, 158.86it/s]\n"
     ]
    },
    {
     "name": "stdout",
     "output_type": "stream",
     "text": [
      "RMSE for LSTM model with hidden_dim=30, layer_dim=1, lr=0.01: 0.00484524389253887\n"
     ]
    },
    {
     "name": "stderr",
     "output_type": "stream",
     "text": [
      "100%|██████████| 100/100 [00:00<00:00, 155.07it/s]\n"
     ]
    },
    {
     "name": "stdout",
     "output_type": "stream",
     "text": [
      "RMSE for LSTM model with hidden_dim=30, layer_dim=1, lr=0.001: 0.006011538381644565\n"
     ]
    },
    {
     "name": "stderr",
     "output_type": "stream",
     "text": [
      "100%|██████████| 100/100 [00:01<00:00, 93.80it/s]\n"
     ]
    },
    {
     "name": "stdout",
     "output_type": "stream",
     "text": [
      "RMSE for LSTM model with hidden_dim=30, layer_dim=2, lr=0.1: 0.006223581554744817\n"
     ]
    },
    {
     "name": "stderr",
     "output_type": "stream",
     "text": [
      "100%|██████████| 100/100 [00:01<00:00, 91.15it/s]\n"
     ]
    },
    {
     "name": "stdout",
     "output_type": "stream",
     "text": [
      "RMSE for LSTM model with hidden_dim=30, layer_dim=2, lr=0.01: 0.004885564155404414\n"
     ]
    },
    {
     "name": "stderr",
     "output_type": "stream",
     "text": [
      "100%|██████████| 100/100 [00:01<00:00, 92.40it/s]\n"
     ]
    },
    {
     "name": "stdout",
     "output_type": "stream",
     "text": [
      "RMSE for LSTM model with hidden_dim=30, layer_dim=2, lr=0.001: 0.00668545694092895\n"
     ]
    },
    {
     "name": "stderr",
     "output_type": "stream",
     "text": [
      "100%|██████████| 100/100 [00:01<00:00, 66.42it/s]\n"
     ]
    },
    {
     "name": "stdout",
     "output_type": "stream",
     "text": [
      "RMSE for LSTM model with hidden_dim=30, layer_dim=3, lr=0.1: 0.004831778853719572\n"
     ]
    },
    {
     "name": "stderr",
     "output_type": "stream",
     "text": [
      "100%|██████████| 100/100 [00:01<00:00, 66.16it/s]\n"
     ]
    },
    {
     "name": "stdout",
     "output_type": "stream",
     "text": [
      "RMSE for LSTM model with hidden_dim=30, layer_dim=3, lr=0.01: 0.004944371192785905\n"
     ]
    },
    {
     "name": "stderr",
     "output_type": "stream",
     "text": [
      "100%|██████████| 100/100 [00:01<00:00, 67.83it/s]\n"
     ]
    },
    {
     "name": "stdout",
     "output_type": "stream",
     "text": [
      "RMSE for LSTM model with hidden_dim=30, layer_dim=3, lr=0.001: 0.006196420327070777\n"
     ]
    },
    {
     "name": "stderr",
     "output_type": "stream",
     "text": [
      "100%|██████████| 100/100 [00:00<00:00, 126.14it/s]\n"
     ]
    },
    {
     "name": "stdout",
     "output_type": "stream",
     "text": [
      "RMSE for LSTM model with hidden_dim=50, layer_dim=1, lr=0.1: 0.00489230072265122\n"
     ]
    },
    {
     "name": "stderr",
     "output_type": "stream",
     "text": [
      "100%|██████████| 100/100 [00:00<00:00, 128.43it/s]\n"
     ]
    },
    {
     "name": "stdout",
     "output_type": "stream",
     "text": [
      "RMSE for LSTM model with hidden_dim=50, layer_dim=1, lr=0.01: 0.004857827502279001\n"
     ]
    },
    {
     "name": "stderr",
     "output_type": "stream",
     "text": [
      "100%|██████████| 100/100 [00:00<00:00, 120.97it/s]\n"
     ]
    },
    {
     "name": "stdout",
     "output_type": "stream",
     "text": [
      "RMSE for LSTM model with hidden_dim=50, layer_dim=1, lr=0.001: 0.008051729421264812\n"
     ]
    },
    {
     "name": "stderr",
     "output_type": "stream",
     "text": [
      "100%|██████████| 100/100 [00:01<00:00, 62.04it/s]\n"
     ]
    },
    {
     "name": "stdout",
     "output_type": "stream",
     "text": [
      "RMSE for LSTM model with hidden_dim=50, layer_dim=2, lr=0.1: 0.0049161553034695465\n"
     ]
    },
    {
     "name": "stderr",
     "output_type": "stream",
     "text": [
      "100%|██████████| 100/100 [00:01<00:00, 61.44it/s]\n"
     ]
    },
    {
     "name": "stdout",
     "output_type": "stream",
     "text": [
      "RMSE for LSTM model with hidden_dim=50, layer_dim=2, lr=0.01: 0.0048647720511416\n"
     ]
    },
    {
     "name": "stderr",
     "output_type": "stream",
     "text": [
      "100%|██████████| 100/100 [00:01<00:00, 62.29it/s]\n"
     ]
    },
    {
     "name": "stdout",
     "output_type": "stream",
     "text": [
      "RMSE for LSTM model with hidden_dim=50, layer_dim=2, lr=0.001: 0.005704730219078314\n"
     ]
    },
    {
     "name": "stderr",
     "output_type": "stream",
     "text": [
      "100%|██████████| 100/100 [00:02<00:00, 42.92it/s]\n"
     ]
    },
    {
     "name": "stdout",
     "output_type": "stream",
     "text": [
      "RMSE for LSTM model with hidden_dim=50, layer_dim=3, lr=0.1: 0.006239667970382618\n"
     ]
    },
    {
     "name": "stderr",
     "output_type": "stream",
     "text": [
      "100%|██████████| 100/100 [00:02<00:00, 42.19it/s]\n"
     ]
    },
    {
     "name": "stdout",
     "output_type": "stream",
     "text": [
      "RMSE for LSTM model with hidden_dim=50, layer_dim=3, lr=0.01: 0.00520253631066625\n"
     ]
    },
    {
     "name": "stderr",
     "output_type": "stream",
     "text": [
      "100%|██████████| 100/100 [00:02<00:00, 42.05it/s]\n"
     ]
    },
    {
     "name": "stdout",
     "output_type": "stream",
     "text": [
      "RMSE for LSTM model with hidden_dim=50, layer_dim=3, lr=0.001: 0.004925955963760983\n"
     ]
    },
    {
     "name": "stderr",
     "output_type": "stream",
     "text": [
      "100%|██████████| 100/100 [00:01<00:00, 88.81it/s]\n"
     ]
    },
    {
     "name": "stdout",
     "output_type": "stream",
     "text": [
      "RMSE for LSTM model with hidden_dim=70, layer_dim=1, lr=0.1: 0.004946455775294094\n"
     ]
    },
    {
     "name": "stderr",
     "output_type": "stream",
     "text": [
      "100%|██████████| 100/100 [00:01<00:00, 86.36it/s]\n"
     ]
    },
    {
     "name": "stdout",
     "output_type": "stream",
     "text": [
      "RMSE for LSTM model with hidden_dim=70, layer_dim=1, lr=0.01: 0.004750795970777241\n"
     ]
    },
    {
     "name": "stderr",
     "output_type": "stream",
     "text": [
      "100%|██████████| 100/100 [00:01<00:00, 87.59it/s]\n"
     ]
    },
    {
     "name": "stdout",
     "output_type": "stream",
     "text": [
      "RMSE for LSTM model with hidden_dim=70, layer_dim=1, lr=0.001: 0.007890729187198475\n"
     ]
    },
    {
     "name": "stderr",
     "output_type": "stream",
     "text": [
      "100%|██████████| 100/100 [00:02<00:00, 44.05it/s]\n"
     ]
    },
    {
     "name": "stdout",
     "output_type": "stream",
     "text": [
      "RMSE for LSTM model with hidden_dim=70, layer_dim=2, lr=0.1: 0.005420905275848211\n"
     ]
    },
    {
     "name": "stderr",
     "output_type": "stream",
     "text": [
      "100%|██████████| 100/100 [00:02<00:00, 44.21it/s]\n"
     ]
    },
    {
     "name": "stdout",
     "output_type": "stream",
     "text": [
      "RMSE for LSTM model with hidden_dim=70, layer_dim=2, lr=0.01: 0.004948692758597168\n"
     ]
    },
    {
     "name": "stderr",
     "output_type": "stream",
     "text": [
      "100%|██████████| 100/100 [00:02<00:00, 44.74it/s]\n"
     ]
    },
    {
     "name": "stdout",
     "output_type": "stream",
     "text": [
      "RMSE for LSTM model with hidden_dim=70, layer_dim=2, lr=0.001: 0.004744113060372821\n"
     ]
    },
    {
     "name": "stderr",
     "output_type": "stream",
     "text": [
      "100%|██████████| 100/100 [00:03<00:00, 29.76it/s]\n"
     ]
    },
    {
     "name": "stdout",
     "output_type": "stream",
     "text": [
      "RMSE for LSTM model with hidden_dim=70, layer_dim=3, lr=0.1: 0.004805144423895714\n"
     ]
    },
    {
     "name": "stderr",
     "output_type": "stream",
     "text": [
      "100%|██████████| 100/100 [00:03<00:00, 30.16it/s]\n"
     ]
    },
    {
     "name": "stdout",
     "output_type": "stream",
     "text": [
      "RMSE for LSTM model with hidden_dim=70, layer_dim=3, lr=0.01: 0.0049861984057335915\n"
     ]
    },
    {
     "name": "stderr",
     "output_type": "stream",
     "text": [
      "100%|██████████| 100/100 [00:03<00:00, 29.47it/s]"
     ]
    },
    {
     "name": "stdout",
     "output_type": "stream",
     "text": [
      "RMSE for LSTM model with hidden_dim=70, layer_dim=3, lr=0.001: 0.0048237037356639164\n",
      "Lowest RMSE: 0.0048237037356639164\n"
     ]
    },
    {
     "name": "stderr",
     "output_type": "stream",
     "text": [
      "\n"
     ]
    }
   ],
   "execution_count": 118
  },
  {
   "metadata": {
    "ExecuteTime": {
     "end_time": "2024-05-19T11:18:11.581679Z",
     "start_time": "2024-05-19T11:18:11.039508Z"
    }
   },
   "cell_type": "code",
   "source": [
    "plt.plot(best_prediction, color='red')\n",
    "plt.plot(real_value)"
   ],
   "id": "914bf294de7e50cd",
   "outputs": [
    {
     "data": {
      "text/plain": [
       "[<matplotlib.lines.Line2D at 0x2c1d7cb7f50>]"
      ]
     },
     "execution_count": 113,
     "metadata": {},
     "output_type": "execute_result"
    },
    {
     "data": {
      "text/plain": [
       "<Figure size 640x480 with 1 Axes>"
      ],
      "image/png": "[encoded data removed]"
     },
     "metadata": {},
     "output_type": "display_data"
    }
   ],
   "execution_count": 113
  },
  {
   "metadata": {
    "ExecuteTime": {
     "end_time": "2024-05-19T11:18:14.673436Z",
     "start_time": "2024-05-19T11:18:14.427459Z"
    }
   },
   "cell_type": "code",
   "source": [
    "def permutation_feature_importance(model, X_val, y_val, criterion):\n",
    "    # Calculate the validation loss with the original data\n",
    "    model.eval()\n",
    "    with torch.no_grad():\n",
    "        outputs = model(X_val)\n",
    "        loss = criterion(outputs, y_val)\n",
    "    original_loss = loss.item()\n",
    "    print(original_loss)\n",
    "\n",
    "    # Initialize an array to hold the feature importances\n",
    "    feature_importances = np.zeros(X_val.shape[2])\n",
    "\n",
    "    # Permute each feature and calculate the validation loss\n",
    "    for i in range(X_val.shape[2]):\n",
    "        X_val_permuted = X_val.clone()\n",
    "        column_to_permute = X_val_permuted[:, 0, i]\n",
    "        # Shuffle the values of the selected column\n",
    "        permuted_column = column_to_permute[torch.randperm(column_to_permute.size(0))]\n",
    "        # Assign the shuffled values back to the original tensor\n",
    "        X_val_permuted[:, 0, i] = permuted_column\n",
    "        \n",
    "        with torch.no_grad():\n",
    "            outputs = model(X_val_permuted)\n",
    "            loss = criterion(outputs, y_val)\n",
    "        permuted_loss = loss.item()\n",
    "\n",
    "        # The feature importance is the increase in the validation loss\n",
    "        feature_importances[i] = permuted_loss - original_loss\n",
    "\n",
    "    return feature_importances\n"
   ],
   "id": "b54f151d38fc3c3",
   "outputs": [],
   "execution_count": 114
  },
  {
   "metadata": {
    "ExecuteTime": {
     "end_time": "2024-05-19T12:23:53.312763Z",
     "start_time": "2024-05-19T12:23:52.235431Z"
    }
   },
   "cell_type": "code",
   "source": [
    "X = data.iloc[:, 1:].values\n",
    "y = data.iloc[:, 0].values\n",
    "\n",
    "\n",
    "X, scaler_X = scale_data(X)\n",
    "y, scaler_y = scale_data(y.reshape(-1, 1))\n",
    "\n",
    "X = np.reshape(X, (X.shape[0], 1, X.shape[1]))\n",
    "\n",
    "print(X.shape)\n",
    "print(y.shape)\n",
    "\n",
    "X_train, y_train, X_val, y_val = get_train_and_validation_data(X, y)\n",
    "X_train = torch.from_numpy(X_train).float()\n",
    "y_train = torch.from_numpy(y_train).float()\n",
    "X_val = torch.from_numpy(X_val).float()\n",
    "y_val = torch.from_numpy(y_val).float()\n",
    "\n",
    "feature_importance = permutation_feature_importance(best_model, X_val, y_val, nn.MSELoss(reduction='mean'))\n",
    "print(data.columns[1:], feature_importance)"
   ],
   "id": "9bee1d4da60063a5",
   "outputs": [
    {
     "name": "stdout",
     "output_type": "stream",
     "text": [
      "(1689, 1, 8)\n",
      "(1689, 1)\n",
      "0.00869067758321762\n",
      "Index(['return', 'ADS', 'USEPUINDXD', 'VIX', '13wb_return', 'credit_spread',\n",
      "       'dollar_index_return', 'Volume'],\n",
      "      dtype='object') [ 3.38085927e-04 -3.75863165e-05 -2.29272991e-05  6.88634813e-04\n",
      " -2.06269324e-05 -4.55575064e-05  4.87132929e-04 -1.40747987e-04]\n"
     ]
    }
   ],
   "execution_count": 189
  },
  {
   "metadata": {
    "ExecuteTime": {
     "end_time": "2024-05-19T12:24:27.094207Z",
     "start_time": "2024-05-19T12:23:58.031947Z"
    }
   },
   "cell_type": "code",
   "source": [
    "import shap\n",
    "# Initialize the explainer\n",
    "\n",
    "explainer = shap.DeepExplainer(best_model, X_train)\n",
    "\n",
    "# Calculate the SHAP values\n",
    "shap_values = explainer.shap_values(X_val)"
   ],
   "id": "43ad833f70af437",
   "outputs": [],
   "execution_count": 190
  },
  {
   "metadata": {
    "ExecuteTime": {
     "end_time": "2024-05-19T12:25:50.596136Z",
     "start_time": "2024-05-19T12:25:50.080820Z"
    }
   },
   "cell_type": "code",
   "source": [
    "shap_values = shap_values.reshape(shap_values.shape[0], shap_values.shape[2])\n",
    "\n",
    "X_val_ = X_val.reshape(X_val.shape[0], X_val.shape[2])\n",
    "X_val_ = np.array(X_val_)\n",
    "\n",
    "shap.summary_plot(shap_values, X_val_, feature_names=data.columns[1:])"
   ],
   "id": "6bf74c2c5127202d",
   "outputs": [
    {
     "data": {
      "text/plain": [
       "(188, 8)"
      ]
     },
     "execution_count": 201,
     "metadata": {},
     "output_type": "execute_result"
    }
   ],
   "execution_count": 201
  },
  {
   "metadata": {
    "ExecuteTime": {
     "end_time": "2024-05-19T09:40:38.848923Z",
     "start_time": "2024-05-19T09:39:56.234318Z"
    }
   },
   "cell_type": "code",
   "source": [
    "hidden_dim_values = [30, 50, 70]\n",
    "layer_dim_values = [1, 2, 3]\n",
    "lr_values = [0.1, 0.01, 0.001]\n",
    "\n",
    "data_return = data[['rv5', 'return']]\n",
    "\n",
    "best_model_params, best_model, best_prediction , real_value = LSTM_hyper_tuning(data_return, hidden_dim_values, layer_dim_values, lr_values)"
   ],
   "id": "f4d021cb8789dbef",
   "outputs": [
    {
     "name": "stdout",
     "output_type": "stream",
     "text": [
      "(1689, 1, 1)\n",
      "(1689, 1)\n"
     ]
    },
    {
     "name": "stderr",
     "output_type": "stream",
     "text": [
      "100%|██████████| 100/100 [00:00<00:00, 155.25it/s]\n"
     ]
    },
    {
     "name": "stdout",
     "output_type": "stream",
     "text": [
      "RMSE for LSTM model with hidden_dim=30, layer_dim=1, lr=0.1: 0.006103085264292291\n"
     ]
    },
    {
     "name": "stderr",
     "output_type": "stream",
     "text": [
      "100%|██████████| 100/100 [00:00<00:00, 153.50it/s]\n"
     ]
    },
    {
     "name": "stdout",
     "output_type": "stream",
     "text": [
      "RMSE for LSTM model with hidden_dim=30, layer_dim=1, lr=0.01: 0.00590089464659006\n"
     ]
    },
    {
     "name": "stderr",
     "output_type": "stream",
     "text": [
      "100%|██████████| 100/100 [00:00<00:00, 162.91it/s]\n"
     ]
    },
    {
     "name": "stdout",
     "output_type": "stream",
     "text": [
      "RMSE for LSTM model with hidden_dim=30, layer_dim=1, lr=0.001: 0.024074013754875424\n"
     ]
    },
    {
     "name": "stderr",
     "output_type": "stream",
     "text": [
      "100%|██████████| 100/100 [00:01<00:00, 99.04it/s]\n"
     ]
    },
    {
     "name": "stdout",
     "output_type": "stream",
     "text": [
      "RMSE for LSTM model with hidden_dim=30, layer_dim=2, lr=0.1: 0.005851950449137168\n"
     ]
    },
    {
     "name": "stderr",
     "output_type": "stream",
     "text": [
      "100%|██████████| 100/100 [00:01<00:00, 97.90it/s]\n"
     ]
    },
    {
     "name": "stdout",
     "output_type": "stream",
     "text": [
      "RMSE for LSTM model with hidden_dim=30, layer_dim=2, lr=0.01: 0.005848867088875141\n"
     ]
    },
    {
     "name": "stderr",
     "output_type": "stream",
     "text": [
      "100%|██████████| 100/100 [00:01<00:00, 96.94it/s]\n"
     ]
    },
    {
     "name": "stdout",
     "output_type": "stream",
     "text": [
      "RMSE for LSTM model with hidden_dim=30, layer_dim=2, lr=0.001: 0.007425335909274711\n"
     ]
    },
    {
     "name": "stderr",
     "output_type": "stream",
     "text": [
      "100%|██████████| 100/100 [00:01<00:00, 70.68it/s]\n"
     ]
    },
    {
     "name": "stdout",
     "output_type": "stream",
     "text": [
      "RMSE for LSTM model with hidden_dim=30, layer_dim=3, lr=0.1: 0.00592173759336342\n"
     ]
    },
    {
     "name": "stderr",
     "output_type": "stream",
     "text": [
      "100%|██████████| 100/100 [00:01<00:00, 70.16it/s]\n"
     ]
    },
    {
     "name": "stdout",
     "output_type": "stream",
     "text": [
      "RMSE for LSTM model with hidden_dim=30, layer_dim=3, lr=0.01: 0.006005440056223665\n"
     ]
    },
    {
     "name": "stderr",
     "output_type": "stream",
     "text": [
      "100%|██████████| 100/100 [00:01<00:00, 69.27it/s]\n"
     ]
    },
    {
     "name": "stdout",
     "output_type": "stream",
     "text": [
      "RMSE for LSTM model with hidden_dim=30, layer_dim=3, lr=0.001: 0.005417587004491212\n"
     ]
    },
    {
     "name": "stderr",
     "output_type": "stream",
     "text": [
      "100%|██████████| 100/100 [00:00<00:00, 139.08it/s]\n"
     ]
    },
    {
     "name": "stdout",
     "output_type": "stream",
     "text": [
      "RMSE for LSTM model with hidden_dim=50, layer_dim=1, lr=0.1: 0.006058422345580479\n"
     ]
    },
    {
     "name": "stderr",
     "output_type": "stream",
     "text": [
      "100%|██████████| 100/100 [00:00<00:00, 138.57it/s]\n"
     ]
    },
    {
     "name": "stdout",
     "output_type": "stream",
     "text": [
      "RMSE for LSTM model with hidden_dim=50, layer_dim=1, lr=0.01: 0.006173381287748617\n"
     ]
    },
    {
     "name": "stderr",
     "output_type": "stream",
     "text": [
      "100%|██████████| 100/100 [00:00<00:00, 140.87it/s]\n"
     ]
    },
    {
     "name": "stdout",
     "output_type": "stream",
     "text": [
      "RMSE for LSTM model with hidden_dim=50, layer_dim=1, lr=0.001: 0.009330633713260225\n"
     ]
    },
    {
     "name": "stderr",
     "output_type": "stream",
     "text": [
      "100%|██████████| 100/100 [00:01<00:00, 78.10it/s]\n"
     ]
    },
    {
     "name": "stdout",
     "output_type": "stream",
     "text": [
      "RMSE for LSTM model with hidden_dim=50, layer_dim=2, lr=0.1: 0.006052196943642094\n"
     ]
    },
    {
     "name": "stderr",
     "output_type": "stream",
     "text": [
      "100%|██████████| 100/100 [00:01<00:00, 78.43it/s]\n"
     ]
    },
    {
     "name": "stdout",
     "output_type": "stream",
     "text": [
      "RMSE for LSTM model with hidden_dim=50, layer_dim=2, lr=0.01: 0.006003576083077124\n"
     ]
    },
    {
     "name": "stderr",
     "output_type": "stream",
     "text": [
      "100%|██████████| 100/100 [00:01<00:00, 74.49it/s]\n"
     ]
    },
    {
     "name": "stdout",
     "output_type": "stream",
     "text": [
      "RMSE for LSTM model with hidden_dim=50, layer_dim=2, lr=0.001: 0.00551489861482228\n"
     ]
    },
    {
     "name": "stderr",
     "output_type": "stream",
     "text": [
      "100%|██████████| 100/100 [00:01<00:00, 51.60it/s]\n"
     ]
    },
    {
     "name": "stdout",
     "output_type": "stream",
     "text": [
      "RMSE for LSTM model with hidden_dim=50, layer_dim=3, lr=0.1: 0.005865486876395437\n"
     ]
    },
    {
     "name": "stderr",
     "output_type": "stream",
     "text": [
      "100%|██████████| 100/100 [00:02<00:00, 44.53it/s]\n"
     ]
    },
    {
     "name": "stdout",
     "output_type": "stream",
     "text": [
      "RMSE for LSTM model with hidden_dim=50, layer_dim=3, lr=0.01: 0.005861518822817648\n"
     ]
    },
    {
     "name": "stderr",
     "output_type": "stream",
     "text": [
      "100%|██████████| 100/100 [00:02<00:00, 41.73it/s]\n"
     ]
    },
    {
     "name": "stdout",
     "output_type": "stream",
     "text": [
      "RMSE for LSTM model with hidden_dim=50, layer_dim=3, lr=0.001: 0.006595929547968869\n"
     ]
    },
    {
     "name": "stderr",
     "output_type": "stream",
     "text": [
      "100%|██████████| 100/100 [00:01<00:00, 77.71it/s]\n"
     ]
    },
    {
     "name": "stdout",
     "output_type": "stream",
     "text": [
      "RMSE for LSTM model with hidden_dim=70, layer_dim=1, lr=0.1: 0.006088670618533041\n"
     ]
    },
    {
     "name": "stderr",
     "output_type": "stream",
     "text": [
      "100%|██████████| 100/100 [00:01<00:00, 84.19it/s]\n"
     ]
    },
    {
     "name": "stdout",
     "output_type": "stream",
     "text": [
      "RMSE for LSTM model with hidden_dim=70, layer_dim=1, lr=0.01: 0.0059629996439638615\n"
     ]
    },
    {
     "name": "stderr",
     "output_type": "stream",
     "text": [
      "100%|██████████| 100/100 [00:01<00:00, 89.85it/s]\n"
     ]
    },
    {
     "name": "stdout",
     "output_type": "stream",
     "text": [
      "RMSE for LSTM model with hidden_dim=70, layer_dim=1, lr=0.001: 0.005437259012984624\n"
     ]
    },
    {
     "name": "stderr",
     "output_type": "stream",
     "text": [
      "100%|██████████| 100/100 [00:02<00:00, 44.86it/s]\n"
     ]
    },
    {
     "name": "stdout",
     "output_type": "stream",
     "text": [
      "RMSE for LSTM model with hidden_dim=70, layer_dim=2, lr=0.1: 0.006067125797661014\n"
     ]
    },
    {
     "name": "stderr",
     "output_type": "stream",
     "text": [
      "100%|██████████| 100/100 [00:02<00:00, 39.62it/s]\n"
     ]
    },
    {
     "name": "stdout",
     "output_type": "stream",
     "text": [
      "RMSE for LSTM model with hidden_dim=70, layer_dim=2, lr=0.01: 0.0059901506830225045\n"
     ]
    },
    {
     "name": "stderr",
     "output_type": "stream",
     "text": [
      "100%|██████████| 100/100 [00:02<00:00, 45.21it/s]\n"
     ]
    },
    {
     "name": "stdout",
     "output_type": "stream",
     "text": [
      "RMSE for LSTM model with hidden_dim=70, layer_dim=2, lr=0.001: 0.005671093103236605\n"
     ]
    },
    {
     "name": "stderr",
     "output_type": "stream",
     "text": [
      "100%|██████████| 100/100 [00:03<00:00, 30.89it/s]\n"
     ]
    },
    {
     "name": "stdout",
     "output_type": "stream",
     "text": [
      "RMSE for LSTM model with hidden_dim=70, layer_dim=3, lr=0.1: 0.005925852262811538\n"
     ]
    },
    {
     "name": "stderr",
     "output_type": "stream",
     "text": [
      "100%|██████████| 100/100 [00:03<00:00, 30.85it/s]\n"
     ]
    },
    {
     "name": "stdout",
     "output_type": "stream",
     "text": [
      "RMSE for LSTM model with hidden_dim=70, layer_dim=3, lr=0.01: 0.005972390717372703\n"
     ]
    },
    {
     "name": "stderr",
     "output_type": "stream",
     "text": [
      "100%|██████████| 100/100 [00:03<00:00, 31.04it/s]"
     ]
    },
    {
     "name": "stdout",
     "output_type": "stream",
     "text": [
      "RMSE for LSTM model with hidden_dim=70, layer_dim=3, lr=0.001: 0.005853545746329613\n",
      "Lowest RMSE: 0.005853545746329613\n"
     ]
    },
    {
     "name": "stderr",
     "output_type": "stream",
     "text": [
      "\n"
     ]
    }
   ],
   "execution_count": 60
  },
  {
   "metadata": {},
   "cell_type": "code",
   "outputs": [],
   "execution_count": null,
   "source": "",
   "id": "dd1656935a706f0c"
  }
 ],
 "metadata": {
  "kernelspec": {
   "display_name": "Python 3",
   "language": "python",
   "name": "python3"
  },
  "language_info": {
   "codemirror_mode": {
    "name": "ipython",
    "version": 2
   },
   "file_extension": ".py",
   "mimetype": "text/x-python",
   "name": "python",
   "nbconvert_exporter": "python",
   "pygments_lexer": "ipython2",
   "version": "2.7.6"
  }
 },
 "nbformat": 4,
 "nbformat_minor": 5
}
