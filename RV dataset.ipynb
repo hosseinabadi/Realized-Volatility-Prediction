{
 "cells": [
  {
   "metadata": {},
   "cell_type": "markdown",
   "source": "In this notebook, we build our final dataset for the S&P500 index.",
   "id": "585439d1cf93c2b6"
  },
  {
   "metadata": {
    "ExecuteTime": {
     "end_time": "2024-06-02T13:21:50.321952Z",
     "start_time": "2024-06-02T13:21:46.325598Z"
    }
   },
   "cell_type": "code",
   "source": [
    "'''\n",
    "Importing necessary libraries\n",
    "'''\n",
    "from utils import transform_to_float\n",
    "import matplotlib.pyplot as plt\n",
    "from dateutil import rrule, parser\n",
    "import os\n",
    "import requests\n",
    "import pandas as pd\n",
    "import numpy as np\n",
    "from datetime import datetime, timedelta\n",
    "import time\n",
    "%load_ext autoreload\n",
    "%autoreload 2"
   ],
   "id": "fb448681927953b4",
   "outputs": [],
   "execution_count": 1
  },
  {
   "metadata": {},
   "cell_type": "code",
   "outputs": [],
   "execution_count": null,
   "source": [
    "'''\n",
    "Functions for getting data from Alpha Vantage and Twelve Data\n",
    "'''\n",
    "\n",
    "def get_data_alpha_vantage(start_date, end_date, stock_symbol):\n",
    "    months = list(rrule.rrule(rrule.MONTHLY, dtstart=parser.parse(start_date), until=parser.parse(end_date)))\n",
    "\n",
    "    # Initialize an empty list to store the DataFrames\n",
    "    dfs = []\n",
    "\n",
    "    # Loop over the list of months\n",
    "    for month in months:\n",
    "        # Format the current month into the required format for the API request\n",
    "        formatted_month = month.strftime(\"%Y-%m\")\n",
    "\n",
    "        # Make the API request and get the response\n",
    "        url = f\"https://www.alphavantage.co/query?function=TIME_SERIES_INTRADAY&symbol={stock_symbol}&interval=5min&month={formatted_month}&outputsize=full&apikey=V9AMYI6A7YVMUUZZ\"\n",
    "        r = requests.get(url)\n",
    "        monthly_data = r.json()\n",
    "        try:\n",
    "            df = pd.DataFrame(monthly_data[\"Time Series (5min)\"]).transpose()[::-1]\n",
    "        except:\n",
    "            print(month)\n",
    "            print(monthly_data)\n",
    "            data = pd.concat(dfs)\n",
    "            break\n",
    "        # Convert the response JSON into a DataFrame and transpose it\n",
    "        # Append the DataFrame to the list of DataFrames\n",
    "        dfs.append(df)\n",
    "\n",
    "    # Concatenate all the DataFrames in the list into a single DataFrame\n",
    "    data = pd.concat(dfs)\n",
    "    return data\n",
    "\n",
    "\n",
    "def merge_data_alpha_vantage(data_directory, stock_symbol):\n",
    "    # List to store DataFrames\n",
    "    dfs = []\n",
    "\n",
    "    data_directory = os.path.join(data_directory, stock_symbol)\n",
    "\n",
    "    # Iterate over files in the directory\n",
    "    for file in os.listdir(data_directory):\n",
    "        if file.endswith(\".csv\") and file.startswith(\"data_\"):\n",
    "            # Read CSV file into DataFrame with the first column as index and parse dates\n",
    "            file_path = os.path.join(data_directory, file)\n",
    "            df = pd.read_csv(file_path, index_col=0, parse_dates=[0])\n",
    "\n",
    "            # Append DataFrame to the list\n",
    "            dfs.append(df)\n",
    "\n",
    "    # Concatenate all DataFrames\n",
    "    concatenated_df = pd.concat(dfs)\n",
    "    concatenated_df.drop_duplicates(inplace=True)\n",
    "\n",
    "    # Sort the index based on the date\n",
    "    concatenated_df.sort_index(inplace=True)\n",
    "\n",
    "    return concatenated_df\n",
    "\n",
    "\n",
    "def get_data_twelve_data(stock_symbol, start_date, end_date):\n",
    "    # Define start and end dates\n",
    "\n",
    "    # Initialize an empty list to store dataframes\n",
    "    dfs = []\n",
    "\n",
    "    # Define the interval for each request (3 months)\n",
    "    interval = timedelta(days=3 * 30)\n",
    "\n",
    "    # Make requests in a loop\n",
    "    while start_date < end_date:\n",
    "        # Define end date for the current request (3 months ahead)\n",
    "        request_end_date = min(start_date + interval, end_date)\n",
    "\n",
    "        # Format dates as strings\n",
    "        start_date_str = start_date.strftime(\"%Y-%m-%d %H:%M:%S\")\n",
    "        request_end_date_str = request_end_date.strftime(\"%Y-%m-%d %H:%M:%S\")\n",
    "\n",
    "        # Make request\n",
    "        response = requests.get(\n",
    "            f\"https://api.twelvedata.com/time_series?apikey=92e1895b6d9140719689a551a2a7ddcf&interval=5min&symbol={stock_symbol}&start_date={start_date_str}&end_date={request_end_date_str}&format=JSON\")\n",
    "\n",
    "        # Convert response to JSON format\n",
    "        json_data = response.json()\n",
    "\n",
    "        # Convert JSON data to DataFrame\n",
    "        data = pd.DataFrame(json_data['values'])[::-1]\n",
    "\n",
    "        # Set datetime column as index\n",
    "        data['datetime'] = pd.to_datetime(data['datetime'])\n",
    "        data.set_index('datetime', inplace=True)\n",
    "\n",
    "        # Append dataframe to the list\n",
    "        dfs.append(data)\n",
    "\n",
    "        # Update start date for the next request\n",
    "        start_date = request_end_date\n",
    "\n",
    "        # Pause to ensure at most 6 requests per minute\n",
    "        time.sleep(10)\n",
    "\n",
    "    # Concatenate all dataframes\n",
    "    merged_df = pd.concat(dfs)\n",
    "\n",
    "    merged_df = merged_df.drop_duplicates()\n",
    "    # Print the merged dataframe\n",
    "    return merged_df\n"
   ],
   "id": "67760c0a8872e3c2"
  },
  {
   "metadata": {
    "ExecuteTime": {
     "end_time": "2024-05-14T14:40:27.926011Z",
     "start_time": "2024-05-14T14:40:22.464019Z"
    }
   },
   "cell_type": "code",
   "source": [
    "'''\n",
    "Here we get the data of VOO ticker from Alpha Vantage for the period which we don;t have data from Twelve Data\n",
    "'''\n",
    "\n",
    "start_date = '2020-01-01'\n",
    "end_date = '2020-04-01'\n",
    "stock_symbol = 'VOO'\n",
    "\n",
    "data = get_data_alpha_vantage(start_date, end_date, stock_symbol)\n",
    "\n",
    "data.to_csv(f'Data/{stock_symbol}/data_{stock_symbol}_{start_date}.csv')\n"
   ],
   "id": "edf25fb27001298d",
   "outputs": [],
   "execution_count": 42
  },
  {
   "metadata": {
    "ExecuteTime": {
     "end_time": "2024-05-13T13:02:25.991094Z",
     "start_time": "2024-05-13T13:02:14.327014Z"
    }
   },
   "cell_type": "code",
   "source": [
    "'''\n",
    "Getting the data of S&P from Twelve Data\n",
    "'''\n",
    "start_date = datetime(2020, 1, 1)\n",
    "end_date = datetime(2024, 1, 1)\n",
    "stock_symbol = 'SPX'\n",
    "\n",
    "data = get_data_twelve_data(stock_symbol, start_date, end_date)\n",
    "data.to_csv(f'Data/{stock_symbol}/{stock_symbol}_data_twelvedata.csv')"
   ],
   "id": "c2ede0d67d03702f",
   "outputs": [],
   "execution_count": 6
  },
  {
   "metadata": {},
   "cell_type": "markdown",
   "source": "Make the dataset for S&P500",
   "id": "95f81c959f9e77e2"
  },
  {
   "metadata": {
    "ExecuteTime": {
     "end_time": "2024-06-02T13:22:21.688435Z",
     "start_time": "2024-06-02T13:22:20.898044Z"
    }
   },
   "cell_type": "code",
   "source": [
    "'''\n",
    "Read the data of S&P500 from Oxford Man Institute and calculate the realized volatility\n",
    "'''\n",
    "oxford_rv = pd.read_csv('Data/Indexes/MAN_data.csv', index_col=0)\n",
    "oxford_rv = oxford_rv.loc[oxford_rv['Symbol'] == '.SPX']\n",
    "oxford_rv.drop(columns=['Symbol'], inplace=True)\n",
    "oxford_rv['rv5'] = oxford_rv['rv5'] ** 0.5\n",
    "oxford_rv = oxford_rv[['rv5', 'close_price']]\n",
    "oxford_rv.index = pd.to_datetime(oxford_rv.index, utc=True)\n",
    "oxford_rv.index = oxford_rv.index.date\n",
    "oxford_rv.index = pd.to_datetime(oxford_rv.index)\n",
    "oxford_rv['return'] = np.log(oxford_rv['close_price'] / oxford_rv['close_price'].shift(1))\n",
    "oxford_rv.dropna(inplace=True)\n",
    "oxford_rv = oxford_rv[['rv5', 'return']]\n",
    "oxford_rv.tail()"
   ],
   "id": "84c739bc9f1101d2",
   "outputs": [
    {
     "data": {
      "text/plain": [
       "                 rv5    return\n",
       "2020-01-27  0.006460 -0.015964\n",
       "2020-01-28  0.004526  0.010136\n",
       "2020-01-29  0.005054 -0.000849\n",
       "2020-01-30  0.007282  0.003059\n",
       "2020-01-31  0.009274 -0.018014"
      ],
      "text/html": [
       "<div>\n",
       "<style scoped>\n",
       "    .dataframe tbody tr th:only-of-type {\n",
       "        vertical-align: middle;\n",
       "    }\n",
       "\n",
       "    .dataframe tbody tr th {\n",
       "        vertical-align: top;\n",
       "    }\n",
       "\n",
       "    .dataframe thead th {\n",
       "        text-align: right;\n",
       "    }\n",
       "</style>\n",
       "<table border=\"1\" class=\"dataframe\">\n",
       "  <thead>\n",
       "    <tr style=\"text-align: right;\">\n",
       "      <th></th>\n",
       "      <th>rv5</th>\n",
       "      <th>return</th>\n",
       "    </tr>\n",
       "  </thead>\n",
       "  <tbody>\n",
       "    <tr>\n",
       "      <th>2020-01-27</th>\n",
       "      <td>0.006460</td>\n",
       "      <td>-0.015964</td>\n",
       "    </tr>\n",
       "    <tr>\n",
       "      <th>2020-01-28</th>\n",
       "      <td>0.004526</td>\n",
       "      <td>0.010136</td>\n",
       "    </tr>\n",
       "    <tr>\n",
       "      <th>2020-01-29</th>\n",
       "      <td>0.005054</td>\n",
       "      <td>-0.000849</td>\n",
       "    </tr>\n",
       "    <tr>\n",
       "      <th>2020-01-30</th>\n",
       "      <td>0.007282</td>\n",
       "      <td>0.003059</td>\n",
       "    </tr>\n",
       "    <tr>\n",
       "      <th>2020-01-31</th>\n",
       "      <td>0.009274</td>\n",
       "      <td>-0.018014</td>\n",
       "    </tr>\n",
       "  </tbody>\n",
       "</table>\n",
       "</div>"
      ]
     },
     "execution_count": 2,
     "metadata": {},
     "output_type": "execute_result"
    }
   ],
   "execution_count": 2
  },
  {
   "metadata": {
    "ExecuteTime": {
     "end_time": "2024-05-28T00:01:50.669991Z",
     "start_time": "2024-05-28T00:01:50.216033Z"
    }
   },
   "cell_type": "code",
   "source": [
    "'''\n",
    "Read the 5-min data of S&P500 from Twelve Data and calculate the realized volatility\n",
    "'''\n",
    "twelve_data_SP = pd.read_csv('Data/SPX/SPX_data_twelvedata.csv', index_col=0)\n",
    "twelve_data_SP.index = pd.to_datetime(twelve_data_SP.index)\n",
    "\n",
    "# Calculate return and volume\n",
    "twelve_data_SP['rv5'] = np.log(twelve_data_SP['close'] / twelve_data_SP['close'].shift(1))\n",
    "\n",
    "\n",
    "daily_twelve = twelve_data_SP.resample('D').agg({'close': 'last', 'rv5': lambda x: (x ** 2).sum()}) \n",
    "\n",
    "daily_twelve = daily_twelve.loc[np.unique(twelve_data_SP.index.date)]\n",
    "\n",
    "daily_twelve.dropna(inplace=True)\n",
    "\n",
    "daily_twelve['return'] = np.log(daily_twelve['close'] / daily_twelve['close'].shift(1))\n",
    "\n",
    "daily_twelve.dropna(inplace=True)\n",
    "\n",
    "daily_twelve['rv5'] = np.sqrt(daily_twelve['rv5'])\n",
    "\n",
    "daily_twelve = daily_twelve[['rv5', 'return']]\n",
    "\n",
    "daily_twelve.head()\n"
   ],
   "id": "26746d090950b87e",
   "outputs": [
    {
     "data": {
      "text/plain": [
       "                 rv5    return\n",
       "datetime                      \n",
       "2020-02-25  0.016191 -0.030327\n",
       "2020-02-26  0.017926 -0.004102\n",
       "2020-02-27  0.034247 -0.044221\n",
       "2020-02-28  0.043393 -0.009103\n",
       "2020-03-02  0.025765  0.044730"
      ],
      "text/html": [
       "<div>\n",
       "<style scoped>\n",
       "    .dataframe tbody tr th:only-of-type {\n",
       "        vertical-align: middle;\n",
       "    }\n",
       "\n",
       "    .dataframe tbody tr th {\n",
       "        vertical-align: top;\n",
       "    }\n",
       "\n",
       "    .dataframe thead th {\n",
       "        text-align: right;\n",
       "    }\n",
       "</style>\n",
       "<table border=\"1\" class=\"dataframe\">\n",
       "  <thead>\n",
       "    <tr style=\"text-align: right;\">\n",
       "      <th></th>\n",
       "      <th>rv5</th>\n",
       "      <th>return</th>\n",
       "    </tr>\n",
       "    <tr>\n",
       "      <th>datetime</th>\n",
       "      <th></th>\n",
       "      <th></th>\n",
       "    </tr>\n",
       "  </thead>\n",
       "  <tbody>\n",
       "    <tr>\n",
       "      <th>2020-02-25</th>\n",
       "      <td>0.016191</td>\n",
       "      <td>-0.030327</td>\n",
       "    </tr>\n",
       "    <tr>\n",
       "      <th>2020-02-26</th>\n",
       "      <td>0.017926</td>\n",
       "      <td>-0.004102</td>\n",
       "    </tr>\n",
       "    <tr>\n",
       "      <th>2020-02-27</th>\n",
       "      <td>0.034247</td>\n",
       "      <td>-0.044221</td>\n",
       "    </tr>\n",
       "    <tr>\n",
       "      <th>2020-02-28</th>\n",
       "      <td>0.043393</td>\n",
       "      <td>-0.009103</td>\n",
       "    </tr>\n",
       "    <tr>\n",
       "      <th>2020-03-02</th>\n",
       "      <td>0.025765</td>\n",
       "      <td>0.044730</td>\n",
       "    </tr>\n",
       "  </tbody>\n",
       "</table>\n",
       "</div>"
      ]
     },
     "execution_count": 9,
     "metadata": {},
     "output_type": "execute_result"
    }
   ],
   "execution_count": 9
  },
  {
   "metadata": {
    "ExecuteTime": {
     "end_time": "2024-05-28T00:02:22.584637Z",
     "start_time": "2024-05-28T00:02:22.473025Z"
    }
   },
   "cell_type": "code",
   "source": [
    "'''\n",
    "Read the 5-min data of VOO from Alpha Vantage and calculate the realized volatility\n",
    "'''\n",
    "VOO = pd.read_csv('Data/VOO/data_VOO_2020-01-01.csv', index_col=0)\n",
    "VOO.index = pd.to_datetime(VOO.index)\n",
    "\n",
    "VOO.rename(columns={'4. close': 'close_price'}, inplace=True)\n",
    "\n",
    "VOO['rv5'] = np.log(VOO['close_price'] / VOO['close_price'].shift(1))\n",
    "\n",
    "\n",
    "daily_VOO = VOO.resample('D').agg({'close_price': 'last', 'rv5': lambda x: (x ** 2).sum()}) \n",
    "\n",
    "daily_VOO = daily_VOO.loc[np.unique(VOO.index.date)]\n",
    "\n",
    "daily_VOO.dropna(inplace=True)\n",
    "\n",
    "daily_VOO['return'] = np.log(daily_VOO['close_price'] / daily_VOO['close_price'].shift(1))\n",
    "\n",
    "daily_VOO.dropna(inplace=True)\n",
    "\n",
    "daily_VOO['rv5'] = np.sqrt(daily_VOO['rv5'])\n",
    "\n",
    "daily_VOO = daily_VOO[['rv5', 'return']]\n",
    "\n",
    "daily_VOO.head()\n"
   ],
   "id": "174f6048a9af75cf",
   "outputs": [
    {
     "data": {
      "text/plain": [
       "                 rv5    return\n",
       "2020-01-03  0.013600 -0.008575\n",
       "2020-01-06  0.008321  0.004246\n",
       "2020-01-07  0.007631 -0.016956\n",
       "2020-01-08  0.025023  0.021884\n",
       "2020-01-09  0.004946  0.005908"
      ],
      "text/html": [
       "<div>\n",
       "<style scoped>\n",
       "    .dataframe tbody tr th:only-of-type {\n",
       "        vertical-align: middle;\n",
       "    }\n",
       "\n",
       "    .dataframe tbody tr th {\n",
       "        vertical-align: top;\n",
       "    }\n",
       "\n",
       "    .dataframe thead th {\n",
       "        text-align: right;\n",
       "    }\n",
       "</style>\n",
       "<table border=\"1\" class=\"dataframe\">\n",
       "  <thead>\n",
       "    <tr style=\"text-align: right;\">\n",
       "      <th></th>\n",
       "      <th>rv5</th>\n",
       "      <th>return</th>\n",
       "    </tr>\n",
       "  </thead>\n",
       "  <tbody>\n",
       "    <tr>\n",
       "      <th>2020-01-03</th>\n",
       "      <td>0.013600</td>\n",
       "      <td>-0.008575</td>\n",
       "    </tr>\n",
       "    <tr>\n",
       "      <th>2020-01-06</th>\n",
       "      <td>0.008321</td>\n",
       "      <td>0.004246</td>\n",
       "    </tr>\n",
       "    <tr>\n",
       "      <th>2020-01-07</th>\n",
       "      <td>0.007631</td>\n",
       "      <td>-0.016956</td>\n",
       "    </tr>\n",
       "    <tr>\n",
       "      <th>2020-01-08</th>\n",
       "      <td>0.025023</td>\n",
       "      <td>0.021884</td>\n",
       "    </tr>\n",
       "    <tr>\n",
       "      <th>2020-01-09</th>\n",
       "      <td>0.004946</td>\n",
       "      <td>0.005908</td>\n",
       "    </tr>\n",
       "  </tbody>\n",
       "</table>\n",
       "</div>"
      ]
     },
     "execution_count": 10,
     "metadata": {},
     "output_type": "execute_result"
    }
   ],
   "execution_count": 10
  },
  {
   "metadata": {
    "ExecuteTime": {
     "end_time": "2024-05-28T00:07:26.892032Z",
     "start_time": "2024-05-28T00:07:26.577279Z"
    }
   },
   "cell_type": "code",
   "source": [
    "'''\n",
    "check the consistency between the oxford S&P realized volatility and the realized volatility calculated from the VOO ticker data\n",
    "'''\n",
    "common_indexes = daily_VOO.index.intersection(oxford_rv.index)\n",
    "plt.plot(daily_VOO.loc[common_indexes]['rv5'])\n",
    "plt.plot(oxford_rv.loc[common_indexes]['rv5'], color = 'red')"
   ],
   "id": "db569bc80392e3d6",
   "outputs": [
    {
     "data": {
      "text/plain": [
       "[<matplotlib.lines.Line2D at 0x208d2983ad0>]"
      ]
     },
     "execution_count": 20,
     "metadata": {},
     "output_type": "execute_result"
    },
    {
     "data": {
      "text/plain": [
       "<Figure size 640x480 with 1 Axes>"
      ],
      "image/png": "[encoded data removed]"
     },
     "metadata": {},
     "output_type": "display_data"
    }
   ],
   "execution_count": 20
  },
  {
   "metadata": {
    "ExecuteTime": {
     "end_time": "2024-05-14T16:21:16.461168Z",
     "start_time": "2024-05-14T16:21:16.280253Z"
    }
   },
   "cell_type": "code",
   "source": [
    "'''\n",
    "Merge the data of VOO and twelve data\n",
    "'''\n",
    "indices_not_in_twelve = daily_VOO.index.difference(daily_twelve.index)\n",
    "\n",
    "daily_VOO = daily_VOO.loc[indices_not_in_twelve]\n",
    "\n",
    "merged_data = pd.concat([daily_VOO, daily_twelve])\n",
    "merged_data.head()"
   ],
   "id": "9c57df9653f477e",
   "outputs": [
    {
     "data": {
      "text/plain": [
       "                 rv5    return\n",
       "2020-01-03  0.013600 -0.008575\n",
       "2020-01-06  0.008321  0.004246\n",
       "2020-01-07  0.007631 -0.016956\n",
       "2020-01-08  0.025023  0.021884\n",
       "2020-01-09  0.004946  0.005908"
      ],
      "text/html": [
       "<div>\n",
       "<style scoped>\n",
       "    .dataframe tbody tr th:only-of-type {\n",
       "        vertical-align: middle;\n",
       "    }\n",
       "\n",
       "    .dataframe tbody tr th {\n",
       "        vertical-align: top;\n",
       "    }\n",
       "\n",
       "    .dataframe thead th {\n",
       "        text-align: right;\n",
       "    }\n",
       "</style>\n",
       "<table border=\"1\" class=\"dataframe\">\n",
       "  <thead>\n",
       "    <tr style=\"text-align: right;\">\n",
       "      <th></th>\n",
       "      <th>rv5</th>\n",
       "      <th>return</th>\n",
       "    </tr>\n",
       "  </thead>\n",
       "  <tbody>\n",
       "    <tr>\n",
       "      <th>2020-01-03</th>\n",
       "      <td>0.013600</td>\n",
       "      <td>-0.008575</td>\n",
       "    </tr>\n",
       "    <tr>\n",
       "      <th>2020-01-06</th>\n",
       "      <td>0.008321</td>\n",
       "      <td>0.004246</td>\n",
       "    </tr>\n",
       "    <tr>\n",
       "      <th>2020-01-07</th>\n",
       "      <td>0.007631</td>\n",
       "      <td>-0.016956</td>\n",
       "    </tr>\n",
       "    <tr>\n",
       "      <th>2020-01-08</th>\n",
       "      <td>0.025023</td>\n",
       "      <td>0.021884</td>\n",
       "    </tr>\n",
       "    <tr>\n",
       "      <th>2020-01-09</th>\n",
       "      <td>0.004946</td>\n",
       "      <td>0.005908</td>\n",
       "    </tr>\n",
       "  </tbody>\n",
       "</table>\n",
       "</div>"
      ]
     },
     "execution_count": 134,
     "metadata": {},
     "output_type": "execute_result"
    }
   ],
   "execution_count": 134
  },
  {
   "metadata": {
    "ExecuteTime": {
     "end_time": "2024-05-14T16:21:18.816129Z",
     "start_time": "2024-05-14T16:21:18.660620Z"
    }
   },
   "cell_type": "code",
   "source": [
    "'''\n",
    "Merge all the data\n",
    "'''\n",
    "non_mutual_indices = merged_data.index.difference(oxford_rv.index)\n",
    "\n",
    "merged_data = merged_data.loc[non_mutual_indices]\n",
    "\n",
    "final_data = pd.concat([oxford_rv, merged_data])"
   ],
   "id": "99d095781db10c15",
   "outputs": [],
   "execution_count": 135
  },
  {
   "metadata": {
    "ExecuteTime": {
     "end_time": "2024-05-14T16:21:33.259961Z",
     "start_time": "2024-05-14T16:21:33.042242Z"
    }
   },
   "cell_type": "code",
   "source": [
    "'''\n",
    "Save the final data\n",
    "'''\n",
    "final_data.to_csv('Data/SPX/SPX_final_data.csv')"
   ],
   "id": "6731867325b16b02",
   "outputs": [],
   "execution_count": 137
  }
 ],
 "metadata": {
  "kernelspec": {
   "display_name": "Python 3",
   "language": "python",
   "name": "python3"
  },
  "language_info": {
   "codemirror_mode": {
    "name": "ipython",
    "version": 2
   },
   "file_extension": ".py",
   "mimetype": "text/x-python",
   "name": "python",
   "nbconvert_exporter": "python",
   "pygments_lexer": "ipython2",
   "version": "2.7.6"
  }
 },
 "nbformat": 4,
 "nbformat_minor": 5
}
