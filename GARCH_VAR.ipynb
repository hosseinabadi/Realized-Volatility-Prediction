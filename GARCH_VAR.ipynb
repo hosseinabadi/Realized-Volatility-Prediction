{
 "cells": [
  {
   "metadata": {},
   "cell_type": "markdown",
   "source": "Importing Libraries",
   "id": "228152f2451c1844"
  },
  {
   "metadata": {
    "ExecuteTime": {
     "end_time": "2024-05-19T07:51:42.523378Z",
     "start_time": "2024-05-19T07:51:42.312842Z"
    }
   },
   "cell_type": "code",
   "source": [
    "import pandas as pd\n",
    "from utils import *\n",
    "import matplotlib.pyplot as plt\n",
    "import warnings\n",
    "warnings.filterwarnings(\"ignore\")\n",
    "%load_ext autoreload\n",
    "%autoreload 2\n"
   ],
   "id": "69df1a54b5c476d9",
   "outputs": [
    {
     "name": "stdout",
     "output_type": "stream",
     "text": [
      "The autoreload extension is already loaded. To reload it, use:\n",
      "  %reload_ext autoreload\n"
     ]
    }
   ],
   "execution_count": 80
  },
  {
   "metadata": {},
   "cell_type": "markdown",
   "source": "Read the data",
   "id": "65b8a7eb9ed38bd9"
  },
  {
   "metadata": {
    "ExecuteTime": {
     "end_time": "2024-05-19T08:57:19.375131Z",
     "start_time": "2024-05-19T08:57:19.102246Z"
    }
   },
   "cell_type": "code",
   "source": [
    "data = pd.read_csv(\"Data/SPX/SPX_final_data.csv\", index_col=0, parse_dates=True)\n",
    "data = data.loc['2016':]\n",
    "data.head()"
   ],
   "id": "da0326cf5e5966ce",
   "outputs": [
    {
     "data": {
      "text/plain": [
       "                 rv5    return\n",
       "2016-01-04  0.018644 -0.015121\n",
       "2016-01-05  0.007912  0.001960\n",
       "2016-01-06  0.014094 -0.013133\n",
       "2016-01-07  0.019777 -0.024133\n",
       "2016-01-08  0.013277 -0.011079"
      ],
      "text/html": [
       "<div>\n",
       "<style scoped>\n",
       "    .dataframe tbody tr th:only-of-type {\n",
       "        vertical-align: middle;\n",
       "    }\n",
       "\n",
       "    .dataframe tbody tr th {\n",
       "        vertical-align: top;\n",
       "    }\n",
       "\n",
       "    .dataframe thead th {\n",
       "        text-align: right;\n",
       "    }\n",
       "</style>\n",
       "<table border=\"1\" class=\"dataframe\">\n",
       "  <thead>\n",
       "    <tr style=\"text-align: right;\">\n",
       "      <th></th>\n",
       "      <th>rv5</th>\n",
       "      <th>return</th>\n",
       "    </tr>\n",
       "  </thead>\n",
       "  <tbody>\n",
       "    <tr>\n",
       "      <th>2016-01-04</th>\n",
       "      <td>0.018644</td>\n",
       "      <td>-0.015121</td>\n",
       "    </tr>\n",
       "    <tr>\n",
       "      <th>2016-01-05</th>\n",
       "      <td>0.007912</td>\n",
       "      <td>0.001960</td>\n",
       "    </tr>\n",
       "    <tr>\n",
       "      <th>2016-01-06</th>\n",
       "      <td>0.014094</td>\n",
       "      <td>-0.013133</td>\n",
       "    </tr>\n",
       "    <tr>\n",
       "      <th>2016-01-07</th>\n",
       "      <td>0.019777</td>\n",
       "      <td>-0.024133</td>\n",
       "    </tr>\n",
       "    <tr>\n",
       "      <th>2016-01-08</th>\n",
       "      <td>0.013277</td>\n",
       "      <td>-0.011079</td>\n",
       "    </tr>\n",
       "  </tbody>\n",
       "</table>\n",
       "</div>"
      ]
     },
     "execution_count": 158,
     "metadata": {},
     "output_type": "execute_result"
    }
   ],
   "execution_count": 158
  },
  {
   "metadata": {
    "ExecuteTime": {
     "end_time": "2024-05-19T08:57:19.803577Z",
     "start_time": "2024-05-19T08:57:19.394946Z"
    }
   },
   "cell_type": "code",
   "source": [
    "import pandas as pd\n",
    "\n",
    "# Read the CSV file\n",
    "df = pd.read_csv('Data/Indicators/ADS Index.csv', sep=';', index_col=0)\n",
    "\n",
    "# Rename the column\n",
    "df.columns = ['ADS']\n",
    "\n",
    "# Convert the index to datetime\n",
    "df.index = pd.to_datetime(df.index, format='%Y:%m:%d')\n",
    "\n",
    "# Assuming 'data' is your other DataFrame and both 'data' and 'df' have a common column for merging\n",
    "data = data.merge(df, left_index=True, right_index=True, how='inner')\n",
    "# Print the DataFrame\n",
    "data.head()"
   ],
   "id": "1c561cb31ade49bb",
   "outputs": [
    {
     "data": {
      "text/plain": [
       "                 rv5    return       ADS\n",
       "2016-01-04  0.018644 -0.015121 -0.294595\n",
       "2016-01-05  0.007912  0.001960 -0.279636\n",
       "2016-01-06  0.014094 -0.013133 -0.265093\n",
       "2016-01-07  0.019777 -0.024133 -0.250960\n",
       "2016-01-08  0.013277 -0.011079 -0.237233"
      ],
      "text/html": [
       "<div>\n",
       "<style scoped>\n",
       "    .dataframe tbody tr th:only-of-type {\n",
       "        vertical-align: middle;\n",
       "    }\n",
       "\n",
       "    .dataframe tbody tr th {\n",
       "        vertical-align: top;\n",
       "    }\n",
       "\n",
       "    .dataframe thead th {\n",
       "        text-align: right;\n",
       "    }\n",
       "</style>\n",
       "<table border=\"1\" class=\"dataframe\">\n",
       "  <thead>\n",
       "    <tr style=\"text-align: right;\">\n",
       "      <th></th>\n",
       "      <th>rv5</th>\n",
       "      <th>return</th>\n",
       "      <th>ADS</th>\n",
       "    </tr>\n",
       "  </thead>\n",
       "  <tbody>\n",
       "    <tr>\n",
       "      <th>2016-01-04</th>\n",
       "      <td>0.018644</td>\n",
       "      <td>-0.015121</td>\n",
       "      <td>-0.294595</td>\n",
       "    </tr>\n",
       "    <tr>\n",
       "      <th>2016-01-05</th>\n",
       "      <td>0.007912</td>\n",
       "      <td>0.001960</td>\n",
       "      <td>-0.279636</td>\n",
       "    </tr>\n",
       "    <tr>\n",
       "      <th>2016-01-06</th>\n",
       "      <td>0.014094</td>\n",
       "      <td>-0.013133</td>\n",
       "      <td>-0.265093</td>\n",
       "    </tr>\n",
       "    <tr>\n",
       "      <th>2016-01-07</th>\n",
       "      <td>0.019777</td>\n",
       "      <td>-0.024133</td>\n",
       "      <td>-0.250960</td>\n",
       "    </tr>\n",
       "    <tr>\n",
       "      <th>2016-01-08</th>\n",
       "      <td>0.013277</td>\n",
       "      <td>-0.011079</td>\n",
       "      <td>-0.237233</td>\n",
       "    </tr>\n",
       "  </tbody>\n",
       "</table>\n",
       "</div>"
      ]
     },
     "execution_count": 159,
     "metadata": {},
     "output_type": "execute_result"
    }
   ],
   "execution_count": 159
  },
  {
   "metadata": {
    "ExecuteTime": {
     "end_time": "2024-05-19T08:57:20.166326Z",
     "start_time": "2024-05-19T08:57:19.803577Z"
    }
   },
   "cell_type": "code",
   "source": [
    "df = pd.read_csv('Data/Indicators/Economic Policy Index.csv', index_col=0)\n",
    "\n",
    "df.index = pd.to_datetime(df.index)\n",
    "\n",
    "data = data.merge(df, left_index=True, right_index=True, how='inner')\n",
    "\n",
    "data.head()"
   ],
   "id": "b51623a82d775d57",
   "outputs": [
    {
     "data": {
      "text/plain": [
       "                 rv5    return       ADS  USEPUINDXD\n",
       "2016-01-04  0.018644 -0.015121 -0.294595      106.94\n",
       "2016-01-05  0.007912  0.001960 -0.279636       52.80\n",
       "2016-01-06  0.014094 -0.013133 -0.265093       30.40\n",
       "2016-01-07  0.019777 -0.024133 -0.250960       56.40\n",
       "2016-01-08  0.013277 -0.011079 -0.237233       62.21"
      ],
      "text/html": [
       "<div>\n",
       "<style scoped>\n",
       "    .dataframe tbody tr th:only-of-type {\n",
       "        vertical-align: middle;\n",
       "    }\n",
       "\n",
       "    .dataframe tbody tr th {\n",
       "        vertical-align: top;\n",
       "    }\n",
       "\n",
       "    .dataframe thead th {\n",
       "        text-align: right;\n",
       "    }\n",
       "</style>\n",
       "<table border=\"1\" class=\"dataframe\">\n",
       "  <thead>\n",
       "    <tr style=\"text-align: right;\">\n",
       "      <th></th>\n",
       "      <th>rv5</th>\n",
       "      <th>return</th>\n",
       "      <th>ADS</th>\n",
       "      <th>USEPUINDXD</th>\n",
       "    </tr>\n",
       "  </thead>\n",
       "  <tbody>\n",
       "    <tr>\n",
       "      <th>2016-01-04</th>\n",
       "      <td>0.018644</td>\n",
       "      <td>-0.015121</td>\n",
       "      <td>-0.294595</td>\n",
       "      <td>106.94</td>\n",
       "    </tr>\n",
       "    <tr>\n",
       "      <th>2016-01-05</th>\n",
       "      <td>0.007912</td>\n",
       "      <td>0.001960</td>\n",
       "      <td>-0.279636</td>\n",
       "      <td>52.80</td>\n",
       "    </tr>\n",
       "    <tr>\n",
       "      <th>2016-01-06</th>\n",
       "      <td>0.014094</td>\n",
       "      <td>-0.013133</td>\n",
       "      <td>-0.265093</td>\n",
       "      <td>30.40</td>\n",
       "    </tr>\n",
       "    <tr>\n",
       "      <th>2016-01-07</th>\n",
       "      <td>0.019777</td>\n",
       "      <td>-0.024133</td>\n",
       "      <td>-0.250960</td>\n",
       "      <td>56.40</td>\n",
       "    </tr>\n",
       "    <tr>\n",
       "      <th>2016-01-08</th>\n",
       "      <td>0.013277</td>\n",
       "      <td>-0.011079</td>\n",
       "      <td>-0.237233</td>\n",
       "      <td>62.21</td>\n",
       "    </tr>\n",
       "  </tbody>\n",
       "</table>\n",
       "</div>"
      ]
     },
     "execution_count": 160,
     "metadata": {},
     "output_type": "execute_result"
    }
   ],
   "execution_count": 160
  },
  {
   "metadata": {
    "ExecuteTime": {
     "end_time": "2024-05-19T08:57:22.470197Z",
     "start_time": "2024-05-19T08:57:20.197574Z"
    }
   },
   "cell_type": "code",
   "source": [
    "import yfinance as yf\n",
    "import pandas as pd\n",
    "\n",
    "ticker_names = ['^IRX', '^FVX', '^TYX', '^VIX', 'DX-Y.NYB']\n",
    "symbol_names = ['13wb', '5yt', '30yt', 'VIX', 'Dollar_index']\n",
    "\n",
    "for ticker, symbol in zip(ticker_names, symbol_names):\n",
    "    # Download the data\n",
    "    data_yahoo = yf.download(ticker, start='2000-01-01', end='2024-12-31')\n",
    "\n",
    "    # Convert the index to datetime\n",
    "    data_yahoo.index = pd.to_datetime(data_yahoo.index)\n",
    "    \n",
    "    data_yahoo = data_yahoo[['Close']]\n",
    "\n",
    "    # Rename the column\n",
    "    data_yahoo.columns = [symbol]\n",
    "\n",
    "    # Merge the data with your existing dataframe\n",
    "    data = data.merge(data_yahoo, left_index=True, right_index=True, how='inner')\n",
    "\n",
    "data.head()"
   ],
   "id": "eee6cf665dd044ab",
   "outputs": [
    {
     "name": "stderr",
     "output_type": "stream",
     "text": [
      "[*********************100%%**********************]  1 of 1 completed\n",
      "[*********************100%%**********************]  1 of 1 completed\n",
      "[*********************100%%**********************]  1 of 1 completed\n",
      "[*********************100%%**********************]  1 of 1 completed\n",
      "[*********************100%%**********************]  1 of 1 completed\n"
     ]
    },
    {
     "data": {
      "text/plain": [
       "                 rv5    return       ADS  USEPUINDXD   13wb    5yt   30yt  \\\n",
       "2016-01-04  0.018644 -0.015121 -0.294595      106.94  0.155  1.735  2.990   \n",
       "2016-01-05  0.007912  0.001960 -0.279636       52.80  0.205  1.724  3.011   \n",
       "2016-01-06  0.014094 -0.013133 -0.265093       30.40  0.205  1.650  2.940   \n",
       "2016-01-07  0.019777 -0.024133 -0.250960       56.40  0.190  1.612  2.926   \n",
       "2016-01-08  0.013277 -0.011079 -0.237233       62.21  0.190  1.578  2.920   \n",
       "\n",
       "                  VIX  Dollar_index  \n",
       "2016-01-04  20.700001     98.870003  \n",
       "2016-01-05  19.340000     99.400002  \n",
       "2016-01-06  20.590000     99.180000  \n",
       "2016-01-07  24.990000     98.220001  \n",
       "2016-01-08  27.010000     98.540001  "
      ],
      "text/html": [
       "<div>\n",
       "<style scoped>\n",
       "    .dataframe tbody tr th:only-of-type {\n",
       "        vertical-align: middle;\n",
       "    }\n",
       "\n",
       "    .dataframe tbody tr th {\n",
       "        vertical-align: top;\n",
       "    }\n",
       "\n",
       "    .dataframe thead th {\n",
       "        text-align: right;\n",
       "    }\n",
       "</style>\n",
       "<table border=\"1\" class=\"dataframe\">\n",
       "  <thead>\n",
       "    <tr style=\"text-align: right;\">\n",
       "      <th></th>\n",
       "      <th>rv5</th>\n",
       "      <th>return</th>\n",
       "      <th>ADS</th>\n",
       "      <th>USEPUINDXD</th>\n",
       "      <th>13wb</th>\n",
       "      <th>5yt</th>\n",
       "      <th>30yt</th>\n",
       "      <th>VIX</th>\n",
       "      <th>Dollar_index</th>\n",
       "    </tr>\n",
       "  </thead>\n",
       "  <tbody>\n",
       "    <tr>\n",
       "      <th>2016-01-04</th>\n",
       "      <td>0.018644</td>\n",
       "      <td>-0.015121</td>\n",
       "      <td>-0.294595</td>\n",
       "      <td>106.94</td>\n",
       "      <td>0.155</td>\n",
       "      <td>1.735</td>\n",
       "      <td>2.990</td>\n",
       "      <td>20.700001</td>\n",
       "      <td>98.870003</td>\n",
       "    </tr>\n",
       "    <tr>\n",
       "      <th>2016-01-05</th>\n",
       "      <td>0.007912</td>\n",
       "      <td>0.001960</td>\n",
       "      <td>-0.279636</td>\n",
       "      <td>52.80</td>\n",
       "      <td>0.205</td>\n",
       "      <td>1.724</td>\n",
       "      <td>3.011</td>\n",
       "      <td>19.340000</td>\n",
       "      <td>99.400002</td>\n",
       "    </tr>\n",
       "    <tr>\n",
       "      <th>2016-01-06</th>\n",
       "      <td>0.014094</td>\n",
       "      <td>-0.013133</td>\n",
       "      <td>-0.265093</td>\n",
       "      <td>30.40</td>\n",
       "      <td>0.205</td>\n",
       "      <td>1.650</td>\n",
       "      <td>2.940</td>\n",
       "      <td>20.590000</td>\n",
       "      <td>99.180000</td>\n",
       "    </tr>\n",
       "    <tr>\n",
       "      <th>2016-01-07</th>\n",
       "      <td>0.019777</td>\n",
       "      <td>-0.024133</td>\n",
       "      <td>-0.250960</td>\n",
       "      <td>56.40</td>\n",
       "      <td>0.190</td>\n",
       "      <td>1.612</td>\n",
       "      <td>2.926</td>\n",
       "      <td>24.990000</td>\n",
       "      <td>98.220001</td>\n",
       "    </tr>\n",
       "    <tr>\n",
       "      <th>2016-01-08</th>\n",
       "      <td>0.013277</td>\n",
       "      <td>-0.011079</td>\n",
       "      <td>-0.237233</td>\n",
       "      <td>62.21</td>\n",
       "      <td>0.190</td>\n",
       "      <td>1.578</td>\n",
       "      <td>2.920</td>\n",
       "      <td>27.010000</td>\n",
       "      <td>98.540001</td>\n",
       "    </tr>\n",
       "  </tbody>\n",
       "</table>\n",
       "</div>"
      ]
     },
     "execution_count": 161,
     "metadata": {},
     "output_type": "execute_result"
    }
   ],
   "execution_count": 161
  },
  {
   "metadata": {
    "ExecuteTime": {
     "end_time": "2024-05-19T08:57:22.683281Z",
     "start_time": "2024-05-19T08:57:22.470197Z"
    }
   },
   "cell_type": "code",
   "source": [
    "data['13wb_return'] = np.log(data['13wb'] / data['13wb'].shift(1))\n",
    "data.dropna(inplace=True)"
   ],
   "id": "2aca9cfd20a20983",
   "outputs": [],
   "execution_count": 162
  },
  {
   "metadata": {
    "ExecuteTime": {
     "end_time": "2024-05-19T08:57:22.876136Z",
     "start_time": "2024-05-19T08:57:22.683281Z"
    }
   },
   "cell_type": "code",
   "source": "data['credit_spread'] = data['30yt'] - data['13wb']",
   "id": "9d58df28880994aa",
   "outputs": [],
   "execution_count": 163
  },
  {
   "metadata": {
    "ExecuteTime": {
     "end_time": "2024-05-19T08:57:23.103754Z",
     "start_time": "2024-05-19T08:57:22.876136Z"
    }
   },
   "cell_type": "code",
   "source": "data.drop(['13wb', '5yt', '30yt'], axis = 1, inplace = True)",
   "id": "5dd0da6a36c42f0d",
   "outputs": [],
   "execution_count": 164
  },
  {
   "metadata": {
    "ExecuteTime": {
     "end_time": "2024-05-19T08:57:23.300574Z",
     "start_time": "2024-05-19T08:57:23.104809Z"
    }
   },
   "cell_type": "code",
   "source": [
    "data['dollar_index_return'] = np.log(data['Dollar_index'] / data['Dollar_index'].shift(1))\n",
    "data.drop(['Dollar_index'], axis=1, inplace=True)\n",
    "data.dropna(inplace=True)"
   ],
   "id": "ee9dd0f65fee2027",
   "outputs": [],
   "execution_count": 165
  },
  {
   "metadata": {
    "ExecuteTime": {
     "end_time": "2024-05-19T08:57:23.869753Z",
     "start_time": "2024-05-19T08:57:23.300574Z"
    }
   },
   "cell_type": "code",
   "source": [
    "data_yahoo = yf.download('^SPX', start='2000-01-01', end='2024-12-31')\n",
    "\n",
    "# Convert the index to datetime\n",
    "data_yahoo.index = pd.to_datetime(data_yahoo.index)\n",
    "\n",
    "data_yahoo = data_yahoo[['Volume']]\n",
    "\n",
    "\n",
    "data = data.merge(data_yahoo, left_index=True, right_index=True, how='inner')\n",
    "\n",
    "data.head()"
   ],
   "id": "68fa6a5294cfd53a",
   "outputs": [
    {
     "name": "stderr",
     "output_type": "stream",
     "text": [
      "[*********************100%%**********************]  1 of 1 completed\n"
     ]
    },
    {
     "data": {
      "text/plain": [
       "                 rv5    return       ADS  USEPUINDXD        VIX  13wb_return  \\\n",
       "2016-01-06  0.014094 -0.013133 -0.265093       30.40  20.590000     0.000000   \n",
       "2016-01-07  0.019777 -0.024133 -0.250960       56.40  24.990000    -0.075986   \n",
       "2016-01-08  0.013277 -0.011079 -0.237233       62.21  27.010000     0.000000   \n",
       "2016-01-11  0.012732  0.000874 -0.198630       65.10  24.299999    -0.082238   \n",
       "2016-01-12  0.013360  0.007985 -0.186875       67.32  22.469999     0.182322   \n",
       "\n",
       "            credit_spread  dollar_index_return      Volume  \n",
       "2016-01-06          2.735            -0.002216  4336660000  \n",
       "2016-01-07          2.736            -0.009727  5076590000  \n",
       "2016-01-08          2.730             0.003253  4664940000  \n",
       "2016-01-11          2.781             0.001926  4607290000  \n",
       "2016-01-12          2.672             0.002428  4887260000  "
      ],
      "text/html": [
       "<div>\n",
       "<style scoped>\n",
       "    .dataframe tbody tr th:only-of-type {\n",
       "        vertical-align: middle;\n",
       "    }\n",
       "\n",
       "    .dataframe tbody tr th {\n",
       "        vertical-align: top;\n",
       "    }\n",
       "\n",
       "    .dataframe thead th {\n",
       "        text-align: right;\n",
       "    }\n",
       "</style>\n",
       "<table border=\"1\" class=\"dataframe\">\n",
       "  <thead>\n",
       "    <tr style=\"text-align: right;\">\n",
       "      <th></th>\n",
       "      <th>rv5</th>\n",
       "      <th>return</th>\n",
       "      <th>ADS</th>\n",
       "      <th>USEPUINDXD</th>\n",
       "      <th>VIX</th>\n",
       "      <th>13wb_return</th>\n",
       "      <th>credit_spread</th>\n",
       "      <th>dollar_index_return</th>\n",
       "      <th>Volume</th>\n",
       "    </tr>\n",
       "  </thead>\n",
       "  <tbody>\n",
       "    <tr>\n",
       "      <th>2016-01-06</th>\n",
       "      <td>0.014094</td>\n",
       "      <td>-0.013133</td>\n",
       "      <td>-0.265093</td>\n",
       "      <td>30.40</td>\n",
       "      <td>20.590000</td>\n",
       "      <td>0.000000</td>\n",
       "      <td>2.735</td>\n",
       "      <td>-0.002216</td>\n",
       "      <td>4336660000</td>\n",
       "    </tr>\n",
       "    <tr>\n",
       "      <th>2016-01-07</th>\n",
       "      <td>0.019777</td>\n",
       "      <td>-0.024133</td>\n",
       "      <td>-0.250960</td>\n",
       "      <td>56.40</td>\n",
       "      <td>24.990000</td>\n",
       "      <td>-0.075986</td>\n",
       "      <td>2.736</td>\n",
       "      <td>-0.009727</td>\n",
       "      <td>5076590000</td>\n",
       "    </tr>\n",
       "    <tr>\n",
       "      <th>2016-01-08</th>\n",
       "      <td>0.013277</td>\n",
       "      <td>-0.011079</td>\n",
       "      <td>-0.237233</td>\n",
       "      <td>62.21</td>\n",
       "      <td>27.010000</td>\n",
       "      <td>0.000000</td>\n",
       "      <td>2.730</td>\n",
       "      <td>0.003253</td>\n",
       "      <td>4664940000</td>\n",
       "    </tr>\n",
       "    <tr>\n",
       "      <th>2016-01-11</th>\n",
       "      <td>0.012732</td>\n",
       "      <td>0.000874</td>\n",
       "      <td>-0.198630</td>\n",
       "      <td>65.10</td>\n",
       "      <td>24.299999</td>\n",
       "      <td>-0.082238</td>\n",
       "      <td>2.781</td>\n",
       "      <td>0.001926</td>\n",
       "      <td>4607290000</td>\n",
       "    </tr>\n",
       "    <tr>\n",
       "      <th>2016-01-12</th>\n",
       "      <td>0.013360</td>\n",
       "      <td>0.007985</td>\n",
       "      <td>-0.186875</td>\n",
       "      <td>67.32</td>\n",
       "      <td>22.469999</td>\n",
       "      <td>0.182322</td>\n",
       "      <td>2.672</td>\n",
       "      <td>0.002428</td>\n",
       "      <td>4887260000</td>\n",
       "    </tr>\n",
       "  </tbody>\n",
       "</table>\n",
       "</div>"
      ]
     },
     "execution_count": 166,
     "metadata": {},
     "output_type": "execute_result"
    }
   ],
   "execution_count": 166
  },
  {
   "metadata": {
    "ExecuteTime": {
     "end_time": "2024-05-19T08:57:24.081003Z",
     "start_time": "2024-05-19T08:57:23.869753Z"
    }
   },
   "cell_type": "code",
   "source": [
    "test_data = data.iloc[-int(len(data) * 0.1):]\n",
    "data = data.iloc[:-int(len(data) * 0.1)]"
   ],
   "id": "e82db7fe33dfedc3",
   "outputs": [],
   "execution_count": 167
  },
  {
   "metadata": {},
   "cell_type": "markdown",
   "source": "GARCH",
   "id": "ee1b5e178e68b3ca"
  },
  {
   "metadata": {
    "ExecuteTime": {
     "end_time": "2024-05-19T07:17:45.128534Z",
     "start_time": "2024-05-19T07:17:44.921774Z"
    }
   },
   "cell_type": "code",
   "source": "daily_data = data[['return', 'rv5']]",
   "id": "921c982aa1e3b3de",
   "outputs": [],
   "execution_count": 13
  },
  {
   "metadata": {},
   "cell_type": "markdown",
   "source": [
    "\n",
    "Test 1: Stationarity Test (Augmented Dickey-Fuller Test) on returns. If the p-value is less than a chosen significance level (commonly 0.05), you reject the null hypothesis of a unit root, indicating that the time series is stationary."
   ],
   "id": "d59a6a829408532f"
  },
  {
   "metadata": {
    "ExecuteTime": {
     "end_time": "2024-05-19T07:17:45.752529Z",
     "start_time": "2024-05-19T07:17:45.470696Z"
    }
   },
   "cell_type": "code",
   "source": "stationarity_test(daily_data['return'])",
   "id": "9954f8a12e06a088",
   "outputs": [
    {
     "name": "stdout",
     "output_type": "stream",
     "text": [
      "ADF Statistic: -13.686944\n",
      "p-value: 0.000000\n",
      "Critical Values:\n",
      "\t1%: -3.434\n",
      "\t5%: -2.863\n",
      "\t10%: -2.568\n"
     ]
    }
   ],
   "execution_count": 14
  },
  {
   "metadata": {},
   "cell_type": "markdown",
   "source": "Test 2: Autocorrelation with Ljung-Box Test. If the p-value is less than a chosen significance level (commonly 0.05), you reject the null hypothesis that there is no autocorrelation. This suggests that there is significant autocorrelation in the series.",
   "id": "85845679e4aac737"
  },
  {
   "metadata": {
    "ExecuteTime": {
     "end_time": "2024-05-19T07:17:46.042473Z",
     "start_time": "2024-05-19T07:17:45.768237Z"
    }
   },
   "cell_type": "code",
   "source": "Ljung_Box_Test(daily_data['return'], 15)",
   "id": "104ce71e7b22d8f5",
   "outputs": [
    {
     "data": {
      "text/plain": [
       "      lb_stat     lb_pvalue\n",
       "1   33.606321  6.747309e-09\n",
       "2   51.174093  7.721236e-12\n",
       "3   53.589881  1.372383e-11\n",
       "4   56.823968  1.346965e-11\n",
       "5   58.662058  2.296495e-11\n",
       "6   61.382859  2.355957e-11\n",
       "7   61.427619  7.825717e-11\n",
       "8   61.473796  2.393292e-10\n",
       "9   73.335092  3.365902e-12\n",
       "10  78.753168  8.808937e-13\n",
       "11  79.213520  2.094092e-12\n",
       "12  80.296693  3.622961e-12\n",
       "13  81.530371  5.680906e-12\n",
       "14  81.952097  1.227267e-11\n",
       "15  82.326369  2.616215e-11"
      ],
      "text/html": [
       "<div>\n",
       "<style scoped>\n",
       "    .dataframe tbody tr th:only-of-type {\n",
       "        vertical-align: middle;\n",
       "    }\n",
       "\n",
       "    .dataframe tbody tr th {\n",
       "        vertical-align: top;\n",
       "    }\n",
       "\n",
       "    .dataframe thead th {\n",
       "        text-align: right;\n",
       "    }\n",
       "</style>\n",
       "<table border=\"1\" class=\"dataframe\">\n",
       "  <thead>\n",
       "    <tr style=\"text-align: right;\">\n",
       "      <th></th>\n",
       "      <th>lb_stat</th>\n",
       "      <th>lb_pvalue</th>\n",
       "    </tr>\n",
       "  </thead>\n",
       "  <tbody>\n",
       "    <tr>\n",
       "      <th>1</th>\n",
       "      <td>33.606321</td>\n",
       "      <td>6.747309e-09</td>\n",
       "    </tr>\n",
       "    <tr>\n",
       "      <th>2</th>\n",
       "      <td>51.174093</td>\n",
       "      <td>7.721236e-12</td>\n",
       "    </tr>\n",
       "    <tr>\n",
       "      <th>3</th>\n",
       "      <td>53.589881</td>\n",
       "      <td>1.372383e-11</td>\n",
       "    </tr>\n",
       "    <tr>\n",
       "      <th>4</th>\n",
       "      <td>56.823968</td>\n",
       "      <td>1.346965e-11</td>\n",
       "    </tr>\n",
       "    <tr>\n",
       "      <th>5</th>\n",
       "      <td>58.662058</td>\n",
       "      <td>2.296495e-11</td>\n",
       "    </tr>\n",
       "    <tr>\n",
       "      <th>6</th>\n",
       "      <td>61.382859</td>\n",
       "      <td>2.355957e-11</td>\n",
       "    </tr>\n",
       "    <tr>\n",
       "      <th>7</th>\n",
       "      <td>61.427619</td>\n",
       "      <td>7.825717e-11</td>\n",
       "    </tr>\n",
       "    <tr>\n",
       "      <th>8</th>\n",
       "      <td>61.473796</td>\n",
       "      <td>2.393292e-10</td>\n",
       "    </tr>\n",
       "    <tr>\n",
       "      <th>9</th>\n",
       "      <td>73.335092</td>\n",
       "      <td>3.365902e-12</td>\n",
       "    </tr>\n",
       "    <tr>\n",
       "      <th>10</th>\n",
       "      <td>78.753168</td>\n",
       "      <td>8.808937e-13</td>\n",
       "    </tr>\n",
       "    <tr>\n",
       "      <th>11</th>\n",
       "      <td>79.213520</td>\n",
       "      <td>2.094092e-12</td>\n",
       "    </tr>\n",
       "    <tr>\n",
       "      <th>12</th>\n",
       "      <td>80.296693</td>\n",
       "      <td>3.622961e-12</td>\n",
       "    </tr>\n",
       "    <tr>\n",
       "      <th>13</th>\n",
       "      <td>81.530371</td>\n",
       "      <td>5.680906e-12</td>\n",
       "    </tr>\n",
       "    <tr>\n",
       "      <th>14</th>\n",
       "      <td>81.952097</td>\n",
       "      <td>1.227267e-11</td>\n",
       "    </tr>\n",
       "    <tr>\n",
       "      <th>15</th>\n",
       "      <td>82.326369</td>\n",
       "      <td>2.616215e-11</td>\n",
       "    </tr>\n",
       "  </tbody>\n",
       "</table>\n",
       "</div>"
      ]
     },
     "execution_count": 15,
     "metadata": {},
     "output_type": "execute_result"
    }
   ],
   "execution_count": 15
  },
  {
   "metadata": {
    "ExecuteTime": {
     "end_time": "2024-05-19T07:17:46.761538Z",
     "start_time": "2024-05-19T07:17:46.183071Z"
    }
   },
   "cell_type": "code",
   "source": "plot_autocorrelations(['return'], [daily_data['return']])\n",
   "id": "4ed8e6203aac8d35",
   "outputs": [
    {
     "data": {
      "text/plain": [
       "<Figure size 1500x500 with 2 Axes>"
      ],
      "image/png": "[encoded data removed]"
     },
     "metadata": {},
     "output_type": "display_data"
    }
   ],
   "execution_count": 16
  },
  {
   "metadata": {},
   "cell_type": "markdown",
   "source": "Since the returns are clearly not autocorrelated, we would use Y_t = mu + epsilon_t and we see later that the mu ~= 0",
   "id": "9b40caf4a425f97f"
  },
  {
   "metadata": {
    "ExecuteTime": {
     "end_time": "2024-05-19T07:17:53.991661Z",
     "start_time": "2024-05-19T07:17:47.110195Z"
    }
   },
   "cell_type": "code",
   "source": [
    "import pandas as pd\n",
    "from statsmodels.tsa.arima.model import ARIMA\n",
    "import numpy as np\n",
    "\n",
    "# Assuming 'data' is your DataFrame and 'returns' is the column you want to model\n",
    "returns = daily_data[['return']]\n",
    "\n",
    "# Define the range of values for p, d and q\n",
    "p_values = range(0, 3)\n",
    "d_values = range(0, 1)\n",
    "q_values = range(0, 3)\n",
    "\n",
    "# Initialize variables to store the best results\n",
    "best_aic = np.inf\n",
    "best_bic = np.inf\n",
    "best_order_aic = None\n",
    "best_order_bic = None\n",
    "\n",
    "# Iterate over all combinations of p, d and q\n",
    "for p in p_values:\n",
    "    for d in d_values:\n",
    "        for q in q_values:\n",
    "            # Fit the ARIMA model\n",
    "            model = ARIMA(returns, order=(p, d, q))\n",
    "            result = model.fit()\n",
    "\n",
    "            # Update the best AIC model\n",
    "            if result.aic < best_aic:\n",
    "                best_aic = result.aic\n",
    "                best_order_aic = (p, d, q)\n",
    "\n",
    "            # Update the best BIC model\n",
    "            if result.bic < best_bic:\n",
    "                best_bic = result.bic\n",
    "                best_order_bic = (p, d, q)\n",
    "# Print the best models\n",
    "print(f\"Best AIC model: ARIMA{best_order_aic} with AIC={best_aic}\")\n",
    "print(f\"Best BIC model: ARIMA{best_order_bic} with BIC={best_bic}\")"
   ],
   "id": "f4ad6671aa5e9d97",
   "outputs": [
    {
     "name": "stdout",
     "output_type": "stream",
     "text": [
      "Best AIC model: ARIMA(2, 0, 0) with AIC=-11329.411578399591\n",
      "Best BIC model: ARIMA(2, 0, 0) with BIC=-11307.261858253245\n"
     ]
    }
   ],
   "execution_count": 17
  },
  {
   "metadata": {
    "ExecuteTime": {
     "end_time": "2024-05-19T07:31:31.430546Z",
     "start_time": "2024-05-19T07:31:30.707403Z"
    }
   },
   "cell_type": "code",
   "source": [
    "import pandas as pd\n",
    "from statsmodels.tsa.arima.model import ARIMA\n",
    "from arch import arch_model\n",
    "\n",
    "# Assuming 'data' is your DataFrame and 'returns' is the column you want to model\n",
    "returns = daily_data['return']\n",
    "\n",
    "# Fit an ARIMA model\n",
    "arima_model = ARIMA(returns, order=(2, 0, 0))  # Adjust the order parameters as needed\n",
    "arima_result = arima_model.fit()\n",
    "\n",
    "# Get the residuals from the ARIMA model\n",
    "daily_data['ARIMA_res'] = arima_result.resid\n"
   ],
   "id": "497d2be226c217",
   "outputs": [],
   "execution_count": 49
  },
  {
   "metadata": {},
   "cell_type": "markdown",
   "source": "We don't have autocorrelation in the first few lags.",
   "id": "7c80e6dd44846552"
  },
  {
   "metadata": {
    "ExecuteTime": {
     "end_time": "2024-05-19T07:31:33.100661Z",
     "start_time": "2024-05-19T07:31:32.877067Z"
    }
   },
   "cell_type": "code",
   "source": "Ljung_Box_Test(daily_data['ARIMA_res'], 15)",
   "id": "f690e96d72ea1bdb",
   "outputs": [
    {
     "data": {
      "text/plain": [
       "      lb_stat  lb_pvalue\n",
       "1    0.011304   0.915328\n",
       "2    0.025286   0.987437\n",
       "3    0.603283   0.895680\n",
       "4    7.907523   0.095025\n",
       "5    9.669186   0.085170\n",
       "6   12.763355   0.046952\n",
       "7   12.810719   0.076857\n",
       "8   12.878326   0.116105\n",
       "9   23.346709   0.005463\n",
       "10  26.776752   0.002825\n",
       "11  26.792306   0.004939\n",
       "12  27.796902   0.005923\n",
       "13  29.525848   0.005509\n",
       "14  30.157271   0.007260\n",
       "15  30.519364   0.010181"
      ],
      "text/html": [
       "<div>\n",
       "<style scoped>\n",
       "    .dataframe tbody tr th:only-of-type {\n",
       "        vertical-align: middle;\n",
       "    }\n",
       "\n",
       "    .dataframe tbody tr th {\n",
       "        vertical-align: top;\n",
       "    }\n",
       "\n",
       "    .dataframe thead th {\n",
       "        text-align: right;\n",
       "    }\n",
       "</style>\n",
       "<table border=\"1\" class=\"dataframe\">\n",
       "  <thead>\n",
       "    <tr style=\"text-align: right;\">\n",
       "      <th></th>\n",
       "      <th>lb_stat</th>\n",
       "      <th>lb_pvalue</th>\n",
       "    </tr>\n",
       "  </thead>\n",
       "  <tbody>\n",
       "    <tr>\n",
       "      <th>1</th>\n",
       "      <td>0.011304</td>\n",
       "      <td>0.915328</td>\n",
       "    </tr>\n",
       "    <tr>\n",
       "      <th>2</th>\n",
       "      <td>0.025286</td>\n",
       "      <td>0.987437</td>\n",
       "    </tr>\n",
       "    <tr>\n",
       "      <th>3</th>\n",
       "      <td>0.603283</td>\n",
       "      <td>0.895680</td>\n",
       "    </tr>\n",
       "    <tr>\n",
       "      <th>4</th>\n",
       "      <td>7.907523</td>\n",
       "      <td>0.095025</td>\n",
       "    </tr>\n",
       "    <tr>\n",
       "      <th>5</th>\n",
       "      <td>9.669186</td>\n",
       "      <td>0.085170</td>\n",
       "    </tr>\n",
       "    <tr>\n",
       "      <th>6</th>\n",
       "      <td>12.763355</td>\n",
       "      <td>0.046952</td>\n",
       "    </tr>\n",
       "    <tr>\n",
       "      <th>7</th>\n",
       "      <td>12.810719</td>\n",
       "      <td>0.076857</td>\n",
       "    </tr>\n",
       "    <tr>\n",
       "      <th>8</th>\n",
       "      <td>12.878326</td>\n",
       "      <td>0.116105</td>\n",
       "    </tr>\n",
       "    <tr>\n",
       "      <th>9</th>\n",
       "      <td>23.346709</td>\n",
       "      <td>0.005463</td>\n",
       "    </tr>\n",
       "    <tr>\n",
       "      <th>10</th>\n",
       "      <td>26.776752</td>\n",
       "      <td>0.002825</td>\n",
       "    </tr>\n",
       "    <tr>\n",
       "      <th>11</th>\n",
       "      <td>26.792306</td>\n",
       "      <td>0.004939</td>\n",
       "    </tr>\n",
       "    <tr>\n",
       "      <th>12</th>\n",
       "      <td>27.796902</td>\n",
       "      <td>0.005923</td>\n",
       "    </tr>\n",
       "    <tr>\n",
       "      <th>13</th>\n",
       "      <td>29.525848</td>\n",
       "      <td>0.005509</td>\n",
       "    </tr>\n",
       "    <tr>\n",
       "      <th>14</th>\n",
       "      <td>30.157271</td>\n",
       "      <td>0.007260</td>\n",
       "    </tr>\n",
       "    <tr>\n",
       "      <th>15</th>\n",
       "      <td>30.519364</td>\n",
       "      <td>0.010181</td>\n",
       "    </tr>\n",
       "  </tbody>\n",
       "</table>\n",
       "</div>"
      ]
     },
     "execution_count": 50,
     "metadata": {},
     "output_type": "execute_result"
    }
   ],
   "execution_count": 50
  },
  {
   "metadata": {
    "ExecuteTime": {
     "end_time": "2024-05-19T07:31:40.837068Z",
     "start_time": "2024-05-19T07:31:40.629154Z"
    }
   },
   "cell_type": "code",
   "source": "Ljung_Box_Test(daily_data['ARIMA_res'] ** 2, 15)",
   "id": "3b67b1e53ced9a4b",
   "outputs": [
    {
     "data": {
      "text/plain": [
       "        lb_stat      lb_pvalue\n",
       "1    310.283164   1.894695e-69\n",
       "2    765.879689  4.912909e-167\n",
       "3   1030.635609  4.066628e-223\n",
       "4   1168.392167  1.132834e-251\n",
       "5   1612.528929   0.000000e+00\n",
       "6   1733.541124   0.000000e+00\n",
       "7   1961.243833   0.000000e+00\n",
       "8   2104.144003   0.000000e+00\n",
       "9   2179.311696   0.000000e+00\n",
       "10  2349.854385   0.000000e+00\n",
       "11  2381.093533   0.000000e+00\n",
       "12  2434.551098   0.000000e+00\n",
       "13  2502.856561   0.000000e+00\n",
       "14  2529.601391   0.000000e+00\n",
       "15  2600.564483   0.000000e+00"
      ],
      "text/html": [
       "<div>\n",
       "<style scoped>\n",
       "    .dataframe tbody tr th:only-of-type {\n",
       "        vertical-align: middle;\n",
       "    }\n",
       "\n",
       "    .dataframe tbody tr th {\n",
       "        vertical-align: top;\n",
       "    }\n",
       "\n",
       "    .dataframe thead th {\n",
       "        text-align: right;\n",
       "    }\n",
       "</style>\n",
       "<table border=\"1\" class=\"dataframe\">\n",
       "  <thead>\n",
       "    <tr style=\"text-align: right;\">\n",
       "      <th></th>\n",
       "      <th>lb_stat</th>\n",
       "      <th>lb_pvalue</th>\n",
       "    </tr>\n",
       "  </thead>\n",
       "  <tbody>\n",
       "    <tr>\n",
       "      <th>1</th>\n",
       "      <td>310.283164</td>\n",
       "      <td>1.894695e-69</td>\n",
       "    </tr>\n",
       "    <tr>\n",
       "      <th>2</th>\n",
       "      <td>765.879689</td>\n",
       "      <td>4.912909e-167</td>\n",
       "    </tr>\n",
       "    <tr>\n",
       "      <th>3</th>\n",
       "      <td>1030.635609</td>\n",
       "      <td>4.066628e-223</td>\n",
       "    </tr>\n",
       "    <tr>\n",
       "      <th>4</th>\n",
       "      <td>1168.392167</td>\n",
       "      <td>1.132834e-251</td>\n",
       "    </tr>\n",
       "    <tr>\n",
       "      <th>5</th>\n",
       "      <td>1612.528929</td>\n",
       "      <td>0.000000e+00</td>\n",
       "    </tr>\n",
       "    <tr>\n",
       "      <th>6</th>\n",
       "      <td>1733.541124</td>\n",
       "      <td>0.000000e+00</td>\n",
       "    </tr>\n",
       "    <tr>\n",
       "      <th>7</th>\n",
       "      <td>1961.243833</td>\n",
       "      <td>0.000000e+00</td>\n",
       "    </tr>\n",
       "    <tr>\n",
       "      <th>8</th>\n",
       "      <td>2104.144003</td>\n",
       "      <td>0.000000e+00</td>\n",
       "    </tr>\n",
       "    <tr>\n",
       "      <th>9</th>\n",
       "      <td>2179.311696</td>\n",
       "      <td>0.000000e+00</td>\n",
       "    </tr>\n",
       "    <tr>\n",
       "      <th>10</th>\n",
       "      <td>2349.854385</td>\n",
       "      <td>0.000000e+00</td>\n",
       "    </tr>\n",
       "    <tr>\n",
       "      <th>11</th>\n",
       "      <td>2381.093533</td>\n",
       "      <td>0.000000e+00</td>\n",
       "    </tr>\n",
       "    <tr>\n",
       "      <th>12</th>\n",
       "      <td>2434.551098</td>\n",
       "      <td>0.000000e+00</td>\n",
       "    </tr>\n",
       "    <tr>\n",
       "      <th>13</th>\n",
       "      <td>2502.856561</td>\n",
       "      <td>0.000000e+00</td>\n",
       "    </tr>\n",
       "    <tr>\n",
       "      <th>14</th>\n",
       "      <td>2529.601391</td>\n",
       "      <td>0.000000e+00</td>\n",
       "    </tr>\n",
       "    <tr>\n",
       "      <th>15</th>\n",
       "      <td>2600.564483</td>\n",
       "      <td>0.000000e+00</td>\n",
       "    </tr>\n",
       "  </tbody>\n",
       "</table>\n",
       "</div>"
      ]
     },
     "execution_count": 51,
     "metadata": {},
     "output_type": "execute_result"
    }
   ],
   "execution_count": 51
  },
  {
   "metadata": {
    "ExecuteTime": {
     "end_time": "2024-05-19T07:31:47.326409Z",
     "start_time": "2024-05-19T07:31:46.567985Z"
    }
   },
   "cell_type": "code",
   "source": "plot_autocorrelations(['ARIMA_res', 'ARIMA_res^2'], [daily_data['ARIMA_res'], daily_data['ARIMA_res'] ** 2])",
   "id": "6f11089a7b399d18",
   "outputs": [
    {
     "data": {
      "text/plain": [
       "<Figure size 1500x1000 with 4 Axes>"
      ],
      "image/png": "[encoded data removed]"
     },
     "metadata": {},
     "output_type": "display_data"
    }
   ],
   "execution_count": 52
  },
  {
   "metadata": {},
   "cell_type": "markdown",
   "source": "GARCH Model",
   "id": "206ecb064d927c36"
  },
  {
   "metadata": {
    "ExecuteTime": {
     "end_time": "2024-05-19T07:31:52.355017Z",
     "start_time": "2024-05-19T07:31:52.157273Z"
    }
   },
   "cell_type": "code",
   "source": [
    "import importlib\n",
    "import vol_models\n",
    "\n",
    "importlib.reload(vol_models)\n",
    "from vol_models import GARCHModel"
   ],
   "id": "5dea8dcc6f4ec6",
   "outputs": [],
   "execution_count": 53
  },
  {
   "metadata": {},
   "cell_type": "markdown",
   "source": "Hyperparameter search. We don't use log likelihood because it doesn't take into account the number of parameters in the model. We use AIC and BIC instead.",
   "id": "8a4c4511bed1532b"
  },
  {
   "metadata": {
    "ExecuteTime": {
     "end_time": "2024-05-19T07:36:01.009896Z",
     "start_time": "2024-05-19T07:35:53.026643Z"
    }
   },
   "cell_type": "code",
   "source": [
    "import numpy as np\n",
    "from arch import arch_model\n",
    "\n",
    "# Assuming 'daily_data' is your DataFrame and 'residuals' is the column you want to model\n",
    "# Define the range of values for p and q\n",
    "p_values = range(1, 7)\n",
    "q_values = range(1, 7)\n",
    "\n",
    "# Define the distributions\n",
    "distributions = ['normal', 't', 'skewt']\n",
    "\n",
    "# Initialize variables to store the best results\n",
    "best_bic = np.inf\n",
    "best_aic = np.inf\n",
    "best_model_bic = None\n",
    "best_model_aic = None\n",
    "\n",
    "# Iterate over all combinations of p, q, and distribution\n",
    "for dist in distributions:\n",
    "    for p in p_values:\n",
    "        for q in q_values:\n",
    "            # Fit the GARCH model\n",
    "            garch_model = GARCHModel(p,q, dist = dist)\n",
    "            garch_model.fit_garch_model(daily_data['ARIMA_res'] * 100, disp = 'off')\n",
    "            # Get BIC, AIC\n",
    "            bic = garch_model.result.bic\n",
    "            aic = garch_model.result.aic\n",
    "\n",
    "            # Update the best BIC model\n",
    "            if bic < best_bic:\n",
    "                best_bic = bic\n",
    "                best_model_bic = [p,q]\n",
    "\n",
    "            # Update the best AIC model\n",
    "            if aic < best_aic:\n",
    "                best_aic = aic\n",
    "                best_model_aic = [p,q]\n",
    "\n",
    "\n",
    "    # Print the best models\n",
    "    print(f\"Best BIC model for {dist}:\", best_model_bic)\n",
    "    print(f\"Best AIC model for {dist}:\", best_model_aic)"
   ],
   "id": "874c64a0723d0b8f",
   "outputs": [
    {
     "name": "stdout",
     "output_type": "stream",
     "text": [
      "Best BIC model for normal: [1, 1]\n",
      "Best AIC model for normal: [1, 1]\n",
      "Best BIC model for t: [1, 1]\n",
      "Best AIC model for t: [1, 1]\n",
      "Best BIC model for skewt: [1, 1]\n",
      "Best AIC model for skewt: [1, 1]\n"
     ]
    }
   ],
   "execution_count": 55
  },
  {
   "metadata": {
    "ExecuteTime": {
     "end_time": "2024-05-19T07:36:07.059051Z",
     "start_time": "2024-05-19T07:36:06.727830Z"
    }
   },
   "cell_type": "code",
   "source": [
    "import numpy as np\n",
    "from arch import arch_model\n",
    "\n",
    "# Define the distributions\n",
    "distributions = ['normal', 't', 'skewt']\n",
    "\n",
    "# Initialize variables to store the best results\n",
    "best_bic = np.inf\n",
    "best_aic = np.inf\n",
    "best_dist_bic = None\n",
    "best_dist_aic = None\n",
    "\n",
    "# Iterate over all distributions\n",
    "for dist in distributions:\n",
    "    # Fit the GARCH model\n",
    "    garch_model = GARCHModel(1,1, dist = dist)\n",
    "    garch_model.fit_garch_model(daily_data['ARIMA_res'] * 100, disp = 'off')\n",
    "    # Get BIC, AIC, and log-likelihood\n",
    "    bic = garch_model.result.bic\n",
    "    aic = garch_model.result.aic\n",
    "\n",
    "    # Update the best BIC distribution\n",
    "    if bic < best_bic:\n",
    "        best_bic = bic\n",
    "        best_dist_bic = dist\n",
    "\n",
    "    # Update the best AIC distribution\n",
    "    if aic < best_aic:\n",
    "        best_aic = aic\n",
    "        best_dist_aic = dist\n",
    "\n",
    "\n",
    "# Print the best distributions\n",
    "print(f\"Best BIC distribution: {best_dist_bic}\")\n",
    "print(f\"Best AIC distribution: {best_dist_aic}\")"
   ],
   "id": "3683fc135b2a374",
   "outputs": [
    {
     "name": "stdout",
     "output_type": "stream",
     "text": [
      "Best BIC distribution: skewt\n",
      "Best AIC distribution: skewt\n"
     ]
    }
   ],
   "execution_count": 56
  },
  {
   "metadata": {},
   "cell_type": "markdown",
   "source": "Until here we decide that the best distribution is the t distribution",
   "id": "e69024e71d07f283"
  },
  {
   "metadata": {
    "ExecuteTime": {
     "end_time": "2024-05-19T07:36:16.983925Z",
     "start_time": "2024-05-19T07:36:16.409620Z"
    }
   },
   "cell_type": "code",
   "source": [
    "garch_1_1_t = GARCHModel(1,1, dist = 'skewt')\n",
    "garch_1_1_t.fit_garch_model(daily_data['ARIMA_res'] * 100)\n",
    "garch_1_1_t.plot_results()"
   ],
   "id": "658a9a4830a269b5",
   "outputs": [
    {
     "name": "stdout",
     "output_type": "stream",
     "text": [
      "Iteration:      1,   Func. Count:      7,   Neg. LLF: 10409.334377570074\n",
      "Iteration:      2,   Func. Count:     17,   Neg. LLF: 33544.95332347962\n",
      "Iteration:      3,   Func. Count:     24,   Neg. LLF: 2422.9639625214036\n",
      "Iteration:      4,   Func. Count:     31,   Neg. LLF: 39854.00402090568\n",
      "Iteration:      5,   Func. Count:     39,   Neg. LLF: 2396.0322499460053\n",
      "Iteration:      6,   Func. Count:     45,   Neg. LLF: 2395.5904072917783\n",
      "Iteration:      7,   Func. Count:     51,   Neg. LLF: 3479.2031021869834\n",
      "Iteration:      8,   Func. Count:     59,   Neg. LLF: 2400.82110702731\n",
      "Iteration:      9,   Func. Count:     66,   Neg. LLF: 2395.3704718316276\n",
      "Iteration:     10,   Func. Count:     72,   Neg. LLF: 2395.3647478091634\n",
      "Iteration:     11,   Func. Count:     78,   Neg. LLF: 2395.364696233033\n",
      "Iteration:     12,   Func. Count:     83,   Neg. LLF: 2395.364696233015\n",
      "Optimization terminated successfully    (Exit mode 0)\n",
      "            Current function value: 2395.364696233033\n",
      "            Iterations: 12\n",
      "            Function evaluations: 83\n",
      "            Gradient evaluations: 12\n",
      "                             Zero Mean - GARCH Model Results                             \n",
      "=========================================================================================\n",
      "Dep. Variable:                         ARIMA_res   R-squared:                       0.000\n",
      "Mean Model:                            Zero Mean   Adj. R-squared:                  0.001\n",
      "Vol Model:                                 GARCH   Log-Likelihood:               -2395.36\n",
      "Distribution:      Standardized Skew Student's t   AIC:                           4800.73\n",
      "Method:                       Maximum Likelihood   BIC:                           4828.42\n",
      "                                                   No. Observations:                 1877\n",
      "Date:                           Sun, May 19 2024   Df Residuals:                     1877\n",
      "Time:                                   09:36:16   Df Model:                            0\n",
      "                              Volatility Model                              \n",
      "============================================================================\n",
      "                 coef    std err          t      P>|t|      95.0% Conf. Int.\n",
      "----------------------------------------------------------------------------\n",
      "omega          0.0180  6.270e-03      2.869  4.115e-03 [5.701e-03,3.028e-02]\n",
      "alpha[1]       0.1806  3.055e-02      5.912  3.386e-09     [  0.121,  0.240]\n",
      "beta[1]        0.8194  2.707e-02     30.270 2.848e-201     [  0.766,  0.872]\n",
      "                                Distribution                               \n",
      "===========================================================================\n",
      "                 coef    std err          t      P>|t|     95.0% Conf. Int.\n",
      "---------------------------------------------------------------------------\n",
      "eta            6.6807      1.013      6.594  4.289e-11    [  4.695,  8.667]\n",
      "lambda        -0.1454  3.072e-02     -4.734  2.205e-06 [ -0.206,-8.520e-02]\n",
      "===========================================================================\n",
      "\n",
      "Covariance estimator: robust\n"
     ]
    },
    {
     "data": {
      "text/plain": [
       "<Figure size 640x480 with 2 Axes>"
      ],
      "image/png": "[encoded data removed]"
     },
     "metadata": {},
     "output_type": "display_data"
    }
   ],
   "execution_count": 57
  },
  {
   "metadata": {},
   "cell_type": "markdown",
   "source": "Tesing for autocorrelation of standardized residuals. Residuals are i.i.d : There should be no autocorrelation in the residuals\n",
   "id": "f1d61cf211f5de1e"
  },
  {
   "metadata": {
    "ExecuteTime": {
     "end_time": "2024-05-19T07:36:42.425477Z",
     "start_time": "2024-05-19T07:36:42.212645Z"
    }
   },
   "cell_type": "code",
   "source": [
    "std_resid = garch_1_1_t.resid / garch_1_1_t.conditional_volatility\n",
    "Ljung_Box_Test(std_resid, 15)"
   ],
   "id": "17a49bf7e3a0d4bf",
   "outputs": [
    {
     "data": {
      "text/plain": [
       "      lb_stat  lb_pvalue\n",
       "1   13.757691   0.000208\n",
       "2   16.335818   0.000284\n",
       "3   16.727199   0.000804\n",
       "4   17.884164   0.001300\n",
       "5   19.069302   0.001866\n",
       "6   19.728470   0.003095\n",
       "7   21.042291   0.003708\n",
       "8   21.262120   0.006483\n",
       "9   21.316913   0.011315\n",
       "10  21.759532   0.016378\n",
       "11  21.787163   0.026075\n",
       "12  24.632520   0.016664\n",
       "13  25.730391   0.018474\n",
       "14  25.744909   0.027887\n",
       "15  25.745082   0.040789"
      ],
      "text/html": [
       "<div>\n",
       "<style scoped>\n",
       "    .dataframe tbody tr th:only-of-type {\n",
       "        vertical-align: middle;\n",
       "    }\n",
       "\n",
       "    .dataframe tbody tr th {\n",
       "        vertical-align: top;\n",
       "    }\n",
       "\n",
       "    .dataframe thead th {\n",
       "        text-align: right;\n",
       "    }\n",
       "</style>\n",
       "<table border=\"1\" class=\"dataframe\">\n",
       "  <thead>\n",
       "    <tr style=\"text-align: right;\">\n",
       "      <th></th>\n",
       "      <th>lb_stat</th>\n",
       "      <th>lb_pvalue</th>\n",
       "    </tr>\n",
       "  </thead>\n",
       "  <tbody>\n",
       "    <tr>\n",
       "      <th>1</th>\n",
       "      <td>13.757691</td>\n",
       "      <td>0.000208</td>\n",
       "    </tr>\n",
       "    <tr>\n",
       "      <th>2</th>\n",
       "      <td>16.335818</td>\n",
       "      <td>0.000284</td>\n",
       "    </tr>\n",
       "    <tr>\n",
       "      <th>3</th>\n",
       "      <td>16.727199</td>\n",
       "      <td>0.000804</td>\n",
       "    </tr>\n",
       "    <tr>\n",
       "      <th>4</th>\n",
       "      <td>17.884164</td>\n",
       "      <td>0.001300</td>\n",
       "    </tr>\n",
       "    <tr>\n",
       "      <th>5</th>\n",
       "      <td>19.069302</td>\n",
       "      <td>0.001866</td>\n",
       "    </tr>\n",
       "    <tr>\n",
       "      <th>6</th>\n",
       "      <td>19.728470</td>\n",
       "      <td>0.003095</td>\n",
       "    </tr>\n",
       "    <tr>\n",
       "      <th>7</th>\n",
       "      <td>21.042291</td>\n",
       "      <td>0.003708</td>\n",
       "    </tr>\n",
       "    <tr>\n",
       "      <th>8</th>\n",
       "      <td>21.262120</td>\n",
       "      <td>0.006483</td>\n",
       "    </tr>\n",
       "    <tr>\n",
       "      <th>9</th>\n",
       "      <td>21.316913</td>\n",
       "      <td>0.011315</td>\n",
       "    </tr>\n",
       "    <tr>\n",
       "      <th>10</th>\n",
       "      <td>21.759532</td>\n",
       "      <td>0.016378</td>\n",
       "    </tr>\n",
       "    <tr>\n",
       "      <th>11</th>\n",
       "      <td>21.787163</td>\n",
       "      <td>0.026075</td>\n",
       "    </tr>\n",
       "    <tr>\n",
       "      <th>12</th>\n",
       "      <td>24.632520</td>\n",
       "      <td>0.016664</td>\n",
       "    </tr>\n",
       "    <tr>\n",
       "      <th>13</th>\n",
       "      <td>25.730391</td>\n",
       "      <td>0.018474</td>\n",
       "    </tr>\n",
       "    <tr>\n",
       "      <th>14</th>\n",
       "      <td>25.744909</td>\n",
       "      <td>0.027887</td>\n",
       "    </tr>\n",
       "    <tr>\n",
       "      <th>15</th>\n",
       "      <td>25.745082</td>\n",
       "      <td>0.040789</td>\n",
       "    </tr>\n",
       "  </tbody>\n",
       "</table>\n",
       "</div>"
      ]
     },
     "execution_count": 58,
     "metadata": {},
     "output_type": "execute_result"
    }
   ],
   "execution_count": 58
  },
  {
   "metadata": {
    "ExecuteTime": {
     "end_time": "2024-05-19T07:36:47.869582Z",
     "start_time": "2024-05-19T07:36:47.393114Z"
    }
   },
   "cell_type": "code",
   "source": "plot_autocorrelations(['std_resid'], [std_resid])",
   "id": "6538c30e4e0f1b6e",
   "outputs": [
    {
     "data": {
      "text/plain": [
       "<Figure size 1500x500 with 2 Axes>"
      ],
      "image/png": "[encoded data removed]"
     },
     "metadata": {},
     "output_type": "display_data"
    }
   ],
   "execution_count": 59
  },
  {
   "metadata": {},
   "cell_type": "markdown",
   "source": "Arch effect test: The squared residuals should be correlated",
   "id": "ac2e0354611a5049"
  },
  {
   "metadata": {
    "ExecuteTime": {
     "end_time": "2024-05-19T07:36:50.516035Z",
     "start_time": "2024-05-19T07:36:50.281285Z"
    }
   },
   "cell_type": "code",
   "source": "garch_1_1_t.EngleArchTest_()",
   "id": "9a1d83a5668a7b83",
   "outputs": [
    {
     "name": "stdout",
     "output_type": "stream",
     "text": [
      "Test results: (736.2823834354874, 1.0159910106019228e-151, 120.85600185555236, 5.913734945720076e-194)\n"
     ]
    }
   ],
   "execution_count": 60
  },
  {
   "metadata": {
    "ExecuteTime": {
     "end_time": "2024-05-19T07:36:56.006901Z",
     "start_time": "2024-05-19T07:36:55.732529Z"
    }
   },
   "cell_type": "code",
   "source": "garch_1_1_t.result.params",
   "id": "af8d2ba8b9aa790d",
   "outputs": [
    {
     "data": {
      "text/plain": [
       "omega       0.017991\n",
       "alpha[1]    0.180617\n",
       "beta[1]     0.819383\n",
       "eta         6.680711\n",
       "lambda     -0.145411\n",
       "Name: params, dtype: float64"
      ]
     },
     "execution_count": 61,
     "metadata": {},
     "output_type": "execute_result"
    }
   ],
   "execution_count": 61
  },
  {
   "metadata": {
    "ExecuteTime": {
     "end_time": "2024-05-19T07:36:59.801408Z",
     "start_time": "2024-05-19T07:36:59.612533Z"
    }
   },
   "cell_type": "code",
   "source": "Ljung_Box_Test(garch_1_1_t.resid ** 2, 15)",
   "id": "5bcf63d383d159cf",
   "outputs": [
    {
     "data": {
      "text/plain": [
       "        lb_stat      lb_pvalue\n",
       "1    310.283164   1.894695e-69\n",
       "2    765.879689  4.912909e-167\n",
       "3   1030.635609  4.066628e-223\n",
       "4   1168.392167  1.132834e-251\n",
       "5   1612.528929   0.000000e+00\n",
       "6   1733.541124   0.000000e+00\n",
       "7   1961.243833   0.000000e+00\n",
       "8   2104.144003   0.000000e+00\n",
       "9   2179.311696   0.000000e+00\n",
       "10  2349.854385   0.000000e+00\n",
       "11  2381.093533   0.000000e+00\n",
       "12  2434.551098   0.000000e+00\n",
       "13  2502.856561   0.000000e+00\n",
       "14  2529.601391   0.000000e+00\n",
       "15  2600.564483   0.000000e+00"
      ],
      "text/html": [
       "<div>\n",
       "<style scoped>\n",
       "    .dataframe tbody tr th:only-of-type {\n",
       "        vertical-align: middle;\n",
       "    }\n",
       "\n",
       "    .dataframe tbody tr th {\n",
       "        vertical-align: top;\n",
       "    }\n",
       "\n",
       "    .dataframe thead th {\n",
       "        text-align: right;\n",
       "    }\n",
       "</style>\n",
       "<table border=\"1\" class=\"dataframe\">\n",
       "  <thead>\n",
       "    <tr style=\"text-align: right;\">\n",
       "      <th></th>\n",
       "      <th>lb_stat</th>\n",
       "      <th>lb_pvalue</th>\n",
       "    </tr>\n",
       "  </thead>\n",
       "  <tbody>\n",
       "    <tr>\n",
       "      <th>1</th>\n",
       "      <td>310.283164</td>\n",
       "      <td>1.894695e-69</td>\n",
       "    </tr>\n",
       "    <tr>\n",
       "      <th>2</th>\n",
       "      <td>765.879689</td>\n",
       "      <td>4.912909e-167</td>\n",
       "    </tr>\n",
       "    <tr>\n",
       "      <th>3</th>\n",
       "      <td>1030.635609</td>\n",
       "      <td>4.066628e-223</td>\n",
       "    </tr>\n",
       "    <tr>\n",
       "      <th>4</th>\n",
       "      <td>1168.392167</td>\n",
       "      <td>1.132834e-251</td>\n",
       "    </tr>\n",
       "    <tr>\n",
       "      <th>5</th>\n",
       "      <td>1612.528929</td>\n",
       "      <td>0.000000e+00</td>\n",
       "    </tr>\n",
       "    <tr>\n",
       "      <th>6</th>\n",
       "      <td>1733.541124</td>\n",
       "      <td>0.000000e+00</td>\n",
       "    </tr>\n",
       "    <tr>\n",
       "      <th>7</th>\n",
       "      <td>1961.243833</td>\n",
       "      <td>0.000000e+00</td>\n",
       "    </tr>\n",
       "    <tr>\n",
       "      <th>8</th>\n",
       "      <td>2104.144003</td>\n",
       "      <td>0.000000e+00</td>\n",
       "    </tr>\n",
       "    <tr>\n",
       "      <th>9</th>\n",
       "      <td>2179.311696</td>\n",
       "      <td>0.000000e+00</td>\n",
       "    </tr>\n",
       "    <tr>\n",
       "      <th>10</th>\n",
       "      <td>2349.854385</td>\n",
       "      <td>0.000000e+00</td>\n",
       "    </tr>\n",
       "    <tr>\n",
       "      <th>11</th>\n",
       "      <td>2381.093533</td>\n",
       "      <td>0.000000e+00</td>\n",
       "    </tr>\n",
       "    <tr>\n",
       "      <th>12</th>\n",
       "      <td>2434.551098</td>\n",
       "      <td>0.000000e+00</td>\n",
       "    </tr>\n",
       "    <tr>\n",
       "      <th>13</th>\n",
       "      <td>2502.856561</td>\n",
       "      <td>0.000000e+00</td>\n",
       "    </tr>\n",
       "    <tr>\n",
       "      <th>14</th>\n",
       "      <td>2529.601391</td>\n",
       "      <td>0.000000e+00</td>\n",
       "    </tr>\n",
       "    <tr>\n",
       "      <th>15</th>\n",
       "      <td>2600.564483</td>\n",
       "      <td>0.000000e+00</td>\n",
       "    </tr>\n",
       "  </tbody>\n",
       "</table>\n",
       "</div>"
      ]
     },
     "execution_count": 62,
     "metadata": {},
     "output_type": "execute_result"
    }
   ],
   "execution_count": 62
  },
  {
   "metadata": {
    "ExecuteTime": {
     "end_time": "2024-05-19T07:37:04.075471Z",
     "start_time": "2024-05-19T07:37:03.614119Z"
    }
   },
   "cell_type": "code",
   "source": "plot_autocorrelations(['resid^2'], [garch_1_1_t.resid ** 2])",
   "id": "3099246a132f7c2a",
   "outputs": [
    {
     "data": {
      "text/plain": [
       "<Figure size 1500x500 with 2 Axes>"
      ],
      "image/png": "[encoded data removed]"
     },
     "metadata": {},
     "output_type": "display_data"
    }
   ],
   "execution_count": 63
  },
  {
   "metadata": {},
   "cell_type": "markdown",
   "source": "Check the skewt distribution of the standardized residuals",
   "id": "c318600d8435f266"
  },
  {
   "metadata": {
    "ExecuteTime": {
     "end_time": "2024-05-19T07:37:06.474320Z",
     "start_time": "2024-05-19T07:37:05.888321Z"
    }
   },
   "cell_type": "code",
   "source": [
    "import numpy as np\n",
    "import matplotlib.pyplot as plt\n",
    "from scipy.stats import skewnorm\n",
    "\n",
    "# Assuming 'data' is your data\n",
    "data = std_resid  # replace this with your data\n",
    "\n",
    "# Fit a skewed t-distribution to the data\n",
    "a, loc, scale = skewnorm.fit(data)\n",
    "\n",
    "# Generate a range of values between the min and max of your data\n",
    "x = np.linspace(min(data), max(data), 100)\n",
    "\n",
    "# Calculate the PDF of the fitted distribution\n",
    "pdf = skewnorm.pdf(x, a, loc, scale)\n",
    "\n",
    "# Plot the histogram of your data and the PDF of the fitted distribution\n",
    "plt.hist(data, bins=30, density=True, alpha=0.6, color='g')\n",
    "plt.plot(x, pdf, 'orange')\n",
    "plt.title('Fitting Skewed t-distribution')\n",
    "plt.show()"
   ],
   "id": "4d4b68923f159086",
   "outputs": [
    {
     "data": {
      "text/plain": [
       "<Figure size 640x480 with 1 Axes>"
      ],
      "image/png": "[encoded data removed]"
     },
     "metadata": {},
     "output_type": "display_data"
    }
   ],
   "execution_count": 64
  },
  {
   "metadata": {},
   "cell_type": "markdown",
   "source": "Forecasting volatility",
   "id": "27646864e5db7664"
  },
  {
   "metadata": {
    "ExecuteTime": {
     "end_time": "2024-05-19T07:37:33.952893Z",
     "start_time": "2024-05-19T07:37:33.716142Z"
    }
   },
   "cell_type": "code",
   "source": "from vol_models import GARCHModel",
   "id": "16d2ca22f32839b4",
   "outputs": [],
   "execution_count": 65
  },
  {
   "metadata": {},
   "cell_type": "markdown",
   "source": "GARCH forecasting",
   "id": "48d763915d96e349"
  },
  {
   "metadata": {
    "ExecuteTime": {
     "end_time": "2024-05-19T07:37:41.928932Z",
     "start_time": "2024-05-19T07:37:41.740093Z"
    }
   },
   "cell_type": "code",
   "source": [
    "import numpy as np\n",
    "from arch import arch_model\n",
    "from tqdm import tqdm\n",
    "\n",
    "\n",
    "def forecast_volatility_with_GARCH(train, validation, dates, window_size, horizon, model):\n",
    "    # Create lists to store the predictions, actual values and prediction dates\n",
    "    predictions = []\n",
    "    prediction_dates = []\n",
    "    params = []\n",
    "\n",
    "    # Perform rolling window validation\n",
    "    for i in tqdm(range(window_size, len(train) + len(validation), horizon)):\n",
    "        if i < len(train):\n",
    "            train_temp = train[:i]\n",
    "        else:\n",
    "            train_temp = returns[i - window_size:i]\n",
    "        model.fit_garch_model(train_temp, disp='off')\n",
    "        pred = model.forecast(horizon=horizon)\n",
    "        predictions.extend(pred.variance.values[-1, :] ** 0.5)\n",
    "        # Add the corresponding dates to the prediction_dates list\n",
    "        prediction_dates.extend(dates[i:i+horizon])\n",
    "        params.append(model.result.params)\n",
    "\n",
    "    predictions = predictions[:len(validation)]\n",
    "    prediction_dates = prediction_dates[:len(validation)]\n",
    "\n",
    "    return predictions, prediction_dates, params\n"
   ],
   "id": "d3855bcd1e0447c4",
   "outputs": [],
   "execution_count": 66
  },
  {
   "metadata": {
    "ExecuteTime": {
     "end_time": "2024-05-19T07:37:44.261916Z",
     "start_time": "2024-05-19T07:37:44.018439Z"
    }
   },
   "cell_type": "code",
   "source": [
    "import warnings\n",
    "from scipy.optimize import OptimizeWarning\n",
    "\n",
    "warnings.filterwarnings(action='ignore', category=OptimizeWarning)"
   ],
   "id": "d43abaafc22d4836",
   "outputs": [],
   "execution_count": 67
  },
  {
   "metadata": {
    "ExecuteTime": {
     "end_time": "2024-05-19T07:41:28.137675Z",
     "start_time": "2024-05-19T07:41:27.937634Z"
    }
   },
   "cell_type": "code",
   "source": [
    "def calculate_r_square(real, prediction):\n",
    "    return 1 - np.sum((real - prediction) ** 2) / np.sum((real - np.mean(real)) ** 2)"
   ],
   "id": "2111cdd45d49a24d",
   "outputs": [],
   "execution_count": 69
  },
  {
   "metadata": {},
   "cell_type": "code",
   "outputs": [],
   "execution_count": null,
   "source": [
    "def calculate_adjusted_r_square(real, predictions, p):\n",
    "    n = len(real)\n",
    "    return 1 - (1 - calculate_r_square(real, predictions)) * (n - 1) / (n - p - 1)"
   ],
   "id": "970ced16f5e141e4"
  },
  {
   "metadata": {
    "ExecuteTime": {
     "end_time": "2024-05-19T08:50:16.949143Z",
     "start_time": "2024-05-19T08:49:53.312173Z"
    }
   },
   "cell_type": "code",
   "source": [
    "from sklearn.metrics import mean_squared_error\n",
    "\n",
    "# Assuming 'daily_data' is your DataFrame and 'residuals*100' is the column you want to model\n",
    "residuals = (daily_data['ARIMA_res']).values\n",
    "\n",
    "# Get the dates from the DataFrame\n",
    "dates = daily_data.index.values\n",
    "\n",
    "# Split the data into training, validation and testing sets\n",
    "train_size = int(len(residuals) * 8 / 9)\n",
    "train, validation= residuals[:train_size], residuals[train_size:],\n",
    "\n",
    "real_volatility_validation = daily_data['rv5'].values[train_size:]\n",
    "\n",
    "\n",
    "# Define the initial window size and the forecast horizon\n",
    "window_size = len(train)  # Adjust as needed\n",
    "horizon = 1  # Adjust as needed\n",
    "\n",
    "p_values = range(1, 2)\n",
    "q_values = range(1, 2)\n",
    "\n",
    "best_r_square = -np.inf\n",
    "best_param_r_square = None\n",
    "best_mse = np.inf\n",
    "best_param_mse = None\n",
    "best_mae = np.inf\n",
    "best_param_mae = None\n",
    "# Define the distributions\n",
    "# distributions = ['normal', 't', 'skewt']\n",
    "distributions = ['skewt']\n",
    "for dist in distributions:\n",
    "    for p in p_values:\n",
    "        for q in q_values:\n",
    "            # Fit the GARCH model\n",
    "            garch_model = GARCHModel(p,q, dist = dist)\n",
    "            predictions, prediction_dates, params = forecast_volatility_with_GARCH(train, validation, dates, window_size, horizon, garch_model)\n",
    "            predictions = [x for x in predictions]\n",
    "            # RMSE error\n",
    "            rmse =  mean_squared_error(real_volatility_validation, predictions) ** 0.5\n",
    "            mae = np.mean(np.abs(real_volatility_validation - predictions))\n",
    "            r_square = calculate_r_square(real_volatility_validation, predictions)\n",
    "            print(f\"MSE for GARCH({p},{q}) with {dist} distribution: {rmse}\")\n",
    "            print(f\"MAE for GARCH({p},{q}) with {dist} distribution: {mae}\")\n",
    "            print(f\"R^2 for GARCH({p},{q}) with {dist} distribution: {r_square}\")\n",
    "            if rmse < best_mse:\n",
    "                best_mse = rmse\n",
    "                best_param_mse = (p, q, dist)\n",
    "            if mae < best_mae:\n",
    "                best_mae = mae\n",
    "                best_param_mae = (p, q, dist)\n",
    "            if r_square > best_r_square:\n",
    "                best_r_square = r_square\n",
    "                best_param_r_square = (p, q, dist)\n",
    "\n",
    "print(f\"Best MSE model: GARCH{best_param_mse} with RMSE={best_mse}\")\n",
    "print(f\"Best MAE model: GARCH{best_param_mae} with MAE={best_mae}\")\n",
    "print(f\"Best R^2 model: GARCH{best_param_r_square} with R^2={best_r_square}\")\n",
    "\n"
   ],
   "id": "9b54f456f4e7ebe0",
   "outputs": [
    {
     "name": "stderr",
     "output_type": "stream",
     "text": [
      "100%|██████████| 209/209 [00:23<00:00,  8.94it/s]"
     ]
    },
    {
     "name": "stdout",
     "output_type": "stream",
     "text": [
      "MSE for GARCH(1,1) with skewt distribution: 0.0027968532023917476\n",
      "MAE for GARCH(1,1) with skewt distribution: 0.002238533856572491\n",
      "R^2 for GARCH(1,1) with skewt distribution: -0.009755897174979156\n",
      "Best MSE model: GARCH(1, 1, 'skewt') with RMSE=0.0027968532023917476\n",
      "Best MAE model: GARCH(1, 1, 'skewt') with MAE=0.002238533856572491\n",
      "Best R^2 model: GARCH(1, 1, 'skewt') with R^2=-0.009755897174979156\n"
     ]
    },
    {
     "name": "stderr",
     "output_type": "stream",
     "text": [
      "\n"
     ]
    }
   ],
   "execution_count": 136
  },
  {
   "metadata": {},
   "cell_type": "code",
   "outputs": [],
   "execution_count": null,
   "source": "# TODO: adjusted r-squared for GARCH",
   "id": "e7be6663ceba9b3"
  },
  {
   "metadata": {},
   "cell_type": "markdown",
   "source": "Best model",
   "id": "120df0b22b9c1178"
  },
  {
   "metadata": {
    "ExecuteTime": {
     "end_time": "2024-05-19T07:48:09.342953Z",
     "start_time": "2024-05-19T07:47:40.504940Z"
    }
   },
   "cell_type": "code",
   "source": [
    "garch_model = GARCHModel(1,1, dist = 'skewt')\n",
    "predictions, prediction_dates, params = forecast_volatility_with_GARCH(train, validation, dates, window_size, horizon, garch_model)"
   ],
   "id": "3b652b336b19edaf",
   "outputs": [
    {
     "name": "stderr",
     "output_type": "stream",
     "text": [
      "100%|██████████| 209/209 [00:28<00:00,  7.30it/s]\n"
     ]
    }
   ],
   "execution_count": 72
  },
  {
   "metadata": {
    "ExecuteTime": {
     "end_time": "2024-05-19T07:48:48.260958Z",
     "start_time": "2024-05-19T07:48:47.280648Z"
    }
   },
   "cell_type": "code",
   "source": [
    "plt.plot(prediction_dates, predictions, label='Predicted Volatility', color = 'r')\n",
    "plt.plot(prediction_dates, real_volatility_validation, label='Real Volatility')"
   ],
   "id": "712438f14bf80ea9",
   "outputs": [
    {
     "data": {
      "text/plain": [
       "[<matplotlib.lines.Line2D at 0x1f20d866090>]"
      ]
     },
     "execution_count": 73,
     "metadata": {},
     "output_type": "execute_result"
    },
    {
     "data": {
      "text/plain": [
       "<Figure size 640x480 with 1 Axes>"
      ],
      "image/png": "[encoded data removed]"
     },
     "metadata": {},
     "output_type": "display_data"
    }
   ],
   "execution_count": 73
  },
  {
   "metadata": {},
   "cell_type": "markdown",
   "source": "VAR models",
   "id": "44aead1543148c1b"
  },
  {
   "metadata": {},
   "cell_type": "markdown",
   "source": "Stationarity Test",
   "id": "9607218299fb3f48"
  },
  {
   "metadata": {
    "ExecuteTime": {
     "end_time": "2024-05-19T07:57:13.840562Z",
     "start_time": "2024-05-19T07:57:12.702694Z"
    }
   },
   "cell_type": "code",
   "source": [
    "for column in data.columns:\n",
    "    print(column)\n",
    "    stationarity_test(data[column])"
   ],
   "id": "921a97ca1e45401",
   "outputs": [
    {
     "name": "stdout",
     "output_type": "stream",
     "text": [
      "rv5\n",
      "ADF Statistic: -5.506782\n",
      "p-value: 0.000002\n",
      "Critical Values:\n",
      "\t1%: -3.434\n",
      "\t5%: -2.863\n",
      "\t10%: -2.568\n",
      "return\n",
      "ADF Statistic: -12.820992\n",
      "p-value: 0.000000\n",
      "Critical Values:\n",
      "\t1%: -3.434\n",
      "\t5%: -2.863\n",
      "\t10%: -2.568\n",
      "ADS\n",
      "ADF Statistic: -5.162393\n",
      "p-value: 0.000010\n",
      "Critical Values:\n",
      "\t1%: -3.434\n",
      "\t5%: -2.863\n",
      "\t10%: -2.568\n",
      "USEPUINDXD\n",
      "ADF Statistic: -3.695521\n",
      "p-value: 0.004177\n",
      "Critical Values:\n",
      "\t1%: -3.434\n",
      "\t5%: -2.863\n",
      "\t10%: -2.568\n",
      "VIX\n",
      "ADF Statistic: -4.470758\n",
      "p-value: 0.000222\n",
      "Critical Values:\n",
      "\t1%: -3.434\n",
      "\t5%: -2.863\n",
      "\t10%: -2.568\n",
      "13wb_return\n",
      "ADF Statistic: -8.674221\n",
      "p-value: 0.000000\n",
      "Critical Values:\n",
      "\t1%: -3.434\n",
      "\t5%: -2.863\n",
      "\t10%: -2.568\n",
      "credit_spread\n",
      "ADF Statistic: -0.236199\n",
      "p-value: 0.934067\n",
      "Critical Values:\n",
      "\t1%: -3.434\n",
      "\t5%: -2.863\n",
      "\t10%: -2.568\n",
      "dollar_index_return\n",
      "ADF Statistic: -40.036553\n",
      "p-value: 0.000000\n",
      "Critical Values:\n",
      "\t1%: -3.434\n",
      "\t5%: -2.863\n",
      "\t10%: -2.568\n",
      "Volume\n",
      "ADF Statistic: -3.768654\n",
      "p-value: 0.003245\n",
      "Critical Values:\n",
      "\t1%: -3.434\n",
      "\t5%: -2.863\n",
      "\t10%: -2.568\n"
     ]
    }
   ],
   "execution_count": 94
  },
  {
   "metadata": {
    "ExecuteTime": {
     "end_time": "2024-05-19T07:59:38.611468Z",
     "start_time": "2024-05-19T07:59:37.401448Z"
    }
   },
   "cell_type": "code",
   "source": [
    "import pandas as pd\n",
    "from statsmodels.tsa.stattools import grangercausalitytests\n",
    "\n",
    "# Assuming 'data' is your DataFrame\n",
    "maxlag = 12\n",
    "test = 'ssr_chi2test'\n",
    "\n",
    "def grangers_causation_matrix(data, variables, test='ssr_chi2test', verbose=False):    \n",
    "    df = pd.DataFrame(np.zeros((len(variables), len(variables))), columns=variables, index=variables)\n",
    "    for c in ['rv5']:\n",
    "        for r in df.index:\n",
    "            test_result = grangercausalitytests(data[[r, c]], maxlag=maxlag, verbose=False)\n",
    "            p_values = [round(test_result[i+1][0][test][1],10) for i in range(maxlag)]\n",
    "            if verbose: print(f'Y = {r}, X = {c}, P Values = {p_values}')\n",
    "            min_p_value = np.min(p_values)\n",
    "            df.loc[r, c] = min_p_value\n",
    "    df.columns = [var + '_x' for var in variables]\n",
    "    df.index = [var + '_y' for var in variables]\n",
    "    return df\n",
    "\n",
    "grangers_causation_matrix(data, variables = data.columns, verbose=True)"
   ],
   "id": "cc158ad1f1e61432",
   "outputs": [
    {
     "name": "stdout",
     "output_type": "stream",
     "text": [
      "Y = rv5, X = rv5, P Values = [1.0, 1.0, 1.0, 1.0, 1.0, 1.0, 1.0, 1.0, 1.0, 1.0, 1.0, 1.0]\n",
      "Y = return, X = rv5, P Values = [0.8720203255, 6e-10, 2.8e-09, 2e-10, 0.0, 0.0, 0.0, 0.0, 0.0, 0.0, 0.0, 0.0]\n",
      "Y = ADS, X = rv5, P Values = [0.0, 0.0, 1e-10, 0.0, 0.0, 0.0, 0.0, 0.0, 0.0, 0.0, 0.0, 0.0]\n",
      "Y = USEPUINDXD, X = rv5, P Values = [0.0, 0.0, 0.0, 0.0, 0.0, 0.0, 0.0, 0.0, 0.0, 0.0, 0.0, 0.0]\n",
      "Y = VIX, X = rv5, P Values = [0.173000047, 3e-10, 8.1e-09, 0.0, 0.0, 0.0, 0.0, 0.0, 0.0, 0.0, 0.0, 0.0]\n",
      "Y = 13wb_return, X = rv5, P Values = [0.0020843311, 0.0, 0.0, 0.0, 0.0, 0.0, 0.0, 0.0, 0.0, 0.0, 0.0, 0.0]\n",
      "Y = credit_spread, X = rv5, P Values = [0.0013656127, 0.004006935, 0.0033367329, 0.0012817524, 1e-10, 3e-10, 2e-10, 0.0, 0.0, 0.0, 0.0, 0.0]\n",
      "Y = dollar_index_return, X = rv5, P Values = [0.0029184345, 0.0047106527, 0.010172074, 0.0101024185, 8.59625e-05, 3.41587e-05, 7.89358e-05, 0.0002024202, 0.0001437081, 0.0001403713, 9.17652e-05, 0.0001985759]\n",
      "Y = Volume, X = rv5, P Values = [0.0, 0.0, 0.0, 0.0, 3e-10, 1e-09, 4.5e-09, 7.6e-09, 5.6e-09, 1.35e-08, 2.13e-08, 9.7e-09]\n"
     ]
    },
    {
     "data": {
      "text/plain": [
       "                          rv5_x  return_x  ADS_x  USEPUINDXD_x  VIX_x  \\\n",
       "rv5_y                  1.000000       0.0    0.0           0.0    0.0   \n",
       "return_y               0.000000       0.0    0.0           0.0    0.0   \n",
       "ADS_y                  0.000000       0.0    0.0           0.0    0.0   \n",
       "USEPUINDXD_y           0.000000       0.0    0.0           0.0    0.0   \n",
       "VIX_y                  0.000000       0.0    0.0           0.0    0.0   \n",
       "13wb_return_y          0.000000       0.0    0.0           0.0    0.0   \n",
       "credit_spread_y        0.000000       0.0    0.0           0.0    0.0   \n",
       "dollar_index_return_y  0.000034       0.0    0.0           0.0    0.0   \n",
       "Volume_y               0.000000       0.0    0.0           0.0    0.0   \n",
       "\n",
       "                       13wb_return_x  credit_spread_x  dollar_index_return_x  \\\n",
       "rv5_y                            0.0              0.0                    0.0   \n",
       "return_y                         0.0              0.0                    0.0   \n",
       "ADS_y                            0.0              0.0                    0.0   \n",
       "USEPUINDXD_y                     0.0              0.0                    0.0   \n",
       "VIX_y                            0.0              0.0                    0.0   \n",
       "13wb_return_y                    0.0              0.0                    0.0   \n",
       "credit_spread_y                  0.0              0.0                    0.0   \n",
       "dollar_index_return_y            0.0              0.0                    0.0   \n",
       "Volume_y                         0.0              0.0                    0.0   \n",
       "\n",
       "                       Volume_x  \n",
       "rv5_y                       0.0  \n",
       "return_y                    0.0  \n",
       "ADS_y                       0.0  \n",
       "USEPUINDXD_y                0.0  \n",
       "VIX_y                       0.0  \n",
       "13wb_return_y               0.0  \n",
       "credit_spread_y             0.0  \n",
       "dollar_index_return_y       0.0  \n",
       "Volume_y                    0.0  "
      ],
      "text/html": [
       "<div>\n",
       "<style scoped>\n",
       "    .dataframe tbody tr th:only-of-type {\n",
       "        vertical-align: middle;\n",
       "    }\n",
       "\n",
       "    .dataframe tbody tr th {\n",
       "        vertical-align: top;\n",
       "    }\n",
       "\n",
       "    .dataframe thead th {\n",
       "        text-align: right;\n",
       "    }\n",
       "</style>\n",
       "<table border=\"1\" class=\"dataframe\">\n",
       "  <thead>\n",
       "    <tr style=\"text-align: right;\">\n",
       "      <th></th>\n",
       "      <th>rv5_x</th>\n",
       "      <th>return_x</th>\n",
       "      <th>ADS_x</th>\n",
       "      <th>USEPUINDXD_x</th>\n",
       "      <th>VIX_x</th>\n",
       "      <th>13wb_return_x</th>\n",
       "      <th>credit_spread_x</th>\n",
       "      <th>dollar_index_return_x</th>\n",
       "      <th>Volume_x</th>\n",
       "    </tr>\n",
       "  </thead>\n",
       "  <tbody>\n",
       "    <tr>\n",
       "      <th>rv5_y</th>\n",
       "      <td>1.000000</td>\n",
       "      <td>0.0</td>\n",
       "      <td>0.0</td>\n",
       "      <td>0.0</td>\n",
       "      <td>0.0</td>\n",
       "      <td>0.0</td>\n",
       "      <td>0.0</td>\n",
       "      <td>0.0</td>\n",
       "      <td>0.0</td>\n",
       "    </tr>\n",
       "    <tr>\n",
       "      <th>return_y</th>\n",
       "      <td>0.000000</td>\n",
       "      <td>0.0</td>\n",
       "      <td>0.0</td>\n",
       "      <td>0.0</td>\n",
       "      <td>0.0</td>\n",
       "      <td>0.0</td>\n",
       "      <td>0.0</td>\n",
       "      <td>0.0</td>\n",
       "      <td>0.0</td>\n",
       "    </tr>\n",
       "    <tr>\n",
       "      <th>ADS_y</th>\n",
       "      <td>0.000000</td>\n",
       "      <td>0.0</td>\n",
       "      <td>0.0</td>\n",
       "      <td>0.0</td>\n",
       "      <td>0.0</td>\n",
       "      <td>0.0</td>\n",
       "      <td>0.0</td>\n",
       "      <td>0.0</td>\n",
       "      <td>0.0</td>\n",
       "    </tr>\n",
       "    <tr>\n",
       "      <th>USEPUINDXD_y</th>\n",
       "      <td>0.000000</td>\n",
       "      <td>0.0</td>\n",
       "      <td>0.0</td>\n",
       "      <td>0.0</td>\n",
       "      <td>0.0</td>\n",
       "      <td>0.0</td>\n",
       "      <td>0.0</td>\n",
       "      <td>0.0</td>\n",
       "      <td>0.0</td>\n",
       "    </tr>\n",
       "    <tr>\n",
       "      <th>VIX_y</th>\n",
       "      <td>0.000000</td>\n",
       "      <td>0.0</td>\n",
       "      <td>0.0</td>\n",
       "      <td>0.0</td>\n",
       "      <td>0.0</td>\n",
       "      <td>0.0</td>\n",
       "      <td>0.0</td>\n",
       "      <td>0.0</td>\n",
       "      <td>0.0</td>\n",
       "    </tr>\n",
       "    <tr>\n",
       "      <th>13wb_return_y</th>\n",
       "      <td>0.000000</td>\n",
       "      <td>0.0</td>\n",
       "      <td>0.0</td>\n",
       "      <td>0.0</td>\n",
       "      <td>0.0</td>\n",
       "      <td>0.0</td>\n",
       "      <td>0.0</td>\n",
       "      <td>0.0</td>\n",
       "      <td>0.0</td>\n",
       "    </tr>\n",
       "    <tr>\n",
       "      <th>credit_spread_y</th>\n",
       "      <td>0.000000</td>\n",
       "      <td>0.0</td>\n",
       "      <td>0.0</td>\n",
       "      <td>0.0</td>\n",
       "      <td>0.0</td>\n",
       "      <td>0.0</td>\n",
       "      <td>0.0</td>\n",
       "      <td>0.0</td>\n",
       "      <td>0.0</td>\n",
       "    </tr>\n",
       "    <tr>\n",
       "      <th>dollar_index_return_y</th>\n",
       "      <td>0.000034</td>\n",
       "      <td>0.0</td>\n",
       "      <td>0.0</td>\n",
       "      <td>0.0</td>\n",
       "      <td>0.0</td>\n",
       "      <td>0.0</td>\n",
       "      <td>0.0</td>\n",
       "      <td>0.0</td>\n",
       "      <td>0.0</td>\n",
       "    </tr>\n",
       "    <tr>\n",
       "      <th>Volume_y</th>\n",
       "      <td>0.000000</td>\n",
       "      <td>0.0</td>\n",
       "      <td>0.0</td>\n",
       "      <td>0.0</td>\n",
       "      <td>0.0</td>\n",
       "      <td>0.0</td>\n",
       "      <td>0.0</td>\n",
       "      <td>0.0</td>\n",
       "      <td>0.0</td>\n",
       "    </tr>\n",
       "  </tbody>\n",
       "</table>\n",
       "</div>"
      ]
     },
     "execution_count": 95,
     "metadata": {},
     "output_type": "execute_result"
    }
   ],
   "execution_count": 95
  },
  {
   "metadata": {
    "ExecuteTime": {
     "end_time": "2024-05-19T08:00:15.241230Z",
     "start_time": "2024-05-19T08:00:15.043203Z"
    }
   },
   "cell_type": "code",
   "source": "data.drop(['return'], axis = 1, inplace = True)",
   "id": "de14b028376a387c",
   "outputs": [],
   "execution_count": 96
  },
  {
   "metadata": {
    "ExecuteTime": {
     "end_time": "2024-05-19T08:57:55.605202Z",
     "start_time": "2024-05-19T08:57:55.122616Z"
    }
   },
   "cell_type": "code",
   "source": [
    "from statsmodels.tsa.api import VAR\n",
    "from sklearn.model_selection import train_test_split\n",
    "from sklearn.metrics import mean_squared_error\n",
    "from sklearn.preprocessing import MinMaxScaler\n",
    "\n",
    "# Assuming 'df' is your DataFrame\n",
    "scaler = MinMaxScaler()\n",
    "# Fit the scaler to the DataFrame and transform it\n",
    "\n",
    "# Assuming 'data' is your DataFrame\n",
    "# Split the data into training, validation, and testing sets\n",
    "train_data = data.iloc[:-int(len(data) * 1/9)]\n",
    "valid_data = data.iloc[-int(len(data) * 1/9):]\n",
    "\n",
    "\n",
    "train_data_scaled = pd.DataFrame(scaler.fit_transform(train_data), columns=train_data.columns, index=train_data.index)\n",
    "valid_data_scaled = pd.DataFrame(scaler.transform(valid_data), columns=valid_data.columns, index=valid_data.index)\n",
    "\n",
    "# Define the range of values for the order\n",
    "max_order = 10\n",
    "steps = 30\n",
    "# Initialize variables to store the best results\n",
    "best_bic = float('inf')\n",
    "best_aic = float('inf')\n",
    "best_mse = float('inf')\n",
    "best_mae = float('inf')\n",
    "best_order_bic = None\n",
    "best_order_aic = None\n",
    "best_order_mse = None\n",
    "best_order_mae = None\n",
    "\n",
    "model = VAR(train_data_scaled)\n",
    "\n",
    "# Iterate over all orders\n",
    "for i in range(1, max_order+1):\n",
    "    # Fit the VAR model\n",
    "    result = model.fit(i)\n",
    "\n",
    "    # Update the best BIC model\n",
    "    if result.bic < best_bic:\n",
    "        best_bic = result.bic\n",
    "        best_order_bic = i\n",
    "\n",
    "    # Update the best AIC model\n",
    "    if result.aic < best_aic:\n",
    "        best_aic = result.aic\n",
    "        best_order_aic = i\n",
    "    \n",
    "        \n",
    "    forecast_scaled = result.forecast(train_data_scaled.values[-i:], steps=steps)\n",
    "    # Calculate the MSE\n",
    "    mse = mean_squared_error(valid_data_scaled.iloc[:steps], forecast_scaled)\n",
    "    mae = np.mean(np.abs(valid_data_scaled.iloc[:steps] - forecast_scaled))\n",
    "    \n",
    "        # Update the best model\n",
    "    if mse < best_mse:\n",
    "        best_mse = mse\n",
    "        best_order_mse = i\n",
    "\n",
    "\n",
    "\n",
    "    \n",
    "    # print(f\"Order {i} fitted\")\n",
    "    # print(\"BIC: \", result.bic)\n",
    "    # print(\"AIC: \", result.aic)\n",
    "\n",
    "print(f\"Best MSE model: VAR({best_order_mse}) with MSE={best_mse}\")\n",
    "# Print the best models\n",
    "print(f\"Best BIC model: VAR({best_order_bic}) with BIC={best_bic}\")\n",
    "print(f\"Best AIC model: VAR({best_order_aic}) with AIC={best_aic}\")"
   ],
   "id": "55b2f5a4b153dc9c",
   "outputs": [
    {
     "name": "stdout",
     "output_type": "stream",
     "text": [
      "Best MSE model: VAR(9) with MSE=0.008242962076429678\n",
      "Best BIC model: VAR(6) with BIC=-61.78467320060463\n",
      "Best AIC model: VAR(10) with AIC=-63.86140748479809\n"
     ]
    }
   ],
   "execution_count": 168
  },
  {
   "metadata": {
    "ExecuteTime": {
     "end_time": "2024-05-19T08:42:59.945263Z",
     "start_time": "2024-05-19T08:42:59.538277Z"
    }
   },
   "cell_type": "code",
   "source": "model.select_order(10).summary()",
   "id": "355c4cc5d1e31892",
   "outputs": [
    {
     "data": {
      "text/plain": [
       "<class 'statsmodels.iolib.table.SimpleTable'>"
      ],
      "text/html": [
       "<table class=\"simpletable\">\n",
       "<caption>VAR Order Selection (* highlights the minimums)</caption>\n",
       "<tr>\n",
       "   <td></td>      <th>AIC</th>         <th>BIC</th>         <th>FPE</th>        <th>HQIC</th>    \n",
       "</tr>\n",
       "<tr>\n",
       "  <th>0</th>  <td>     29.39</td>  <td>     29.42</td>  <td> 5.813e+12</td>  <td>     29.40</td> \n",
       "</tr>\n",
       "<tr>\n",
       "  <th>1</th>  <td>     15.11</td>  <td>     15.36</td>  <td> 3.633e+06</td>  <td>     15.20</td> \n",
       "</tr>\n",
       "<tr>\n",
       "  <th>2</th>  <td>     14.26</td>  <td>     14.74</td>  <td> 1.553e+06</td>  <td>     14.44</td> \n",
       "</tr>\n",
       "<tr>\n",
       "  <th>3</th>  <td>     13.95</td>  <td>     14.66</td>  <td> 1.147e+06</td>  <td>     14.22</td> \n",
       "</tr>\n",
       "<tr>\n",
       "  <th>4</th>  <td>     13.75</td>  <td>     14.69</td>  <td> 9.375e+05</td>  <td>     14.10</td> \n",
       "</tr>\n",
       "<tr>\n",
       "  <th>5</th>  <td>     13.59</td>  <td>     14.76</td>  <td> 8.005e+05</td>  <td>     14.03</td> \n",
       "</tr>\n",
       "<tr>\n",
       "  <th>6</th>  <td>     12.83</td>  <td>     14.22*</td> <td> 3.720e+05</td>  <td>     13.35</td> \n",
       "</tr>\n",
       "<tr>\n",
       "  <th>7</th>  <td>     12.74</td>  <td>     14.36</td>  <td> 3.406e+05</td>  <td>     13.34*</td>\n",
       "</tr>\n",
       "<tr>\n",
       "  <th>8</th>  <td>     12.68</td>  <td>     14.53</td>  <td> 3.210e+05</td>  <td>     13.37</td> \n",
       "</tr>\n",
       "<tr>\n",
       "  <th>9</th>  <td>     12.57*</td> <td>     14.65</td>  <td> 2.887e+05*</td> <td>     13.35</td> \n",
       "</tr>\n",
       "<tr>\n",
       "  <th>10</th> <td>     12.58</td>  <td>     14.88</td>  <td> 2.900e+05</td>  <td>     13.44</td> \n",
       "</tr>\n",
       "</table>"
      ],
      "text/latex": "\\begin{center}\n\\begin{tabular}{lcccc}\n\\toprule\n            & \\textbf{AIC} & \\textbf{BIC} & \\textbf{FPE} & \\textbf{HQIC}  \\\\\n\\midrule\n\\textbf{0}  &       29.39  &       29.42  &   5.813e+12  &        29.40   \\\\\n\\textbf{1}  &       15.11  &       15.36  &   3.633e+06  &        15.20   \\\\\n\\textbf{2}  &       14.26  &       14.74  &   1.553e+06  &        14.44   \\\\\n\\textbf{3}  &       13.95  &       14.66  &   1.147e+06  &        14.22   \\\\\n\\textbf{4}  &       13.75  &       14.69  &   9.375e+05  &        14.10   \\\\\n\\textbf{5}  &       13.59  &       14.76  &   8.005e+05  &        14.03   \\\\\n\\textbf{6}  &       12.83  &      14.22*  &   3.720e+05  &        13.35   \\\\\n\\textbf{7}  &       12.74  &       14.36  &   3.406e+05  &       13.34*   \\\\\n\\textbf{8}  &       12.68  &       14.53  &   3.210e+05  &        13.37   \\\\\n\\textbf{9}  &      12.57*  &       14.65  &  2.887e+05*  &        13.35   \\\\\n\\textbf{10} &       12.58  &       14.88  &   2.900e+05  &        13.44   \\\\\n\\bottomrule\n\\end{tabular}\n%\\caption{VAR Order Selection (* highlights the minimums)}\n\\end{center}"
     },
     "execution_count": 124,
     "metadata": {},
     "output_type": "execute_result"
    }
   ],
   "execution_count": 124
  },
  {
   "metadata": {
    "ExecuteTime": {
     "end_time": "2024-05-19T08:56:15.757868Z",
     "start_time": "2024-05-19T08:56:15.467778Z"
    }
   },
   "cell_type": "code",
   "source": [
    "model = VAR(train_data)\n",
    "results = model.fit(10)"
   ],
   "id": "a2c598eabe589050",
   "outputs": [],
   "execution_count": 150
  },
  {
   "metadata": {
    "ExecuteTime": {
     "end_time": "2024-05-19T08:53:29.668713Z",
     "start_time": "2024-05-19T08:53:29.415536Z"
    }
   },
   "cell_type": "code",
   "source": "results.summary()",
   "id": "fd44a2c7f1c9287d",
   "outputs": [
    {
     "data": {
      "text/plain": [
       "  Summary of Regression Results   \n",
       "==================================\n",
       "Model:                         VAR\n",
       "Method:                        OLS\n",
       "Date:           Sun, 19, May, 2024\n",
       "Time:                     10:53:29\n",
       "--------------------------------------------------------------------\n",
       "No. of Equations:         8.00000    BIC:                    15.3510\n",
       "Nobs:                     1502.00    HQIC:                   15.1912\n",
       "Log likelihood:          -28315.3    FPE:                3.59932e+06\n",
       "AIC:                      15.0963    Det(Omega_mle):     3.43134e+06\n",
       "--------------------------------------------------------------------\n",
       "Results for equation rv5\n",
       "=========================================================================================\n",
       "                            coefficient       std. error           t-stat            prob\n",
       "-----------------------------------------------------------------------------------------\n",
       "const                         -0.003447         0.000556           -6.195           0.000\n",
       "L1.rv5                         0.388474         0.029380           13.222           0.000\n",
       "L1.ADS                        -0.000109         0.000034           -3.210           0.001\n",
       "L1.USEPUINDXD                 -0.000009         0.000001           -6.275           0.000\n",
       "L1.VIX                         0.000465         0.000032           14.498           0.000\n",
       "L1.13wb_return                 0.001641         0.000658            2.494           0.013\n",
       "L1.credit_spread              -0.000386         0.000174           -2.212           0.027\n",
       "L1.dollar_index_return         0.009768         0.026157            0.373           0.709\n",
       "L1.Volume                      0.000000         0.000000            2.187           0.029\n",
       "=========================================================================================\n",
       "\n",
       "Results for equation ADS\n",
       "=========================================================================================\n",
       "                            coefficient       std. error           t-stat            prob\n",
       "-----------------------------------------------------------------------------------------\n",
       "const                         -0.039121         0.030909           -1.266           0.206\n",
       "L1.rv5                       -14.676792         1.632185           -8.992           0.000\n",
       "L1.ADS                         0.991779         0.001879          527.732           0.000\n",
       "L1.USEPUINDXD                  0.000759         0.000081            9.322           0.000\n",
       "L1.VIX                        -0.001645         0.001782           -0.923           0.356\n",
       "L1.13wb_return                 0.136945         0.036552            3.747           0.000\n",
       "L1.credit_spread               0.001869         0.009691            0.193           0.847\n",
       "L1.dollar_index_return        -1.669907         1.453152           -1.149           0.250\n",
       "L1.Volume                      0.000000         0.000000            2.311           0.021\n",
       "=========================================================================================\n",
       "\n",
       "Results for equation USEPUINDXD\n",
       "=========================================================================================\n",
       "                            coefficient       std. error           t-stat            prob\n",
       "-----------------------------------------------------------------------------------------\n",
       "const                        -21.131333         7.427999           -2.845           0.004\n",
       "L1.rv5                     -2273.340295       392.244669           -5.796           0.000\n",
       "L1.ADS                        -1.497478         0.451637           -3.316           0.001\n",
       "L1.USEPUINDXD                  0.621414         0.019569           31.756           0.000\n",
       "L1.VIX                         4.475613         0.428160           10.453           0.000\n",
       "L1.13wb_return               -26.467910         8.784215           -3.013           0.003\n",
       "L1.credit_spread              -4.043777         2.328989           -1.736           0.083\n",
       "L1.dollar_index_return       519.817783       349.219781            1.489           0.137\n",
       "L1.Volume                      0.000000         0.000000            1.329           0.184\n",
       "=========================================================================================\n",
       "\n",
       "Results for equation VIX\n",
       "=========================================================================================\n",
       "                            coefficient       std. error           t-stat            prob\n",
       "-----------------------------------------------------------------------------------------\n",
       "const                          0.394741         0.287111            1.375           0.169\n",
       "L1.rv5                        22.933899        15.161256            1.513           0.130\n",
       "L1.ADS                        -0.003055         0.017457           -0.175           0.861\n",
       "L1.USEPUINDXD                  0.000779         0.000756            1.030           0.303\n",
       "L1.VIX                         0.920561         0.016549           55.625           0.000\n",
       "L1.13wb_return                 1.049206         0.339532            3.090           0.002\n",
       "L1.credit_spread              -0.110730         0.090021           -1.230           0.219\n",
       "L1.dollar_index_return        -3.441417        13.498234           -0.255           0.799\n",
       "L1.Volume                      0.000000         0.000000            2.984           0.003\n",
       "=========================================================================================\n",
       "\n",
       "Results for equation 13wb_return\n",
       "=========================================================================================\n",
       "                            coefficient       std. error           t-stat            prob\n",
       "-----------------------------------------------------------------------------------------\n",
       "const                          0.027356         0.022048            1.241           0.215\n",
       "L1.rv5                         0.601953         1.164264            0.517           0.605\n",
       "L1.ADS                        -0.000601         0.001341           -0.448           0.654\n",
       "L1.USEPUINDXD                  0.000195         0.000058            3.363           0.001\n",
       "L1.VIX                        -0.003815         0.001271           -3.002           0.003\n",
       "L1.13wb_return                -0.026062         0.026073           -1.000           0.318\n",
       "L1.credit_spread               0.008801         0.006913            1.273           0.203\n",
       "L1.dollar_index_return        -0.422203         1.036557           -0.407           0.684\n",
       "L1.Volume                      0.000000         0.000000            0.032           0.974\n",
       "=========================================================================================\n",
       "\n",
       "Results for equation credit_spread\n",
       "=========================================================================================\n",
       "                            coefficient       std. error           t-stat            prob\n",
       "-----------------------------------------------------------------------------------------\n",
       "const                         -0.005574         0.006765           -0.824           0.410\n",
       "L1.rv5                         0.541104         0.357216            1.515           0.130\n",
       "L1.ADS                         0.000264         0.000411            0.642           0.521\n",
       "L1.USEPUINDXD                 -0.000030         0.000018           -1.668           0.095\n",
       "L1.VIX                         0.000113         0.000390            0.291           0.771\n",
       "L1.13wb_return                 0.028263         0.008000            3.533           0.000\n",
       "L1.credit_spread               0.995237         0.002121          469.230           0.000\n",
       "L1.dollar_index_return        -0.421048         0.318033           -1.324           0.186\n",
       "L1.Volume                      0.000000         0.000000            1.229           0.219\n",
       "=========================================================================================\n",
       "\n",
       "Results for equation dollar_index_return\n",
       "=========================================================================================\n",
       "                            coefficient       std. error           t-stat            prob\n",
       "-----------------------------------------------------------------------------------------\n",
       "const                          0.000246         0.000552            0.446           0.656\n",
       "L1.rv5                         0.058523         0.029127            2.009           0.045\n",
       "L1.ADS                        -0.000006         0.000034           -0.179           0.858\n",
       "L1.USEPUINDXD                 -0.000004         0.000001           -2.836           0.005\n",
       "L1.VIX                         0.000030         0.000032            0.957           0.339\n",
       "L1.13wb_return                -0.001093         0.000652           -1.675           0.094\n",
       "L1.credit_spread               0.000106         0.000173            0.616           0.538\n",
       "L1.dollar_index_return         0.015375         0.025932            0.593           0.553\n",
       "L1.Volume                     -0.000000         0.000000           -1.350           0.177\n",
       "=========================================================================================\n",
       "\n",
       "Results for equation Volume\n",
       "===============================================================================================\n",
       "                                coefficient         std. error           t-stat            prob\n",
       "-----------------------------------------------------------------------------------------------\n",
       "const                     1090536226.852985    86151577.146166           12.658           0.000\n",
       "L1.rv5                    3214362729.900330  4549340496.130109            0.707           0.480\n",
       "L1.ADS                       9717917.764820     5238183.900454            1.855           0.064\n",
       "L1.USEPUINDXD                 113411.507506      226960.005686            0.500           0.617\n",
       "L1.VIX                      42533710.339661     4965897.709033            8.565           0.000\n",
       "L1.13wb_return            -135804585.896195   101881266.392471           -1.333           0.183\n",
       "L1.credit_spread           121436075.375741    27012129.206841            4.496           0.000\n",
       "L1.dollar_index_return  -10252056458.844648  4050328315.098286           -2.531           0.011\n",
       "L1.Volume                          0.480147           0.024574           19.539           0.000\n",
       "===============================================================================================\n",
       "\n",
       "Correlation matrix of residuals\n",
       "                            rv5       ADS  USEPUINDXD       VIX  13wb_return  credit_spread  dollar_index_return    Volume\n",
       "rv5                    1.000000 -0.237054   -0.054000  0.550856    -0.123744      -0.029875            -0.029008  0.319045\n",
       "ADS                   -0.237054  1.000000    0.131003 -0.130634     0.014884       0.102819             0.047057  0.009578\n",
       "USEPUINDXD            -0.054000  0.131003    1.000000 -0.010613    -0.003206      -0.000397            -0.018383  0.015590\n",
       "VIX                    0.550856 -0.130634   -0.010613  1.000000    -0.068889      -0.169927             0.029593  0.267116\n",
       "13wb_return           -0.123744  0.014884   -0.003206 -0.068889     1.000000      -0.221878            -0.043408  0.010006\n",
       "credit_spread         -0.029875  0.102819   -0.000397 -0.169927    -0.221878       1.000000             0.043143 -0.005243\n",
       "dollar_index_return   -0.029008  0.047057   -0.018383  0.029593    -0.043408       0.043143             1.000000  0.076421\n",
       "Volume                 0.319045  0.009578    0.015590  0.267116     0.010006      -0.005243             0.076421  1.000000\n",
       "\n"
      ]
     },
     "execution_count": 142,
     "metadata": {},
     "output_type": "execute_result"
    }
   ],
   "execution_count": 142
  },
  {
   "metadata": {
    "ExecuteTime": {
     "end_time": "2024-05-19T08:56:19.517674Z",
     "start_time": "2024-05-19T08:56:19.318400Z"
    }
   },
   "cell_type": "code",
   "source": [
    "lags = results.k_ar\n",
    "lags"
   ],
   "id": "75ec497f9f3e3846",
   "outputs": [
    {
     "data": {
      "text/plain": [
       "10"
      ]
     },
     "execution_count": 151,
     "metadata": {},
     "output_type": "execute_result"
    }
   ],
   "execution_count": 151
  },
  {
   "metadata": {
    "ExecuteTime": {
     "end_time": "2024-05-19T08:56:19.927309Z",
     "start_time": "2024-05-19T08:56:19.704483Z"
    }
   },
   "cell_type": "code",
   "source": "from tqdm import tqdm",
   "id": "1db0ad06d42ef84c",
   "outputs": [],
   "execution_count": 152
  },
  {
   "metadata": {
    "ExecuteTime": {
     "end_time": "2024-05-19T08:56:20.389182Z",
     "start_time": "2024-05-19T08:56:20.143144Z"
    }
   },
   "cell_type": "code",
   "source": "len(daily_data)",
   "id": "9c91ff5d7f1ac8b0",
   "outputs": [
    {
     "data": {
      "text/plain": [
       "1877"
      ]
     },
     "execution_count": 153,
     "metadata": {},
     "output_type": "execute_result"
    }
   ],
   "execution_count": 153
  },
  {
   "metadata": {
    "ExecuteTime": {
     "end_time": "2024-05-19T08:56:20.618098Z",
     "start_time": "2024-05-19T08:56:20.404807Z"
    }
   },
   "cell_type": "code",
   "source": "len(data)",
   "id": "471dc320c327aefc",
   "outputs": [
    {
     "data": {
      "text/plain": [
       "1690"
      ]
     },
     "execution_count": 154,
     "metadata": {},
     "output_type": "execute_result"
    }
   ],
   "execution_count": 154
  },
  {
   "metadata": {
    "ExecuteTime": {
     "end_time": "2024-05-19T08:58:31.526042Z",
     "start_time": "2024-05-19T08:58:24.579544Z"
    }
   },
   "cell_type": "code",
   "source": [
    "from statsmodels.tsa.api import VAR\n",
    "import numpy as np\n",
    "\n",
    "# Assuming 'data' is your DataFrame\n",
    "# Define the initial window size and the forecast horizon\n",
    "window_size = len(train_data)  # Adjust as needed\n",
    "horizon = 1  # Adjust as needed\n",
    "\n",
    "\n",
    "scaler = MinMaxScaler()\n",
    "data_scaled = pd.DataFrame(scaler.fit_transform(data), columns=data.columns, index=data.index)\n",
    "\n",
    "\n",
    "# Initialize a list to store the predictions\n",
    "predictions = []\n",
    "\n",
    "# Perform rolling window prediction\n",
    "for i in tqdm(range(window_size, len(data))):\n",
    "    # Get the training data for this window\n",
    "    train_scaled = data_scaled.iloc[i-window_size:i]\n",
    "\n",
    "    # Fit the VAR model\n",
    "    model = VAR(train_scaled)\n",
    "    results = model.fit(lags)  # Fit the model with 10 lags\n",
    "\n",
    "    # Make a prediction\n",
    "    pred = results.forecast(train_scaled.values[-lags:], steps=horizon)\n",
    "\n",
    "    # Store the prediction\n",
    "    predictions.append(pred[0])\n",
    "\n",
    "# Convert the predictions list to a numpy array\n",
    "forecast = np.array(scaler.inverse_transform(predictions))"
   ],
   "id": "6fbe5f2ceff9f2e1",
   "outputs": [
    {
     "name": "stderr",
     "output_type": "stream",
     "text": [
      "100%|██████████| 187/187 [00:06<00:00, 27.83it/s]\n"
     ]
    }
   ],
   "execution_count": 169
  },
  {
   "metadata": {
    "ExecuteTime": {
     "end_time": "2024-05-19T08:59:02.532203Z",
     "start_time": "2024-05-19T08:59:02.162005Z"
    }
   },
   "cell_type": "code",
   "source": [
    "plt.plot(forecast[:,0], color = 'r')\n",
    "plt.plot(data['rv5'].iloc[window_size:].values)"
   ],
   "id": "7e9f8a25a32eee",
   "outputs": [
    {
     "data": {
      "text/plain": [
       "[<matplotlib.lines.Line2D at 0x1f21245ee10>]"
      ]
     },
     "execution_count": 172,
     "metadata": {},
     "output_type": "execute_result"
    },
    {
     "data": {
      "text/plain": [
       "<Figure size 640x480 with 1 Axes>"
      ],
      "image/png": "[encoded data removed]"
     },
     "metadata": {},
     "output_type": "display_data"
    }
   ],
   "execution_count": 172
  },
  {
   "metadata": {
    "ExecuteTime": {
     "end_time": "2024-05-19T08:58:33.093864Z",
     "start_time": "2024-05-19T08:58:32.801860Z"
    }
   },
   "cell_type": "code",
   "source": [
    "mse = mean_squared_error(data['rv5'].iloc[window_size:], forecast[:,0]) ** 0.5\n",
    "mae = np.mean(np.abs(data['rv5'].iloc[window_size:] - forecast[:,0]))\n",
    "r_2 = calculate_r_square(data['rv5'].iloc[window_size:], forecast[:,0])\n",
    "print(f\"MSE for VAR: {mse}\")\n",
    "print(f\"MAE for VAR: {mae}\")\n",
    "print(f\"R^2 for VAR: {r_2}\")"
   ],
   "id": "a732762ae32f5fe",
   "outputs": [
    {
     "name": "stdout",
     "output_type": "stream",
     "text": [
      "MSE for VAR: 0.004512120084813223\n",
      "MAE for VAR: 0.0033395074850041707\n",
      "R^2 for VAR: 0.08125594280879145\n"
     ]
    }
   ],
   "execution_count": 171
  },
  {
   "metadata": {},
   "cell_type": "markdown",
   "source": "",
   "id": "f1b8692b0f5d5f1"
  }
 ],
 "metadata": {
  "kernelspec": {
   "display_name": "Python 3",
   "language": "python",
   "name": "python3"
  },
  "language_info": {
   "codemirror_mode": {
    "name": "ipython",
    "version": 2
   },
   "file_extension": ".py",
   "mimetype": "text/x-python",
   "name": "python",
   "nbconvert_exporter": "python",
   "pygments_lexer": "ipython2",
   "version": "2.7.6"
  }
 },
 "nbformat": 4,
 "nbformat_minor": 5
}
